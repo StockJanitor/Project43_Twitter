{
 "cells": [
  {
   "cell_type": "markdown",
   "metadata": {},
   "source": [
    "#### Deep Learning"
   ]
  },
  {
   "cell_type": "markdown",
   "metadata": {},
   "source": [
    "##### Load Libraries and Clean Data"
   ]
  },
  {
   "cell_type": "code",
   "execution_count": 174,
   "metadata": {},
   "outputs": [
    {
     "name": "stderr",
     "output_type": "stream",
     "text": [
      "[nltk_data] Downloading package stopwords to\n",
      "[nltk_data]     C:\\Users\\Gumo\\AppData\\Roaming\\nltk_data...\n",
      "[nltk_data]   Package stopwords is already up-to-date!\n"
     ]
    }
   ],
   "source": [
    "# data / visualization libraries\n",
    "import numpy as np\n",
    "import pandas as pd\n",
    "import matplotlib.pyplot as plt\n",
    "import seaborn as sns\n",
    "%matplotlib inline\n",
    "\n",
    "# nlp libraries\n",
    "import re\n",
    "import string\n",
    "from string import punctuation\n",
    "import nltk\n",
    "from nltk.corpus import stopwords   # to get collection of stopwords\n",
    "nltk.download('stopwords') # download stopwords\n",
    "import pickle\n",
    "\n",
    "# ml libraries\n",
    "from sklearn.metrics import confusion_matrix\n",
    "import tensorflow as tf\n",
    "from keras import datasets, losses\n",
    "from tensorflow.keras.preprocessing.sequence import pad_sequences\n",
    "from tensorflow.keras.preprocessing.text import Tokenizer  # to encode text to int\n",
    "from tensorflow.keras.preprocessing import sequence\n",
    "from sklearn.model_selection import train_test_split\n",
    "from tensorflow.keras.models import Sequential\n",
    "from tensorflow.keras.optimizers import SGD, RMSprop\n",
    "from tensorflow.keras.layers import Embedding, Conv1D, MaxPooling1D, Bidirectional, LSTM, Dense, Dropout\n",
    "from tensorflow.keras.callbacks import ModelCheckpoint, LearningRateScheduler, History   # save model\n",
    "from tensorflow.keras.models import load_model   # load saved model\n",
    "from keras.metrics import Precision, Recall\n",
    "\n",
    "\n",
    "\n"
   ]
  },
  {
   "cell_type": "code",
   "execution_count": 33,
   "metadata": {},
   "outputs": [],
   "source": [
    "######### Functions #########\n",
    "\n",
    "# Regex Remove functions\n",
    "# remove url\n",
    "def remove_url(txt):\n",
    "    return \" \".join(re.sub(\"([^0-9A-Za-z \\t])|(\\w+:\\/\\/\\S+)\", \"\", txt).split())\n",
    "#remove hashtag #\n",
    "def remove_hashtag(txt):\n",
    "    return \" \".join(re.sub(\"([#＃]+)([0-9A-Z_]*[A-Z_]+[a-z0-9_üÀ-ÖØ-öø-ÿ]*)\", \"\", txt).split())\n",
    "# remove mention @\n",
    "def remove_at(txt):\n",
    "    return \" \".join(re.sub(\"(\\@[a-zA-Z0-9_%]*)\", \"\", txt).split())\n",
    "\n",
    "    # remove stopwords and puncturations\n",
    "def get_text_processing(text):\n",
    "    stpword = stopwords.words('english')\n",
    "    stpword.remove('not')\n",
    "    no_punctuation = [char for char in text if char not in string.punctuation]\n",
    "    no_punctuation = ''.join(no_punctuation)\n",
    "    return ' '.join([word for word in no_punctuation.split() if word.lower() not in stpword])\n",
    "\n",
    "# remove url, hashtag, at, stop words, punctuation\n",
    "def removeFunc(a):\n",
    "    x = remove_at(a)\n",
    "    x = remove_hashtag(x)\n",
    "    x = remove_url(x)\n",
    "    x = get_text_processing(x.lower())\n",
    "    return x\n",
    "\n",
    "# Max length of review\n",
    "def get_max_length(x):\n",
    "    review_length = []\n",
    "    for review in x:\n",
    "        review_length.append(len(review))\n",
    "\n",
    "    return int(np.ceil(np.mean(review_length)))\n",
    "\n"
   ]
  },
  {
   "cell_type": "code",
   "execution_count": 3,
   "metadata": {},
   "outputs": [
    {
     "data": {
      "text/html": [
       "<div>\n",
       "<style scoped>\n",
       "    .dataframe tbody tr th:only-of-type {\n",
       "        vertical-align: middle;\n",
       "    }\n",
       "\n",
       "    .dataframe tbody tr th {\n",
       "        vertical-align: top;\n",
       "    }\n",
       "\n",
       "    .dataframe thead th {\n",
       "        text-align: right;\n",
       "    }\n",
       "</style>\n",
       "<table border=\"1\" class=\"dataframe\">\n",
       "  <thead>\n",
       "    <tr style=\"text-align: right;\">\n",
       "      <th></th>\n",
       "      <th>clean_text</th>\n",
       "      <th>category</th>\n",
       "    </tr>\n",
       "  </thead>\n",
       "  <tbody>\n",
       "    <tr>\n",
       "      <th>0</th>\n",
       "      <td>when modi promised “minimum government maximum...</td>\n",
       "      <td>-1.0</td>\n",
       "    </tr>\n",
       "  </tbody>\n",
       "</table>\n",
       "</div>"
      ],
      "text/plain": [
       "                                          clean_text  category\n",
       "0  when modi promised “minimum government maximum...      -1.0"
      ]
     },
     "execution_count": 3,
     "metadata": {},
     "output_type": "execute_result"
    }
   ],
   "source": [
    "# load df1\n",
    "df1 = pd.read_csv('data3/Twitter_Data.csv')\n",
    "df1.head(1)"
   ]
  },
  {
   "cell_type": "code",
   "execution_count": 4,
   "metadata": {},
   "outputs": [
    {
     "data": {
      "text/html": [
       "<div>\n",
       "<style scoped>\n",
       "    .dataframe tbody tr th:only-of-type {\n",
       "        vertical-align: middle;\n",
       "    }\n",
       "\n",
       "    .dataframe tbody tr th {\n",
       "        vertical-align: top;\n",
       "    }\n",
       "\n",
       "    .dataframe thead th {\n",
       "        text-align: right;\n",
       "    }\n",
       "</style>\n",
       "<table border=\"1\" class=\"dataframe\">\n",
       "  <thead>\n",
       "    <tr style=\"text-align: right;\">\n",
       "      <th></th>\n",
       "      <th>clean_text</th>\n",
       "      <th>category</th>\n",
       "    </tr>\n",
       "  </thead>\n",
       "  <tbody>\n",
       "    <tr>\n",
       "      <th>0</th>\n",
       "      <td>Wow. Yall needa step it up @Apple RT @heynyla:...</td>\n",
       "      <td>-1.0</td>\n",
       "    </tr>\n",
       "  </tbody>\n",
       "</table>\n",
       "</div>"
      ],
      "text/plain": [
       "                                          clean_text  category\n",
       "0  Wow. Yall needa step it up @Apple RT @heynyla:...      -1.0"
      ]
     },
     "execution_count": 4,
     "metadata": {},
     "output_type": "execute_result"
    }
   ],
   "source": [
    "# load df2\n",
    "df2 = pd.read_csv('data3/apple-twitter-sentiment-texts.csv')\n",
    "# rename columns\n",
    "df2 = df2.rename(columns={'text': 'clean_text', 'sentiment':'category'})\n",
    "# change values\n",
    "df2['category'] = df2['category'].map({-1: -1.0, 0: 0.0, 1:1.0})\n",
    "df2.head(1)"
   ]
  },
  {
   "cell_type": "code",
   "execution_count": 7,
   "metadata": {},
   "outputs": [
    {
     "data": {
      "text/html": [
       "<div>\n",
       "<style scoped>\n",
       "    .dataframe tbody tr th:only-of-type {\n",
       "        vertical-align: middle;\n",
       "    }\n",
       "\n",
       "    .dataframe tbody tr th {\n",
       "        vertical-align: top;\n",
       "    }\n",
       "\n",
       "    .dataframe thead th {\n",
       "        text-align: right;\n",
       "    }\n",
       "</style>\n",
       "<table border=\"1\" class=\"dataframe\">\n",
       "  <thead>\n",
       "    <tr style=\"text-align: right;\">\n",
       "      <th></th>\n",
       "      <th>clean_text</th>\n",
       "      <th>category</th>\n",
       "    </tr>\n",
       "  </thead>\n",
       "  <tbody>\n",
       "    <tr>\n",
       "      <th>0</th>\n",
       "      <td>agree the poor in india are treated badly thei...</td>\n",
       "      <td>-1.0</td>\n",
       "    </tr>\n",
       "  </tbody>\n",
       "</table>\n",
       "</div>"
      ],
      "text/plain": [
       "                                          clean_text  category\n",
       "0  agree the poor in india are treated badly thei...      -1.0"
      ]
     },
     "execution_count": 7,
     "metadata": {},
     "output_type": "execute_result"
    }
   ],
   "source": [
    "# load df3\n",
    "df3 = pd.read_csv('data3/finalSentimentdata2.csv')\n",
    "# rename columns\n",
    "df3 = df3.rename(columns={'text': 'clean_text', 'sentiment':'category'})\n",
    "# change values\n",
    "df3['category'] = df3['category'].map({'sad': -1.0, 'anger': -1.0, 'fear': -1.0, 'joy':1.0})\n",
    "\n",
    "# change column order\n",
    "df3 = df3[['clean_text','category']]\n",
    "df3.head(1)"
   ]
  },
  {
   "cell_type": "code",
   "execution_count": 8,
   "metadata": {},
   "outputs": [
    {
     "data": {
      "text/html": [
       "<div>\n",
       "<style scoped>\n",
       "    .dataframe tbody tr th:only-of-type {\n",
       "        vertical-align: middle;\n",
       "    }\n",
       "\n",
       "    .dataframe tbody tr th {\n",
       "        vertical-align: top;\n",
       "    }\n",
       "\n",
       "    .dataframe thead th {\n",
       "        text-align: right;\n",
       "    }\n",
       "</style>\n",
       "<table border=\"1\" class=\"dataframe\">\n",
       "  <thead>\n",
       "    <tr style=\"text-align: right;\">\n",
       "      <th></th>\n",
       "      <th>clean_text</th>\n",
       "      <th>category</th>\n",
       "    </tr>\n",
       "  </thead>\n",
       "  <tbody>\n",
       "    <tr>\n",
       "      <th>0</th>\n",
       "      <td>@VirginAmerica What @dhepburn said.</td>\n",
       "      <td>0.0</td>\n",
       "    </tr>\n",
       "  </tbody>\n",
       "</table>\n",
       "</div>"
      ],
      "text/plain": [
       "                            clean_text  category\n",
       "0  @VirginAmerica What @dhepburn said.       0.0"
      ]
     },
     "execution_count": 8,
     "metadata": {},
     "output_type": "execute_result"
    }
   ],
   "source": [
    "# load df4\n",
    "df4 = pd.read_csv('data3/Tweets.csv')\n",
    "# rename columns\n",
    "df4 = df4.rename(columns={'text': 'clean_text', 'airline_sentiment':'category'})\n",
    "# change values\n",
    "df4['category'] = df4['category'].map({'negative': -1.0, 'neutral': 0.0, 'positive':1.0})\n",
    "# change column order\n",
    "df4 = df4[['clean_text','category']]\n",
    "df4.head(1)"
   ]
  },
  {
   "cell_type": "code",
   "execution_count": 10,
   "metadata": {},
   "outputs": [
    {
     "data": {
      "text/plain": [
       "(182340, 2)"
      ]
     },
     "execution_count": 10,
     "metadata": {},
     "output_type": "execute_result"
    }
   ],
   "source": [
    "# merge all df into 1 \n",
    "df = pd.concat([df1, df2, df3, df4], ignore_index=True)\n",
    "df.shape"
   ]
  },
  {
   "cell_type": "code",
   "execution_count": 11,
   "metadata": {},
   "outputs": [
    {
     "data": {
      "text/plain": [
       "clean_text    4\n",
       "category      7\n",
       "dtype: int64"
      ]
     },
     "execution_count": 11,
     "metadata": {},
     "output_type": "execute_result"
    }
   ],
   "source": [
    "df.isnull().sum()"
   ]
  },
  {
   "cell_type": "code",
   "execution_count": 14,
   "metadata": {},
   "outputs": [
    {
     "data": {
      "text/plain": [
       "(182329, 2)"
      ]
     },
     "execution_count": 14,
     "metadata": {},
     "output_type": "execute_result"
    }
   ],
   "source": [
    "# drop na and initialize cleandf\n",
    "cleandf = df.dropna(axis=0)\n",
    "cleandf.shape"
   ]
  },
  {
   "cell_type": "code",
   "execution_count": 15,
   "metadata": {},
   "outputs": [
    {
     "data": {
      "text/plain": [
       "array([-1.,  0.,  1.])"
      ]
     },
     "execution_count": 15,
     "metadata": {},
     "output_type": "execute_result"
    }
   ],
   "source": [
    "cleandf.category.unique()"
   ]
  },
  {
   "cell_type": "code",
   "execution_count": 16,
   "metadata": {},
   "outputs": [
    {
     "data": {
      "text/html": [
       "<div>\n",
       "<style scoped>\n",
       "    .dataframe tbody tr th:only-of-type {\n",
       "        vertical-align: middle;\n",
       "    }\n",
       "\n",
       "    .dataframe tbody tr th {\n",
       "        vertical-align: top;\n",
       "    }\n",
       "\n",
       "    .dataframe thead th {\n",
       "        text-align: right;\n",
       "    }\n",
       "</style>\n",
       "<table border=\"1\" class=\"dataframe\">\n",
       "  <thead>\n",
       "    <tr style=\"text-align: right;\">\n",
       "      <th></th>\n",
       "      <th>clean_text</th>\n",
       "      <th>score</th>\n",
       "    </tr>\n",
       "  </thead>\n",
       "  <tbody>\n",
       "    <tr>\n",
       "      <th>0</th>\n",
       "      <td>when modi promised “minimum government maximum...</td>\n",
       "      <td>-1.0</td>\n",
       "    </tr>\n",
       "  </tbody>\n",
       "</table>\n",
       "</div>"
      ],
      "text/plain": [
       "                                          clean_text  score\n",
       "0  when modi promised “minimum government maximum...   -1.0"
      ]
     },
     "execution_count": 16,
     "metadata": {},
     "output_type": "execute_result"
    }
   ],
   "source": [
    "# rename columns\n",
    "cleandf = cleandf.rename(columns={'category': 'score'})\n",
    "cleandf.head(1)"
   ]
  },
  {
   "cell_type": "code",
   "execution_count": 17,
   "metadata": {},
   "outputs": [
    {
     "data": {
      "text/html": [
       "<div>\n",
       "<style scoped>\n",
       "    .dataframe tbody tr th:only-of-type {\n",
       "        vertical-align: middle;\n",
       "    }\n",
       "\n",
       "    .dataframe tbody tr th {\n",
       "        vertical-align: top;\n",
       "    }\n",
       "\n",
       "    .dataframe thead th {\n",
       "        text-align: right;\n",
       "    }\n",
       "</style>\n",
       "<table border=\"1\" class=\"dataframe\">\n",
       "  <thead>\n",
       "    <tr style=\"text-align: right;\">\n",
       "      <th></th>\n",
       "      <th>clean_text</th>\n",
       "      <th>score</th>\n",
       "      <th>category</th>\n",
       "    </tr>\n",
       "  </thead>\n",
       "  <tbody>\n",
       "    <tr>\n",
       "      <th>0</th>\n",
       "      <td>when modi promised “minimum government maximum...</td>\n",
       "      <td>-1.0</td>\n",
       "      <td>Negative</td>\n",
       "    </tr>\n",
       "  </tbody>\n",
       "</table>\n",
       "</div>"
      ],
      "text/plain": [
       "                                          clean_text  score  category\n",
       "0  when modi promised “minimum government maximum...   -1.0  Negative"
      ]
     },
     "execution_count": 17,
     "metadata": {},
     "output_type": "execute_result"
    }
   ],
   "source": [
    "# create category column\n",
    "cleandf['category'] = cleandf['score'].map({-1.0:'Negative', 0.0:'Neutral', 1.0:'Positive'})\n",
    "\n",
    "cleandf.head(1)"
   ]
  },
  {
   "cell_type": "code",
   "execution_count": 21,
   "metadata": {},
   "outputs": [
    {
     "data": {
      "text/plain": [
       "Text(0.5, 1.0, 'Sentiment Count')"
      ]
     },
     "execution_count": 21,
     "metadata": {},
     "output_type": "execute_result"
    },
    {
     "data": {
      "image/png": "[encoded data removed]",
      "text/plain": [
       "<Figure size 1440x720 with 1 Axes>"
      ]
     },
     "metadata": {},
     "output_type": "display_data"
    }
   ],
   "source": [
    "plt.figure(figsize=(20,10))\n",
    "# set theme\n",
    "sns.set_theme(style=\"whitegrid\")\n",
    "#countplot ploarity\n",
    "sns.countplot(x=cleandf.category)\n",
    "\n",
    "\n",
    "\n",
    "plt.xlabel('Sentiment Category', fontsize=20)\n",
    "plt.ylabel('Count', fontsize = 20)\n",
    "plt.yticks(fontsize=18)\n",
    "plt.xticks(fontsize=18)\n",
    "plt.title('Sentiment Count', fontsize=30)"
   ]
  },
  {
   "cell_type": "code",
   "execution_count": 27,
   "metadata": {},
   "outputs": [],
   "source": [
    "processdf = cleandf\n",
    "# filter text\n",
    "processdf['filter_text'] = processdf.clean_text.apply(removeFunc)\n",
    "processdf.head(1)"
   ]
  },
  {
   "cell_type": "code",
   "execution_count": 30,
   "metadata": {},
   "outputs": [
    {
     "data": {
      "text/html": [
       "<div>\n",
       "<style scoped>\n",
       "    .dataframe tbody tr th:only-of-type {\n",
       "        vertical-align: middle;\n",
       "    }\n",
       "\n",
       "    .dataframe tbody tr th {\n",
       "        vertical-align: top;\n",
       "    }\n",
       "\n",
       "    .dataframe thead th {\n",
       "        text-align: right;\n",
       "    }\n",
       "</style>\n",
       "<table border=\"1\" class=\"dataframe\">\n",
       "  <thead>\n",
       "    <tr style=\"text-align: right;\">\n",
       "      <th></th>\n",
       "      <th>clean_text</th>\n",
       "      <th>score</th>\n",
       "      <th>category</th>\n",
       "      <th>filter_text</th>\n",
       "      <th>split_filter_text</th>\n",
       "    </tr>\n",
       "  </thead>\n",
       "  <tbody>\n",
       "    <tr>\n",
       "      <th>0</th>\n",
       "      <td>when modi promised “minimum government maximum...</td>\n",
       "      <td>-1.0</td>\n",
       "      <td>Negative</td>\n",
       "      <td>modi promised minimum government maximum gover...</td>\n",
       "      <td>[modi, promised, minimum, government, maximum,...</td>\n",
       "    </tr>\n",
       "  </tbody>\n",
       "</table>\n",
       "</div>"
      ],
      "text/plain": [
       "                                          clean_text  score  category  \\\n",
       "0  when modi promised “minimum government maximum...   -1.0  Negative   \n",
       "\n",
       "                                         filter_text  \\\n",
       "0  modi promised minimum government maximum gover...   \n",
       "\n",
       "                                   split_filter_text  \n",
       "0  [modi, promised, minimum, government, maximum,...  "
      ]
     },
     "execution_count": 30,
     "metadata": {},
     "output_type": "execute_result"
    }
   ],
   "source": [
    "#split filtered text\n",
    "processdf['split_filter_text'] = processdf.filter_text.apply(lambda x: x.split())\n",
    "processdf.head(1)"
   ]
  },
  {
   "cell_type": "code",
   "execution_count": 81,
   "metadata": {},
   "outputs": [
    {
     "name": "stdout",
     "output_type": "stream",
     "text": [
      "['asking', 'supporters', 'prefix', 'chowkidar', 'names', 'modi', 'great', 'service', 'confusion', 'read', 'not', 'crustal', 'clear', 'crass', 'filthy', 'nonsensical', 'see', 'abuses', 'coming', 'chowkidars']\n",
      "1.0\n"
     ]
    }
   ],
   "source": [
    "# dldf - deep learning data frame\n",
    "dldf = processdf\n",
    "\n",
    "# split and filtered data\n",
    "x_data = dldf.split_filter_text\n",
    "\n",
    "# numeric score\n",
    "y_data = dldf.score\n",
    "print(x_data[3])\n",
    "print(y_data[3])"
   ]
  },
  {
   "cell_type": "markdown",
   "metadata": {},
   "source": [
    "##### Model 1 - RNN LSTM"
   ]
  },
  {
   "cell_type": "code",
   "execution_count": 129,
   "metadata": {},
   "outputs": [
    {
     "name": "stdout",
     "output_type": "stream",
     "text": [
      "15\n"
     ]
    }
   ],
   "source": [
    "# obtain max length for padding\n",
    "len_mdl1 = get_max_length(x_data)\n",
    "print(len_mdl1)"
   ]
  },
  {
   "cell_type": "code",
   "execution_count": 125,
   "metadata": {},
   "outputs": [
    {
     "name": "stdout",
     "output_type": "stream",
     "text": [
      "[ 214 1079  650  775   11    1    0    0    0    0    0    0    0    0\n",
      "    0]\n"
     ]
    }
   ],
   "source": [
    "# ENCODE REVIEW\n",
    "token = Tokenizer(lower=False)    # False becuase we already did it. \n",
    "\n",
    "# find formula to vectorize the text\n",
    "token.fit_on_texts(x_data)\n",
    "\n",
    "#Note: vectorization is assigned to non-Capitalized x_train\n",
    "# converting text into integer\n",
    "x_md1 = token.texts_to_sequences(x_data)\n",
    "\n",
    "### this is the code to add the pad to x_train\n",
    "x_md1pad = pad_sequences(x_md1, maxlen=len_mdl1, padding='post', truncating='post')\n",
    "\n",
    "total_words = len(token.word_index) + 1   # we need to add 1 because of 0 padding\n",
    "print(x_md1pad[1]) "
   ]
  },
  {
   "cell_type": "code",
   "execution_count": 153,
   "metadata": {},
   "outputs": [],
   "source": [
    "y_data=pd.get_dummies(dldf.category)\n",
    "# train test split\n",
    "X_train, X_test, y_train, y_test = train_test_split(x_md1pad, y_data, test_size=0.2, random_state=42)"
   ]
  },
  {
   "cell_type": "code",
   "execution_count": 154,
   "metadata": {},
   "outputs": [],
   "source": [
    "# saving to pickle file\n",
    "with open('data3/token_mdl1.pickle', 'wb') as handle:\n",
    "    pickle.dump(token, handle, protocol=pickle.HIGHEST_PROTOCOL)\n",
    "\n",
    "# loading from pickle file\n",
    "with open('data3/token_mdl1.pickle', 'rb') as handle:\n",
    "    token = pickle.load(handle)"
   ]
  },
  {
   "cell_type": "code",
   "execution_count": 158,
   "metadata": {},
   "outputs": [
    {
     "name": "stdout",
     "output_type": "stream",
     "text": [
      "You must install pydot (`pip install pydot`) and install graphviz (see instructions at https://graphviz.gitlab.io/download/) for plot_model/model_to_dot to work.\n",
      "Model: \"sequential_28\"\n",
      "_________________________________________________________________\n",
      " Layer (type)                Output Shape              Param #   \n",
      "=================================================================\n",
      " embedding_25 (Embedding)    (None, 15, 32)            3720992   \n",
      "                                                                 \n",
      " dropout_18 (Dropout)        (None, 15, 32)            0         \n",
      "                                                                 \n",
      " lstm_25 (LSTM)              (None, 64)                24832     \n",
      "                                                                 \n",
      " dropout_19 (Dropout)        (None, 64)                0         \n",
      "                                                                 \n",
      " dense_25 (Dense)            (None, 3)                 195       \n",
      "                                                                 \n",
      "=================================================================\n",
      "Total params: 3,746,019\n",
      "Trainable params: 3,746,019\n",
      "Non-trainable params: 0\n",
      "_________________________________________________________________\n"
     ]
    }
   ],
   "source": [
    "# ARCHITECTURE\n",
    "EMBED_DIM = 32\n",
    "LSTM_OUT = 64\n",
    "\n",
    "#### add the model here:\n",
    "model = Sequential()\n",
    "model.add(Embedding(total_words,EMBED_DIM,\n",
    "                  input_length=len_mdl1))\n",
    "model.add(Dropout(0.1))\n",
    "# dropout and recurrent dropout\n",
    "model.add(LSTM(units=64, dropout=0.3, recurrent_dropout=0.3))\n",
    "model.add(Dropout(0.1))\n",
    "model.add(Dense(3, activation='tanh'))\n",
    "\n",
    "# show a graph of model\n",
    "tf.keras.utils.plot_model(model, show_shapes=True)\n",
    "\n",
    "### compile the model using: optimizer = 'adam', loss = 'binary_crossentropy', metrics = ['accuracy']\n",
    "model.compile(optimizer='adam', loss='binary_crossentropy', metrics=['accuracy'])\n",
    "model.summary()"
   ]
  },
  {
   "cell_type": "code",
   "execution_count": 159,
   "metadata": {},
   "outputs": [],
   "source": [
    "# Save model checkpoint and save best only\n",
    "checkpoint = ModelCheckpoint('data3/LSTM.h5', monitor='accuracy', save_best_only=True, verbose=1)"
   ]
  },
  {
   "cell_type": "code",
   "execution_count": 160,
   "metadata": {},
   "outputs": [
    {
     "name": "stdout",
     "output_type": "stream",
     "text": [
      "Epoch 1/30\n",
      "2280/2280 [==============================] - ETA: 0s - loss: 0.4671 - accuracy: 0.7108\n",
      "Epoch 1: accuracy improved from -inf to 0.71077, saving model to data3\\LSTM.h5\n",
      "2280/2280 [==============================] - 103s 44ms/step - loss: 0.4671 - accuracy: 0.7108 - val_loss: 0.3719 - val_accuracy: 0.8205\n",
      "Epoch 2/30\n",
      "2280/2280 [==============================] - ETA: 0s - loss: 0.3822 - accuracy: 0.8099\n",
      "Epoch 2: accuracy improved from 0.71077 to 0.80987, saving model to data3\\LSTM.h5\n",
      "2280/2280 [==============================] - 104s 46ms/step - loss: 0.3822 - accuracy: 0.8099 - val_loss: 0.3501 - val_accuracy: 0.8278\n",
      "Epoch 3/30\n",
      "2279/2280 [============================>.] - ETA: 0s - loss: 0.3109 - accuracy: 0.8602\n",
      "Epoch 3: accuracy improved from 0.80987 to 0.86020, saving model to data3\\LSTM.h5\n",
      "2280/2280 [==============================] - 101s 44ms/step - loss: 0.3109 - accuracy: 0.8602 - val_loss: 0.3219 - val_accuracy: 0.8319\n",
      "Epoch 4/30\n",
      "2280/2280 [==============================] - ETA: 0s - loss: 0.2905 - accuracy: 0.8689\n",
      "Epoch 4: accuracy improved from 0.86020 to 0.86888, saving model to data3\\LSTM.h5\n",
      "2280/2280 [==============================] - 101s 44ms/step - loss: 0.2905 - accuracy: 0.8689 - val_loss: 0.4615 - val_accuracy: 0.6938\n",
      "Epoch 5/30\n",
      "2279/2280 [============================>.] - ETA: 0s - loss: 0.2750 - accuracy: 0.8776\n",
      "Epoch 5: accuracy improved from 0.86888 to 0.87759, saving model to data3\\LSTM.h5\n",
      "2280/2280 [==============================] - 101s 44ms/step - loss: 0.2750 - accuracy: 0.8776 - val_loss: 0.3713 - val_accuracy: 0.8285\n",
      "Epoch 6/30\n",
      "2279/2280 [============================>.] - ETA: 0s - loss: 0.2665 - accuracy: 0.8794\n",
      "Epoch 6: accuracy improved from 0.87759 to 0.87937, saving model to data3\\LSTM.h5\n",
      "2280/2280 [==============================] - 100s 44ms/step - loss: 0.2665 - accuracy: 0.8794 - val_loss: 0.3749 - val_accuracy: 0.8276\n",
      "Epoch 7/30\n",
      "2279/2280 [============================>.] - ETA: 0s - loss: 0.2589 - accuracy: 0.8809\n",
      "Epoch 7: accuracy improved from 0.87937 to 0.88085, saving model to data3\\LSTM.h5\n",
      "2280/2280 [==============================] - 101s 45ms/step - loss: 0.2589 - accuracy: 0.8809 - val_loss: 0.4100 - val_accuracy: 0.8218\n",
      "Epoch 8/30\n",
      "2280/2280 [==============================] - ETA: 0s - loss: 0.2726 - accuracy: 0.8681\n",
      "Epoch 8: accuracy did not improve from 0.88085\n",
      "2280/2280 [==============================] - 102s 45ms/step - loss: 0.2726 - accuracy: 0.8681 - val_loss: 0.4629 - val_accuracy: 0.8026\n",
      "Epoch 9/30\n",
      "2280/2280 [==============================] - ETA: 0s - loss: 0.2477 - accuracy: 0.8982\n",
      "Epoch 9: accuracy improved from 0.88085 to 0.89821, saving model to data3\\LSTM.h5\n",
      "2280/2280 [==============================] - 100s 44ms/step - loss: 0.2477 - accuracy: 0.8982 - val_loss: 0.4056 - val_accuracy: 0.8232\n",
      "Epoch 10/30\n",
      "2280/2280 [==============================] - ETA: 0s - loss: 0.2055 - accuracy: 0.9128\n",
      "Epoch 10: accuracy improved from 0.89821 to 0.91279, saving model to data3\\LSTM.h5\n",
      "2280/2280 [==============================] - 101s 44ms/step - loss: 0.2055 - accuracy: 0.9128 - val_loss: 0.4549 - val_accuracy: 0.7786\n",
      "Epoch 11/30\n",
      "2280/2280 [==============================] - ETA: 0s - loss: 0.1877 - accuracy: 0.9213\n",
      "Epoch 11: accuracy improved from 0.91279 to 0.92128, saving model to data3\\LSTM.h5\n",
      "2280/2280 [==============================] - 102s 45ms/step - loss: 0.1877 - accuracy: 0.9213 - val_loss: 0.5485 - val_accuracy: 0.8108\n",
      "Epoch 12/30\n",
      "2280/2280 [==============================] - ETA: 0s - loss: 0.1776 - accuracy: 0.9234\n",
      "Epoch 12: accuracy improved from 0.92128 to 0.92339, saving model to data3\\LSTM.h5\n",
      "2280/2280 [==============================] - 102s 45ms/step - loss: 0.1776 - accuracy: 0.9234 - val_loss: 0.5819 - val_accuracy: 0.8069\n",
      "Epoch 13/30\n",
      "2280/2280 [==============================] - ETA: 0s - loss: 0.2136 - accuracy: 0.8994\n",
      "Epoch 13: accuracy did not improve from 0.92339\n",
      "2280/2280 [==============================] - 102s 45ms/step - loss: 0.2136 - accuracy: 0.8994 - val_loss: 0.6372 - val_accuracy: 0.7865\n",
      "Epoch 14/30\n",
      "2280/2280 [==============================] - ETA: 0s - loss: 0.1723 - accuracy: 0.9284\n",
      "Epoch 14: accuracy improved from 0.92339 to 0.92838, saving model to data3\\LSTM.h5\n",
      "2280/2280 [==============================] - 101s 44ms/step - loss: 0.1723 - accuracy: 0.9284 - val_loss: 0.5562 - val_accuracy: 0.8049\n",
      "Epoch 15/30\n",
      "2280/2280 [==============================] - ETA: 0s - loss: 0.2672 - accuracy: 0.8515\n",
      "Epoch 15: accuracy did not improve from 0.92838\n",
      "2280/2280 [==============================] - 101s 44ms/step - loss: 0.2672 - accuracy: 0.8515 - val_loss: 0.6101 - val_accuracy: 0.7817\n",
      "Epoch 16/30\n",
      "2279/2280 [============================>.] - ETA: 0s - loss: 0.2086 - accuracy: 0.9213\n",
      "Epoch 16: accuracy did not improve from 0.92838\n",
      "2280/2280 [==============================] - 102s 45ms/step - loss: 0.2086 - accuracy: 0.9213 - val_loss: 0.6055 - val_accuracy: 0.8083\n",
      "Epoch 17/30\n",
      "2279/2280 [============================>.] - ETA: 0s - loss: 0.1829 - accuracy: 0.9250\n",
      "Epoch 17: accuracy did not improve from 0.92838\n",
      "2280/2280 [==============================] - 102s 45ms/step - loss: 0.1829 - accuracy: 0.9250 - val_loss: 0.6594 - val_accuracy: 0.8086\n",
      "Epoch 18/30\n",
      "2280/2280 [==============================] - ETA: 0s - loss: 0.1627 - accuracy: 0.9342\n",
      "Epoch 18: accuracy improved from 0.92838 to 0.93418, saving model to data3\\LSTM.h5\n",
      "2280/2280 [==============================] - 103s 45ms/step - loss: 0.1627 - accuracy: 0.9342 - val_loss: 0.6742 - val_accuracy: 0.8032\n",
      "Epoch 19/30\n",
      "2280/2280 [==============================] - ETA: 0s - loss: 0.1531 - accuracy: 0.9373\n",
      "Epoch 19: accuracy improved from 0.93418 to 0.93726, saving model to data3\\LSTM.h5\n",
      "2280/2280 [==============================] - 102s 45ms/step - loss: 0.1531 - accuracy: 0.9373 - val_loss: 0.6991 - val_accuracy: 0.8012\n",
      "Epoch 20/30\n",
      "2280/2280 [==============================] - ETA: 0s - loss: 0.1538 - accuracy: 0.9372\n",
      "Epoch 20: accuracy did not improve from 0.93726\n",
      "2280/2280 [==============================] - 101s 44ms/step - loss: 0.1538 - accuracy: 0.9372 - val_loss: 0.7096 - val_accuracy: 0.8010\n",
      "Epoch 21/30\n",
      "2279/2280 [============================>.] - ETA: 0s - loss: 0.1448 - accuracy: 0.9380\n",
      "Epoch 21: accuracy improved from 0.93726 to 0.93798, saving model to data3\\LSTM.h5\n",
      "2280/2280 [==============================] - 102s 45ms/step - loss: 0.1448 - accuracy: 0.9380 - val_loss: 0.7233 - val_accuracy: 0.7999\n",
      "Epoch 22/30\n",
      "2279/2280 [============================>.] - ETA: 0s - loss: 0.1360 - accuracy: 0.9424\n",
      "Epoch 22: accuracy improved from 0.93798 to 0.94244, saving model to data3\\LSTM.h5\n",
      "2280/2280 [==============================] - 101s 44ms/step - loss: 0.1360 - accuracy: 0.9424 - val_loss: 0.7387 - val_accuracy: 0.7969\n",
      "Epoch 23/30\n",
      "2279/2280 [============================>.] - ETA: 0s - loss: 0.1444 - accuracy: 0.9397\n",
      "Epoch 23: accuracy did not improve from 0.94244\n",
      "2280/2280 [==============================] - 101s 45ms/step - loss: 0.1444 - accuracy: 0.9397 - val_loss: 0.7414 - val_accuracy: 0.7992\n",
      "Epoch 24/30\n",
      "2280/2280 [==============================] - ETA: 0s - loss: 0.1297 - accuracy: 0.9465\n",
      "Epoch 24: accuracy improved from 0.94244 to 0.94648, saving model to data3\\LSTM.h5\n",
      "2280/2280 [==============================] - 102s 45ms/step - loss: 0.1297 - accuracy: 0.9465 - val_loss: 0.7132 - val_accuracy: 0.7970\n",
      "Epoch 25/30\n",
      "2280/2280 [==============================] - ETA: 0s - loss: 0.1207 - accuracy: 0.9489\n",
      "Epoch 25: accuracy improved from 0.94648 to 0.94889, saving model to data3\\LSTM.h5\n",
      "2280/2280 [==============================] - 102s 45ms/step - loss: 0.1207 - accuracy: 0.9489 - val_loss: 0.7539 - val_accuracy: 0.7936\n",
      "Epoch 26/30\n",
      "2280/2280 [==============================] - ETA: 0s - loss: 0.1205 - accuracy: 0.9506\n",
      "Epoch 26: accuracy improved from 0.94889 to 0.95064, saving model to data3\\LSTM.h5\n",
      "2280/2280 [==============================] - 101s 44ms/step - loss: 0.1205 - accuracy: 0.9506 - val_loss: 0.8021 - val_accuracy: 0.7888\n",
      "Epoch 27/30\n",
      "2280/2280 [==============================] - ETA: 0s - loss: 0.1243 - accuracy: 0.9476\n",
      "Epoch 27: accuracy did not improve from 0.95064\n",
      "2280/2280 [==============================] - 102s 45ms/step - loss: 0.1243 - accuracy: 0.9476 - val_loss: 0.7618 - val_accuracy: 0.7953\n",
      "Epoch 28/30\n",
      "2279/2280 [============================>.] - ETA: 0s - loss: 0.1212 - accuracy: 0.9484\n",
      "Epoch 28: accuracy did not improve from 0.95064\n",
      "2280/2280 [==============================] - 101s 45ms/step - loss: 0.1212 - accuracy: 0.9484 - val_loss: 0.7782 - val_accuracy: 0.7942\n",
      "Epoch 29/30\n",
      "2280/2280 [==============================] - ETA: 0s - loss: 0.1115 - accuracy: 0.9532\n",
      "Epoch 29: accuracy improved from 0.95064 to 0.95324, saving model to data3\\LSTM.h5\n",
      "2280/2280 [==============================] - 99s 43ms/step - loss: 0.1115 - accuracy: 0.9532 - val_loss: 0.7734 - val_accuracy: 0.7833\n",
      "Epoch 30/30\n",
      "2279/2280 [============================>.] - ETA: 0s - loss: 0.1077 - accuracy: 0.9545\n",
      "Epoch 30: accuracy improved from 0.95324 to 0.95447, saving model to data3\\LSTM.h5\n",
      "2280/2280 [==============================] - 102s 45ms/step - loss: 0.1077 - accuracy: 0.9545 - val_loss: 0.8256 - val_accuracy: 0.7912\n"
     ]
    }
   ],
   "source": [
    "# fit and train model, call back based on checkpoint(best model)\n",
    "history = model.fit(X_train, y_train, epochs=30, batch_size=64, validation_data=(X_test, y_test), callbacks=[checkpoint])"
   ]
  },
  {
   "cell_type": "code",
   "execution_count": 162,
   "metadata": {},
   "outputs": [
    {
     "data": {
      "image/png": "[encoded data removed]",
      "text/plain": [
       "<Figure size 720x288 with 2 Axes>"
      ]
     },
     "metadata": {
      "needs_background": "light"
     },
     "output_type": "display_data"
    }
   ],
   "source": [
    "def plot_training_hist(history):\n",
    "    '''Function to plot history for accuracy and loss'''\n",
    "    \n",
    "    fig, ax = plt.subplots(1, 2, figsize=(10,4))\n",
    "    # first plot\n",
    "    ax[0].plot(history.history['accuracy'])\n",
    "    ax[0].plot(history.history['val_accuracy'])\n",
    "    ax[0].set_title('Model Accuracy')\n",
    "    ax[0].set_xlabel('epoch')\n",
    "    ax[0].set_ylabel('accuracy')\n",
    "    ax[0].legend(['train', 'test'], loc='best')\n",
    "    # second plot\n",
    "    ax[1].plot(history.history['loss'])\n",
    "    ax[1].plot(history.history['val_loss'])\n",
    "    ax[1].set_title('Model Loss')\n",
    "    ax[1].set_xlabel('epoch')\n",
    "    ax[1].set_ylabel('loss')\n",
    "    ax[1].legend(['train', 'test'], loc='best')\n",
    "    \n",
    "plot_training_hist(history)"
   ]
  },
  {
   "cell_type": "markdown",
   "metadata": {},
   "source": [
    "##### Model 2 - CNN Bidrectional LSTM (edited on top of KRITANJALI JAIN's model)"
   ]
  },
  {
   "cell_type": "code",
   "execution_count": 163,
   "metadata": {},
   "outputs": [
    {
     "name": "stdout",
     "output_type": "stream",
     "text": [
      "[ 214 1079  650  775   11    1    0    0    0    0    0    0    0    0\n",
      "    0    0    0    0    0    0    0    0    0    0    0    0    0    0\n",
      "    0    0    0    0    0    0    0    0    0    0    0    0    0    0\n",
      "    0    0    0    0    0    0    0    0]\n"
     ]
    }
   ],
   "source": [
    "max_words = 5000\n",
    "max_length= 50\n",
    "# ENCODE REVIEW\n",
    "token = Tokenizer(num_words=max_words, lower=False)    # False becuase we already did it. \n",
    "\n",
    "# find formula to vectorize the text\n",
    "token.fit_on_texts(x_data)\n",
    "\n",
    "#Note: vectorization is assigned to non-Capitalized x_train\n",
    "# converting text into integer\n",
    "x_token = token.texts_to_sequences(x_data)\n",
    "\n",
    "### this is the code to add the pad to x_train\n",
    "x_pad = pad_sequences(x_token, maxlen=max_length, padding='post', truncating='post')\n",
    "\n",
    "# total_words = len(token.word_index) + 1   # we need to add 1 because of 0 padding\n",
    "print(x_pad[1]) "
   ]
  },
  {
   "cell_type": "code",
   "execution_count": 164,
   "metadata": {},
   "outputs": [
    {
     "name": "stdout",
     "output_type": "stream",
     "text": [
      "Train Set -> (109397, 50) (109397, 3)\n",
      "Validation Set -> (36466, 50) (36466, 3)\n",
      "Test Set -> (36466, 50) (36466, 3)\n"
     ]
    }
   ],
   "source": [
    "y = pd.get_dummies(dldf.category)\n",
    "X_train, X_test, y_train, y_test = train_test_split(x_pad, y, test_size=0.2, random_state=1)\n",
    "X_train, X_val, y_train, y_val = train_test_split(X_train, y_train, test_size=0.25, random_state=1)\n",
    "print('Train Set ->', X_train.shape, y_train.shape)\n",
    "print('Validation Set ->', X_val.shape, y_val.shape)\n",
    "print('Test Set ->', X_test.shape, y_test.shape)"
   ]
  },
  {
   "cell_type": "code",
   "execution_count": 165,
   "metadata": {},
   "outputs": [],
   "source": [
    "import keras.backend as K\n",
    "\n",
    "def f1_score(precision, recall):\n",
    "    ''' Function to calculate f1 score '''\n",
    "    \n",
    "    f1_val = 2*(precision*recall)/(precision+recall+K.epsilon())\n",
    "    return f1_val"
   ]
  },
  {
   "cell_type": "code",
   "execution_count": 167,
   "metadata": {},
   "outputs": [
    {
     "name": "stdout",
     "output_type": "stream",
     "text": [
      "Model: \"sequential_30\"\n",
      "_________________________________________________________________\n",
      " Layer (type)                Output Shape              Param #   \n",
      "=================================================================\n",
      " embedding_27 (Embedding)    (None, 50, 32)            160000    \n",
      "                                                                 \n",
      " conv1d_7 (Conv1D)           (None, 50, 32)            3104      \n",
      "                                                                 \n",
      " max_pooling1d_7 (MaxPooling  (None, 25, 32)           0         \n",
      " 1D)                                                             \n",
      "                                                                 \n",
      " bidirectional_7 (Bidirectio  (None, 64)               16640     \n",
      " nal)                                                            \n",
      "                                                                 \n",
      " dropout_21 (Dropout)        (None, 64)                0         \n",
      "                                                                 \n",
      " dense_27 (Dense)            (None, 3)                 195       \n",
      "                                                                 \n",
      "=================================================================\n",
      "Total params: 179,939\n",
      "Trainable params: 179,939\n",
      "Non-trainable params: 0\n",
      "_________________________________________________________________\n",
      "None\n"
     ]
    }
   ],
   "source": [
    "embedding_size = 32\n",
    "epochs=50\n",
    "learning_rate = 0.1\n",
    "decay_rate = learning_rate / epochs\n",
    "momentum = 0.8\n",
    "\n",
    "sgd = SGD(learning_rate=learning_rate, momentum=momentum, decay=decay_rate, nesterov=False)\n",
    "# Build model\n",
    "model= Sequential()\n",
    "\n",
    "model.add(Embedding(max_words, embedding_size, input_length=max_length)) # max length did not use 50\n",
    "model.add(Conv1D(filters=32, kernel_size=3, padding='same', activation='relu'))\n",
    "model.add(MaxPooling1D(pool_size=2))\n",
    "model.add(Bidirectional(LSTM(32)))\n",
    "model.add(Dropout(0.4))\n",
    "model.add(Dense(3, activation='softmax'))\n",
    "print(model.summary())"
   ]
  },
  {
   "cell_type": "code",
   "execution_count": 168,
   "metadata": {},
   "outputs": [
    {
     "name": "stdout",
     "output_type": "stream",
     "text": [
      "Epoch 1/50\n",
      "1710/1710 [==============================] - 32s 17ms/step - loss: 0.8543 - accuracy: 0.6058 - precision_8: 0.6895 - recall_8: 0.4527 - val_loss: 0.6707 - val_accuracy: 0.7431 - val_precision_8: 0.7781 - val_recall_8: 0.6867\n",
      "Epoch 2/50\n",
      "1710/1710 [==============================] - 27s 16ms/step - loss: 0.5649 - accuracy: 0.7937 - precision_8: 0.8126 - recall_8: 0.7632 - val_loss: 0.4641 - val_accuracy: 0.8472 - val_precision_8: 0.8545 - val_recall_8: 0.8342\n",
      "Epoch 3/50\n",
      "1710/1710 [==============================] - 26s 15ms/step - loss: 0.4378 - accuracy: 0.8592 - precision_8: 0.8681 - recall_8: 0.8466 - val_loss: 0.4033 - val_accuracy: 0.8678 - val_precision_8: 0.8744 - val_recall_8: 0.8580\n",
      "Epoch 4/50\n",
      "1710/1710 [==============================] - 26s 15ms/step - loss: 0.3971 - accuracy: 0.8749 - precision_8: 0.8828 - recall_8: 0.8651 - val_loss: 0.3885 - val_accuracy: 0.8759 - val_precision_8: 0.8814 - val_recall_8: 0.8692\n",
      "Epoch 5/50\n",
      "1710/1710 [==============================] - 27s 16ms/step - loss: 0.3795 - accuracy: 0.8821 - precision_8: 0.8890 - recall_8: 0.8730 - val_loss: 0.3866 - val_accuracy: 0.8752 - val_precision_8: 0.8834 - val_recall_8: 0.8650\n",
      "Epoch 6/50\n",
      "1710/1710 [==============================] - 27s 16ms/step - loss: 0.3674 - accuracy: 0.8862 - precision_8: 0.8939 - recall_8: 0.8771 - val_loss: 0.3849 - val_accuracy: 0.8777 - val_precision_8: 0.8836 - val_recall_8: 0.8710\n",
      "Epoch 7/50\n",
      "1710/1710 [==============================] - 27s 16ms/step - loss: 0.3580 - accuracy: 0.8893 - precision_8: 0.8969 - recall_8: 0.8809 - val_loss: 0.3855 - val_accuracy: 0.8760 - val_precision_8: 0.8839 - val_recall_8: 0.8675\n",
      "Epoch 8/50\n",
      "1710/1710 [==============================] - 27s 16ms/step - loss: 0.3521 - accuracy: 0.8919 - precision_8: 0.8991 - recall_8: 0.8834 - val_loss: 0.3808 - val_accuracy: 0.8792 - val_precision_8: 0.8855 - val_recall_8: 0.8728\n",
      "Epoch 9/50\n",
      "1710/1710 [==============================] - 27s 16ms/step - loss: 0.3466 - accuracy: 0.8941 - precision_8: 0.9014 - recall_8: 0.8858 - val_loss: 0.3894 - val_accuracy: 0.8726 - val_precision_8: 0.8822 - val_recall_8: 0.8622\n",
      "Epoch 10/50\n",
      "1710/1710 [==============================] - 27s 16ms/step - loss: 0.3421 - accuracy: 0.8961 - precision_8: 0.9035 - recall_8: 0.8873 - val_loss: 0.3790 - val_accuracy: 0.8818 - val_precision_8: 0.8877 - val_recall_8: 0.8741\n",
      "Epoch 11/50\n",
      "1710/1710 [==============================] - 28s 17ms/step - loss: 0.3377 - accuracy: 0.8971 - precision_8: 0.9044 - recall_8: 0.8889 - val_loss: 0.3794 - val_accuracy: 0.8802 - val_precision_8: 0.8864 - val_recall_8: 0.8739\n",
      "Epoch 12/50\n",
      "1710/1710 [==============================] - 28s 16ms/step - loss: 0.3349 - accuracy: 0.8978 - precision_8: 0.9054 - recall_8: 0.8897 - val_loss: 0.3846 - val_accuracy: 0.8777 - val_precision_8: 0.8841 - val_recall_8: 0.8709\n",
      "Epoch 13/50\n",
      "1710/1710 [==============================] - 27s 16ms/step - loss: 0.3323 - accuracy: 0.8988 - precision_8: 0.9061 - recall_8: 0.8908 - val_loss: 0.3802 - val_accuracy: 0.8798 - val_precision_8: 0.8860 - val_recall_8: 0.8738\n",
      "Epoch 14/50\n",
      "1710/1710 [==============================] - 28s 16ms/step - loss: 0.3285 - accuracy: 0.9000 - precision_8: 0.9074 - recall_8: 0.8921 - val_loss: 0.3829 - val_accuracy: 0.8783 - val_precision_8: 0.8846 - val_recall_8: 0.8719\n",
      "Epoch 15/50\n",
      "1710/1710 [==============================] - 28s 16ms/step - loss: 0.3270 - accuracy: 0.9010 - precision_8: 0.9082 - recall_8: 0.8931 - val_loss: 0.3820 - val_accuracy: 0.8797 - val_precision_8: 0.8854 - val_recall_8: 0.8730\n",
      "Epoch 16/50\n",
      "1710/1710 [==============================] - 28s 16ms/step - loss: 0.3240 - accuracy: 0.9018 - precision_8: 0.9092 - recall_8: 0.8934 - val_loss: 0.3847 - val_accuracy: 0.8768 - val_precision_8: 0.8846 - val_recall_8: 0.8692\n",
      "Epoch 17/50\n",
      "1710/1710 [==============================] - 27s 16ms/step - loss: 0.3225 - accuracy: 0.9022 - precision_8: 0.9095 - recall_8: 0.8945 - val_loss: 0.3834 - val_accuracy: 0.8782 - val_precision_8: 0.8848 - val_recall_8: 0.8717\n",
      "Epoch 18/50\n",
      "1710/1710 [==============================] - 28s 16ms/step - loss: 0.3188 - accuracy: 0.9035 - precision_8: 0.9110 - recall_8: 0.8955 - val_loss: 0.3860 - val_accuracy: 0.8757 - val_precision_8: 0.8835 - val_recall_8: 0.8683\n",
      "Epoch 19/50\n",
      "1710/1710 [==============================] - 28s 17ms/step - loss: 0.3178 - accuracy: 0.9044 - precision_8: 0.9118 - recall_8: 0.8965 - val_loss: 0.3860 - val_accuracy: 0.8788 - val_precision_8: 0.8847 - val_recall_8: 0.8723\n",
      "Epoch 20/50\n",
      "1710/1710 [==============================] - 29s 17ms/step - loss: 0.3164 - accuracy: 0.9043 - precision_8: 0.9118 - recall_8: 0.8967 - val_loss: 0.3870 - val_accuracy: 0.8784 - val_precision_8: 0.8852 - val_recall_8: 0.8720\n",
      "Epoch 21/50\n",
      "1710/1710 [==============================] - 28s 16ms/step - loss: 0.3132 - accuracy: 0.9057 - precision_8: 0.9127 - recall_8: 0.8977 - val_loss: 0.3883 - val_accuracy: 0.8760 - val_precision_8: 0.8826 - val_recall_8: 0.8692\n",
      "Epoch 22/50\n",
      "1710/1710 [==============================] - 29s 17ms/step - loss: 0.3116 - accuracy: 0.9058 - precision_8: 0.9128 - recall_8: 0.8974 - val_loss: 0.3868 - val_accuracy: 0.8785 - val_precision_8: 0.8850 - val_recall_8: 0.8719\n",
      "Epoch 23/50\n",
      "1710/1710 [==============================] - 28s 17ms/step - loss: 0.3108 - accuracy: 0.9069 - precision_8: 0.9137 - recall_8: 0.8990 - val_loss: 0.3887 - val_accuracy: 0.8774 - val_precision_8: 0.8839 - val_recall_8: 0.8706\n",
      "Epoch 24/50\n",
      "1710/1710 [==============================] - 25s 14ms/step - loss: 0.3092 - accuracy: 0.9071 - precision_8: 0.9143 - recall_8: 0.8990 - val_loss: 0.3928 - val_accuracy: 0.8749 - val_precision_8: 0.8828 - val_recall_8: 0.8660\n",
      "Epoch 25/50\n",
      "1710/1710 [==============================] - 24s 14ms/step - loss: 0.3081 - accuracy: 0.9071 - precision_8: 0.9148 - recall_8: 0.8994 - val_loss: 0.3894 - val_accuracy: 0.8776 - val_precision_8: 0.8837 - val_recall_8: 0.8710\n",
      "Epoch 26/50\n",
      "1710/1710 [==============================] - 24s 14ms/step - loss: 0.3070 - accuracy: 0.9081 - precision_8: 0.9152 - recall_8: 0.9002 - val_loss: 0.3919 - val_accuracy: 0.8771 - val_precision_8: 0.8829 - val_recall_8: 0.8712\n",
      "Epoch 27/50\n",
      "1710/1710 [==============================] - 24s 14ms/step - loss: 0.3053 - accuracy: 0.9085 - precision_8: 0.9154 - recall_8: 0.9005 - val_loss: 0.3948 - val_accuracy: 0.8775 - val_precision_8: 0.8829 - val_recall_8: 0.8720\n",
      "Epoch 28/50\n",
      "1710/1710 [==============================] - 24s 14ms/step - loss: 0.3040 - accuracy: 0.9091 - precision_8: 0.9162 - recall_8: 0.9015 - val_loss: 0.3943 - val_accuracy: 0.8742 - val_precision_8: 0.8821 - val_recall_8: 0.8663\n",
      "Epoch 29/50\n",
      "1710/1710 [==============================] - 25s 14ms/step - loss: 0.3010 - accuracy: 0.9098 - precision_8: 0.9169 - recall_8: 0.9022 - val_loss: 0.3923 - val_accuracy: 0.8770 - val_precision_8: 0.8833 - val_recall_8: 0.8707\n",
      "Epoch 30/50\n",
      "1710/1710 [==============================] - 28s 16ms/step - loss: 0.3011 - accuracy: 0.9101 - precision_8: 0.9169 - recall_8: 0.9025 - val_loss: 0.3937 - val_accuracy: 0.8758 - val_precision_8: 0.8822 - val_recall_8: 0.8693\n",
      "Epoch 31/50\n",
      "1710/1710 [==============================] - 29s 17ms/step - loss: 0.2979 - accuracy: 0.9105 - precision_8: 0.9176 - recall_8: 0.9032 - val_loss: 0.3944 - val_accuracy: 0.8756 - val_precision_8: 0.8822 - val_recall_8: 0.8687\n",
      "Epoch 32/50\n",
      "1710/1710 [==============================] - 29s 17ms/step - loss: 0.2994 - accuracy: 0.9110 - precision_8: 0.9178 - recall_8: 0.9031 - val_loss: 0.3934 - val_accuracy: 0.8774 - val_precision_8: 0.8833 - val_recall_8: 0.8707\n",
      "Epoch 33/50\n",
      "1710/1710 [==============================] - 29s 17ms/step - loss: 0.2967 - accuracy: 0.9115 - precision_8: 0.9184 - recall_8: 0.9041 - val_loss: 0.3940 - val_accuracy: 0.8771 - val_precision_8: 0.8833 - val_recall_8: 0.8705\n",
      "Epoch 34/50\n",
      "1710/1710 [==============================] - 30s 17ms/step - loss: 0.2954 - accuracy: 0.9115 - precision_8: 0.9188 - recall_8: 0.9043 - val_loss: 0.3950 - val_accuracy: 0.8769 - val_precision_8: 0.8827 - val_recall_8: 0.8708\n",
      "Epoch 35/50\n",
      "1710/1710 [==============================] - 29s 17ms/step - loss: 0.2948 - accuracy: 0.9119 - precision_8: 0.9191 - recall_8: 0.9043 - val_loss: 0.3977 - val_accuracy: 0.8745 - val_precision_8: 0.8816 - val_recall_8: 0.8684\n",
      "Epoch 36/50\n",
      "1710/1710 [==============================] - 30s 17ms/step - loss: 0.2935 - accuracy: 0.9120 - precision_8: 0.9189 - recall_8: 0.9047 - val_loss: 0.3979 - val_accuracy: 0.8760 - val_precision_8: 0.8823 - val_recall_8: 0.8694\n",
      "Epoch 37/50\n",
      "1710/1710 [==============================] - 30s 18ms/step - loss: 0.2915 - accuracy: 0.9128 - precision_8: 0.9200 - recall_8: 0.9056 - val_loss: 0.3977 - val_accuracy: 0.8749 - val_precision_8: 0.8816 - val_recall_8: 0.8675\n",
      "Epoch 38/50\n",
      "1710/1710 [==============================] - 30s 18ms/step - loss: 0.2927 - accuracy: 0.9130 - precision_8: 0.9201 - recall_8: 0.9059 - val_loss: 0.4004 - val_accuracy: 0.8744 - val_precision_8: 0.8814 - val_recall_8: 0.8670\n",
      "Epoch 39/50\n",
      "1710/1710 [==============================] - 30s 17ms/step - loss: 0.2901 - accuracy: 0.9135 - precision_8: 0.9204 - recall_8: 0.9067 - val_loss: 0.3994 - val_accuracy: 0.8752 - val_precision_8: 0.8819 - val_recall_8: 0.8689\n",
      "Epoch 40/50\n",
      "1710/1710 [==============================] - 29s 17ms/step - loss: 0.2885 - accuracy: 0.9144 - precision_8: 0.9209 - recall_8: 0.9070 - val_loss: 0.4015 - val_accuracy: 0.8742 - val_precision_8: 0.8807 - val_recall_8: 0.8671\n",
      "Epoch 41/50\n",
      "1710/1710 [==============================] - 30s 18ms/step - loss: 0.2887 - accuracy: 0.9142 - precision_8: 0.9212 - recall_8: 0.9066 - val_loss: 0.4009 - val_accuracy: 0.8744 - val_precision_8: 0.8810 - val_recall_8: 0.8676\n",
      "Epoch 42/50\n",
      "1710/1710 [==============================] - 30s 17ms/step - loss: 0.2874 - accuracy: 0.9150 - precision_8: 0.9220 - recall_8: 0.9080 - val_loss: 0.4032 - val_accuracy: 0.8738 - val_precision_8: 0.8802 - val_recall_8: 0.8671\n",
      "Epoch 43/50\n",
      "1710/1710 [==============================] - 29s 17ms/step - loss: 0.2864 - accuracy: 0.9154 - precision_8: 0.9221 - recall_8: 0.9080 - val_loss: 0.4026 - val_accuracy: 0.8736 - val_precision_8: 0.8800 - val_recall_8: 0.8666\n",
      "Epoch 44/50\n",
      "1710/1710 [==============================] - 30s 18ms/step - loss: 0.2860 - accuracy: 0.9158 - precision_8: 0.9222 - recall_8: 0.9083 - val_loss: 0.4045 - val_accuracy: 0.8737 - val_precision_8: 0.8802 - val_recall_8: 0.8670\n",
      "Epoch 45/50\n",
      "1710/1710 [==============================] - 30s 17ms/step - loss: 0.2846 - accuracy: 0.9151 - precision_8: 0.9222 - recall_8: 0.9083 - val_loss: 0.4049 - val_accuracy: 0.8726 - val_precision_8: 0.8797 - val_recall_8: 0.8659\n",
      "Epoch 46/50\n",
      "1710/1710 [==============================] - 30s 17ms/step - loss: 0.2838 - accuracy: 0.9157 - precision_8: 0.9227 - recall_8: 0.9086 - val_loss: 0.4061 - val_accuracy: 0.8736 - val_precision_8: 0.8798 - val_recall_8: 0.8673\n",
      "Epoch 47/50\n",
      "1710/1710 [==============================] - 30s 17ms/step - loss: 0.2823 - accuracy: 0.9164 - precision_8: 0.9233 - recall_8: 0.9092 - val_loss: 0.4071 - val_accuracy: 0.8729 - val_precision_8: 0.8795 - val_recall_8: 0.8659\n",
      "Epoch 48/50\n",
      "1710/1710 [==============================] - 30s 18ms/step - loss: 0.2817 - accuracy: 0.9167 - precision_8: 0.9235 - recall_8: 0.9095 - val_loss: 0.4042 - val_accuracy: 0.8742 - val_precision_8: 0.8803 - val_recall_8: 0.8675\n",
      "Epoch 49/50\n",
      "1710/1710 [==============================] - 30s 17ms/step - loss: 0.2815 - accuracy: 0.9165 - precision_8: 0.9232 - recall_8: 0.9091 - val_loss: 0.4093 - val_accuracy: 0.8711 - val_precision_8: 0.8782 - val_recall_8: 0.8635\n",
      "Epoch 50/50\n",
      "1710/1710 [==============================] - 30s 17ms/step - loss: 0.2792 - accuracy: 0.9175 - precision_8: 0.9243 - recall_8: 0.9104 - val_loss: 0.4070 - val_accuracy: 0.8725 - val_precision_8: 0.8792 - val_recall_8: 0.8669\n"
     ]
    }
   ],
   "source": [
    "# Compile model\n",
    "model.compile(loss='categorical_crossentropy', optimizer=sgd, \n",
    "               metrics=['accuracy', Precision(), Recall()])\n",
    "\n",
    "# Train model\n",
    "batch_size = 64\n",
    "history = model.fit(X_train, y_train, validation_data=(X_val, y_val), batch_size=batch_size, epochs=epochs, verbose=1)"
   ]
  },
  {
   "cell_type": "code",
   "execution_count": 171,
   "metadata": {},
   "outputs": [
    {
     "name": "stdout",
     "output_type": "stream",
     "text": [
      "\n",
      "Accuracy  : 0.8690\n",
      "Precision : 0.8750\n",
      "Recall    : 0.8628\n",
      "F1 Score  : 0.8689\n"
     ]
    }
   ],
   "source": [
    "# Evaluate model on the test set\n",
    "loss, accuracy, precision, recall = model.evaluate(X_test, y_test, verbose=0)\n",
    "# Print metrics\n",
    "print('')\n",
    "print('Accuracy  : {:.4f}'.format(accuracy))\n",
    "print('Precision : {:.4f}'.format(precision))\n",
    "print('Recall    : {:.4f}'.format(recall))\n",
    "print('F1 Score  : {:.4f}'.format(f1_score(precision, recall)))"
   ]
  },
  {
   "cell_type": "code",
   "execution_count": 172,
   "metadata": {},
   "outputs": [
    {
     "data": {
      "image/png": "[encoded data removed]",
      "text/plain": [
       "<Figure size 720x288 with 2 Axes>"
      ]
     },
     "metadata": {
      "needs_background": "light"
     },
     "output_type": "display_data"
    }
   ],
   "source": [
    "def plot_training_hist(history):\n",
    "    '''Function to plot history for accuracy and loss'''\n",
    "    \n",
    "    fig, ax = plt.subplots(1, 2, figsize=(10,4))\n",
    "    # first plot\n",
    "    ax[0].plot(history.history['accuracy'])\n",
    "    ax[0].plot(history.history['val_accuracy'])\n",
    "    ax[0].set_title('Model Accuracy')\n",
    "    ax[0].set_xlabel('epoch')\n",
    "    ax[0].set_ylabel('accuracy')\n",
    "    ax[0].legend(['train', 'validation'], loc='best')\n",
    "    # second plot\n",
    "    ax[1].plot(history.history['loss'])\n",
    "    ax[1].plot(history.history['val_loss'])\n",
    "    ax[1].set_title('Model Loss')\n",
    "    ax[1].set_xlabel('epoch')\n",
    "    ax[1].set_ylabel('loss')\n",
    "    ax[1].legend(['train', 'validation'], loc='best')\n",
    "    \n",
    "plot_training_hist(history)"
   ]
  },
  {
   "cell_type": "code",
   "execution_count": 173,
   "metadata": {},
   "outputs": [
    {
     "data": {
      "image/png": "[encoded data removed]",
      "text/plain": [
       "<Figure size 576x432 with 2 Axes>"
      ]
     },
     "metadata": {
      "needs_background": "light"
     },
     "output_type": "display_data"
    }
   ],
   "source": [
    "def plot_confusion_matrix(model, X_test, y_test):\n",
    "    '''Function to plot confusion matrix for the passed model and the data'''\n",
    "    \n",
    "    sentiment_classes = ['Negative', 'Neutral', 'Positive']\n",
    "    # use model to do the prediction\n",
    "    y_pred = model.predict(X_test)\n",
    "    # compute confusion matrix\n",
    "    cm = confusion_matrix(np.argmax(np.array(y_test),axis=1), np.argmax(y_pred, axis=1))\n",
    "    # plot confusion matrix\n",
    "    plt.figure(figsize=(8,6))\n",
    "    sns.heatmap(cm, cmap=plt.cm.Blues, annot=True, fmt='d', \n",
    "                xticklabels=sentiment_classes,\n",
    "                yticklabels=sentiment_classes)\n",
    "    plt.title('Confusion matrix', fontsize=16)\n",
    "    plt.xlabel('Actual label', fontsize=12)\n",
    "    plt.ylabel('Predicted label', fontsize=12)\n",
    "    \n",
    "plot_confusion_matrix(model, X_test, y_test)"
   ]
  },
  {
   "cell_type": "code",
   "execution_count": 175,
   "metadata": {},
   "outputs": [],
   "source": [
    "model.save('data3/bidrectionLSTM.h5')"
   ]
  },
  {
   "cell_type": "markdown",
   "metadata": {},
   "source": [
    "##### Model 3"
   ]
  },
  {
   "cell_type": "code",
   "execution_count": null,
   "metadata": {},
   "outputs": [],
   "source": []
  }
 ],
 "metadata": {
  "interpreter": {
   "hash": "a078425411422aa865ededce911f5aebbd4cde69bb2ea2ab5956ec6a35024297"
  },
  "kernelspec": {
   "display_name": "Python 3.9.6 ('desktop_env')",
   "language": "python",
   "name": "python3"
  },
  "language_info": {
   "codemirror_mode": {
    "name": "ipython",
    "version": 3
   },
   "file_extension": ".py",
   "mimetype": "text/x-python",
   "name": "python",
   "nbconvert_exporter": "python",
   "pygments_lexer": "ipython3",
   "version": "3.9.6"
  },
  "orig_nbformat": 4
 },
 "nbformat": 4,
 "nbformat_minor": 2
}
