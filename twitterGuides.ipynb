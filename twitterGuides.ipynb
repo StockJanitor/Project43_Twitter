{
 "cells": [
  {
   "cell_type": "code",
   "execution_count": 2,
   "metadata": {},
   "outputs": [],
   "source": [
    "import tweepy\n",
    "\n",
    "# load keys into keys\n",
    "#[apiKey,apiKeySecret,bearerToken,accessToken,accessTokenSecret]\n",
    "# Consumer Keys: apiKey, apiKeySecret\n",
    "# Access Keys: accessToken, accessTokenSecret\n",
    "path =  r'C:\\Users\\Gumo\\Desktop\\Git\\selfBooks\\tweepy.txt'\n",
    "keys = []\n",
    "with open(path, mode='r') as w:\n",
    "    for line in w:\n",
    "        keys.append(line.split(': ')[1].strip())\n",
    "access_token = keys[3]\n",
    "access_secret = keys[4]\n",
    "consumer_key = keys[0]\n",
    "consumer_secret = keys[1]\n",
    "\n",
    "client = tweepy.Client(consumer_key=consumer_key,consumer_secret=consumer_secret,access_token=access_token,access_token_secret=access_secret)\n",
    "clientBearer = tweepy.Client(bearer_token=keys[2])"
   ]
  },
  {
   "cell_type": "code",
   "execution_count": 31,
   "metadata": {},
   "outputs": [
    {
     "name": "stdout",
     "output_type": "stream",
     "text": [
      "Response(data={'id': '1514680867616014352', 'text': 'Hello World!'}, includes={}, errors=[], meta={})\n"
     ]
    }
   ],
   "source": [
    "# Post text on Twitter\n",
    "tweetPost = client.create_tweet(text='Hello World!')\n",
    "tweetId = tweetPost.data['id']\n",
    "print(tweetPost)"
   ]
  },
  {
   "cell_type": "code",
   "execution_count": 33,
   "metadata": {},
   "outputs": [
    {
     "data": {
      "text/plain": [
       "Response(data={'deleted': True}, includes={}, errors=[], meta={})"
      ]
     },
     "execution_count": 33,
     "metadata": {},
     "output_type": "execute_result"
    }
   ],
   "source": [
    "# Delete the tweet\n",
    "client.delete_tweet(tweetId)"
   ]
  },
  {
   "cell_type": "code",
   "execution_count": 5,
   "metadata": {},
   "outputs": [
    {
     "data": {
      "text/plain": [
       "Response(data=[<Tweet id=1514682618859569173 text='Epidemia COVID-19 w Polsce ma się “skończyć” jeszcze w kwietniu. Zapowiedź ministra Niedzielskiego –\\xa0BusinessInsider https://t.co/GHJsAl9CsE'>, <Tweet id=1514682618473820161 text='2/3 of our kids tested Covid+ at their mom’s. 😫 They’re on their way here for the weekend. Since I’m immunocompromised and have to travel for work in a week, I’m hiding at my parents’ house. \\n\\nWorst part is that I have to pass Easter bunny duty onto bf, and man I love that job.'>, <Tweet id=1514682616259100683 text='Inside the simmering rage of Shanghai’s locked down residents https://t.co/APRtBT2sed via @scmpnews'>, <Tweet id=1514682610756337669 text='I had to block a local the other day who was insisting that COVID was endemic \"whether we liked it or not.\" I 100% blame the inconsistent and often outright inaccurate messaging from our government on this pandemic from day one. https://t.co/kZx861zFuM'>, <Tweet id=1514682608688381975 text=\"2 days ago I had my 4th Covid vax. 1st 3 were Moderna and my reactions were intense, awful &amp; each very different. Thankfully I switched to Pfizer. This one was a breeze! I suggest you mix it up if you've had problems!\">, <Tweet id=1514682607690256388 text='@elonmusk I have a strong feeling that Biden administration is going to give Twitter a bunch of money under the table to try and keep Elon Musk out. Will probably succeed because all they do is lie and cheat. Where do you think they will get the money? Covid money that was supposedly lost.'>, <Tweet id=1514682606180315137 text='@natalibazouzi un nouveau covid ,? \\nau japon c\\'est pareil je m\\'attend a ce que d\\'ici peu\\nd\\'autre continents aient un covid qui naisse spontanement \"comme par hasard\"\\nc\\'est vraiment etrange un virus qui nait spontanement plusieurs endroits en meme temps sans qu\\'on retrouve JAMAIS de patient 0'>, <Tweet id=1514682605941276681 text='@littlewilly58 @jilevin Businesses will be shuttered if someone coughs. Masks will be mandatory in your own home. Covid shots every 3 months or lose your job. Gas vehicles banned. Carbon usage limits. No lawns.'>, <Tweet id=1514682603613429766 text='@TheRealDeclanK1 What about Government cuts and staff off due to Covid'>, <Tweet id=1514682603445624835 text='@webb0412 @helbent51 @kadelia @RepThomasMassie @noprezzie2012 @Delta @SouthwestAir @JetBlue @AmericanAir \"N95 masks are estimated to reduce oxygen intake by anywhere from 5 to 20 percent. That’s significant, even for a healthy person.\"\\nhttps://t.co/cDekFPOJtI'>], includes={}, errors=[], meta={'newest_id': '1514682618859569173', 'oldest_id': '1514682603445624835', 'result_count': 10, 'next_token': 'b26v89c19zqg8o3fpytmphkb3tcl88lmf3djr9ruk7ou5'})"
      ]
     },
     "execution_count": 5,
     "metadata": {},
     "output_type": "execute_result"
    }
   ],
   "source": [
    "# Search\n",
    "query = 'covid -is:retweet'\n",
    "\n",
    "clientBearer.search_recent_tweets(query=query)"
   ]
  },
  {
   "cell_type": "code",
   "execution_count": null,
   "metadata": {},
   "outputs": [],
   "source": []
  }
 ],
 "metadata": {
  "interpreter": {
   "hash": "a078425411422aa865ededce911f5aebbd4cde69bb2ea2ab5956ec6a35024297"
  },
  "kernelspec": {
   "display_name": "Python 3.9.6 ('desktop_env')",
   "language": "python",
   "name": "python3"
  },
  "language_info": {
   "codemirror_mode": {
    "name": "ipython",
    "version": 3
   },
   "file_extension": ".py",
   "mimetype": "text/x-python",
   "name": "python",
   "nbconvert_exporter": "python",
   "pygments_lexer": "ipython3",
   "version": "3.9.6"
  },
  "orig_nbformat": 4
 },
 "nbformat": 4,
 "nbformat_minor": 2
}
