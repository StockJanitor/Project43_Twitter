{
 "cells": [
  {
   "cell_type": "code",
   "execution_count": 39,
   "metadata": {},
   "outputs": [],
   "source": [
    "import tweepy\n",
    "\n",
    "# load keys into keys\n",
    "#[apiKey,apiKeySecret,bearerToken,accessToken,accessTokenSecret]\n",
    "# Consumer Keys: apiKey, apiKeySecret\n",
    "# Access Keys: accessToken, accessTokenSecret\n",
    "path =  r'C:\\Users\\Gumo\\Desktop\\Git\\selfBooks\\tweepy.txt'\n",
    "keys = []\n",
    "with open(path, mode='r') as w:\n",
    "    for line in w:\n",
    "        keys.append(line.split(': ')[1].strip())\n",
    "access_token = keys[3]\n",
    "access_secret = keys[4]\n",
    "consumer_key = keys[0]\n",
    "consumer_secret = keys[1]\n",
    "\n",
    "# initiate client and clientBearer\n",
    "client = tweepy.Client(consumer_key=consumer_key,consumer_secret=consumer_secret,access_token=access_token,access_token_secret=access_secret)\n",
    "clientBearer = tweepy.Client(bearer_token=keys[2])\n",
    "\n",
    "# my userid\n",
    "myUserId = 1309643764172947456\n",
    "myUsername = 'stockjanitor'"
   ]
  },
  {
   "cell_type": "code",
   "execution_count": 20,
   "metadata": {},
   "outputs": [
    {
     "name": "stdout",
     "output_type": "stream",
     "text": [
      "Response(data={'id': '1514695814366466061', 'text': 'Hello World. :)'}, includes={}, errors=[], meta={})\n"
     ]
    }
   ],
   "source": [
    "# Post text on Twitter\n",
    "tweetPost = client.create_tweet(text='Hello World. :)')\n",
    "tweetId = tweetPost.data['id']\n",
    "print(tweetPost)"
   ]
  },
  {
   "cell_type": "code",
   "execution_count": 33,
   "metadata": {},
   "outputs": [
    {
     "data": {
      "text/plain": [
       "Response(data={'deleted': True}, includes={}, errors=[], meta={})"
      ]
     },
     "execution_count": 33,
     "metadata": {},
     "output_type": "execute_result"
    }
   ],
   "source": [
    "# Delete the tweet\n",
    "client.delete_tweet(tweetId)"
   ]
  },
  {
   "cell_type": "code",
   "execution_count": 42,
   "metadata": {},
   "outputs": [
    {
     "ename": "TypeError",
     "evalue": "get_tweets() missing 1 required positional argument: 'ids'",
     "output_type": "error",
     "traceback": [
      "\u001b[1;31m---------------------------------------------------------------------------\u001b[0m",
      "\u001b[1;31mTypeError\u001b[0m                                 Traceback (most recent call last)",
      "\u001b[1;32mc:\\Users\\Gumo\\Desktop\\Git\\Class\\Project43_Twitter\\twitterGuides.ipynb Cell 4'\u001b[0m in \u001b[0;36m<module>\u001b[1;34m\u001b[0m\n\u001b[1;32m----> <a href='vscode-notebook-cell:/c%3A/Users/Gumo/Desktop/Git/Class/Project43_Twitter/twitterGuides.ipynb#ch0000010?line=0'>1</a>\u001b[0m clientBearer\u001b[39m.\u001b[39;49mget_tweets()\n",
      "\u001b[1;31mTypeError\u001b[0m: get_tweets() missing 1 required positional argument: 'ids'"
     ]
    }
   ],
   "source": [
    "clientBearer.get_tweets()"
   ]
  },
  {
   "cell_type": "code",
   "execution_count": 11,
   "metadata": {},
   "outputs": [],
   "source": [
    "# Search\n",
    "query = 'covid -is:retweet'\n",
    "\n",
    "queryResponse = clientBearer.search_recent_tweets(query=query, max_results=10, expansions=['author_id'])\n"
   ]
  },
  {
   "cell_type": "code",
   "execution_count": 19,
   "metadata": {},
   "outputs": [
    {
     "name": "stdout",
     "output_type": "stream",
     "text": [
      "HonorUkb\n",
      "@RMConservative How can they justify an emergency....children aren't the ones at risk of dying from covid. It doesn't stop infections or long covid. \"Emergency\" use authorisation?\n",
      "\n",
      "\n",
      "ErinShewchuk\n",
      "@SKGov I got Covid twice and three vaccines. Once was before vaccines were available and once last month after being fully vaxxed and boosted. Everyone I know who is also vaxxed is getting Covid. There’s no immunity, just lessened symptoms.\n",
      "\n",
      "\n",
      "VibesLinkPromo\n",
      "Billions Invested To Deal With COVID-19 Impact On Education – V-Link Media https://t.co/D4tzo8WWjJ\n",
      "\n",
      "\n",
      "PremierImproves\n",
      "@JamesLynchGTC @skepticalprune @Nockit1 @Diar380 @TonyBaduy @Willard1951 @ShockTraumaNP @volpiranyas @andylumm @pompili_amanda @ogilville1 @JonathanHannah @AspAlaAsnAsnTyr @Tryingmypatient @ZaynJaffer @kath2cats @PLHartungRN @malo_j @chimera414 @raouldukeerik @WendyOrent @spoonsterboss1 @JimeeLiberty @mcfunny @AndrewLazarus4 @PiattPicks @Fannyi5 @doom37455413 @richykirsh @tatsandfats @provaxtexan @sammy44231 @NoMisinfoToday @SallyJiggles @zeetubes @DPirate2020 @SkepticalMutant @Alex_on_A14 @Monstercoyliar @MarkTho29550016 @Donutmindme1 @Tertianship @ali_nicholson_ @luther_snell @Hold2LLC @JonEmerick1 @mooonchild85 @doritmi @Lt_Morant Conflating all data within 28 days of a wonky drosten test is an undercount? \n",
      "Your cult is insane! \n",
      "\n",
      "I've asked multiple times, what was the average age of death from covid? \n",
      "What was the average age of good deaths you provided during the first wave? \n",
      "Why did blanket DNR stop?\n",
      "\n",
      "\n",
      "marcus08859455\n",
      "@wendywoo6089 END the unconstitutional unscientific tyrannical discriminatory federal travel ban on vaccine free Canadians.   Vaccine does not stop covid infection transmission or hospitalization and comes with a plethora of potential side effects. 44% of people hospitalized are triple jabbed https://t.co/BSwZ9FDZxE\n",
      "\n",
      "\n",
      "HMongilio\n",
      "A #COVID19 update from the Navy and Marine Corps plus an update on the surface warfare commanding officer who is refusing to get vaccinated due to religious objections via @USNINews: https://t.co/14Yg9stk32\n",
      "\n",
      "\n",
      "krisacronin\n",
      "@msamandasweet @RavenXV @whykeepitup @conkyan @markbaric @RealDannyReddy @Enigma_2626 @dave43law @elonmusk Oh so you don’t know which ones specifically were withheld that would’ve cured Covid?\n",
      "\n",
      "\n",
      "jayzheather7\n",
      "@POTUS covid  price  hike,  how about  the Biden hike  price  blame game\n",
      "\n",
      "\n",
      "SaludSsrv\n",
      "🔴 Balance Regional #COVID_19 | 14 de abril 2022:\n",
      "\n",
      "🔹 367 casos nuevos totales.\n",
      "🔹 1.296 casos activos.\n",
      "🔹 38 hospitalizados UCI.\n",
      "🔹 1 defunción.\n",
      "\n",
      "Para más información puedes revisar el informe completo en nuestro sitio web https://t.co/ZFWvaF5S0z https://t.co/RIvWZ13QaI\n",
      "\n",
      "\n",
      "janeemilybacon2\n",
      "@transformageing @MrBlueSky266 @AlexThomasSmith No they didn’t - 1,984 died within 28 days of a positive test.  1;061 died with Covid on their death certificate along with other causes of death\n",
      "\n",
      "\n"
     ]
    }
   ],
   "source": [
    "# print username and tweets\n",
    "\n",
    "# obtains the user names\n",
    "users = {u['id']: u for u in queryResponse.includes['users']}\n",
    "# prints the responses: username and text\n",
    "for a in queryResponse.data:\n",
    "    if users[a.author_id]:\n",
    "        user = users[a.author_id]\n",
    "        print(user.username)\n",
    "        print(a.text)\n",
    "        print('\\n')"
   ]
  },
  {
   "cell_type": "code",
   "execution_count": null,
   "metadata": {},
   "outputs": [],
   "source": []
  }
 ],
 "metadata": {
  "interpreter": {
   "hash": "a078425411422aa865ededce911f5aebbd4cde69bb2ea2ab5956ec6a35024297"
  },
  "kernelspec": {
   "display_name": "Python 3.9.6 ('desktop_env')",
   "language": "python",
   "name": "python3"
  },
  "language_info": {
   "codemirror_mode": {
    "name": "ipython",
    "version": 3
   },
   "file_extension": ".py",
   "mimetype": "text/x-python",
   "name": "python",
   "nbconvert_exporter": "python",
   "pygments_lexer": "ipython3",
   "version": "3.9.6"
  },
  "orig_nbformat": 4
 },
 "nbformat": 4,
 "nbformat_minor": 2
}
