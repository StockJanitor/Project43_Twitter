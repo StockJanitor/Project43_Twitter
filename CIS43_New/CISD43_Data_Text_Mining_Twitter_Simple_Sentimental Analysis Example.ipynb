{
 "cells": [
  {
   "cell_type": "markdown",
   "metadata": {},
   "source": [
    "- Sentiment Analysis - Understanding and extracting feelings from data\n",
    "- An API lets you access an apps functionality from your code\n",
    "- TextBlob is awesome for NLP tasks\n"
   ]
  },
  {
   "cell_type": "code",
   "execution_count": 1,
   "metadata": {},
   "outputs": [],
   "source": [
    "#pip install tweepy\n",
    "#conda install -c conda-forge textblob\n",
    "#python -m textblob.download_corpora\n",
    "\n",
    "import tweepy\n",
    "from textblob import TextBlob"
   ]
  },
  {
   "cell_type": "code",
   "execution_count": null,
   "metadata": {},
   "outputs": [],
   "source": [
    "from credentials import *\n",
    "#create a file called credentials.py make sure it is in the same folder as your jupyter file \n",
    "# the credentials file will look like this\n",
    "#ACCESS_TOKEN = 'xxx'\n",
    "#ACCESS_SECRET = 'xx'\n",
    "#CONSUMER_KEY = 'xx'\n",
    "#CONSUMER_SECRET = 'xx'"
   ]
  },
  {
   "cell_type": "code",
   "execution_count": 2,
   "metadata": {},
   "outputs": [],
   "source": [
    "#required keys and tokens\n",
    "\n",
    "auth = tweepy.OAuthHandler(CONSUMER_KEY, CONSUMER_SECRET)\n",
    "auth.set_access_token(ACCESS_TOKEN, ACCESS_SECRET)\n",
    "twitter_api = tweepy.API(auth)"
   ]
  },
  {
   "cell_type": "markdown",
   "metadata": {},
   "source": [
    "**Important link**\n",
    "https://textblob.readthedocs.io/en/dev/quickstart.html"
   ]
  },
  {
   "cell_type": "code",
   "execution_count": 3,
   "metadata": {},
   "outputs": [],
   "source": [
    "public_tweets=twitter_api.search_tweets('ukraine')"
   ]
  },
  {
   "cell_type": "markdown",
   "metadata": {},
   "source": [
    "- The sentiment function of textblob returns two properties, polarity, and subjectivity.\n",
    "- Polarity is float which lies in the range of [-1,1] where 1 means positive statement and -1 means a negative statement.\n",
    "- Subjective sentences generally refer to personal opinion, emotion or judgment whereas objective refers to factual information.\n",
    "\n"
   ]
  },
  {
   "cell_type": "code",
   "execution_count": 4,
   "metadata": {},
   "outputs": [
    {
     "name": "stdout",
     "output_type": "stream",
     "text": [
      "RT @Dovewoman1: @BBCWorld So can we use these designs for more new stamps now? Make them limited editions &amp; charge double or triple to be u…\n",
      "Sentiment(polarity=0.14123376623376624, subjectivity=0.27435064935064934)\n",
      "RT @JuliaDavisNews: Kyiv sank 'Moscow' and the Russians are furious. In response to the sinking of the warship 'Moskva,' state TV pundits a…\n",
      "Sentiment(polarity=0.0, subjectivity=0.0)\n",
      "RT @andersostlund: This is what I have feared all along. The German government is still ready to throw Ukraine under the bus and make a dea…\n",
      "Sentiment(polarity=0.1, subjectivity=0.25)\n",
      "Hiding in Plain Sight, a Soviet-Era Air Defense System Arrives in Ukraine https://t.co/2NnyleXnmh via @Yahoo\n",
      "Sentiment(polarity=-0.21428571428571427, subjectivity=0.35714285714285715)\n",
      "RT @madrid_mike: Putins Defense Minister appears to have had a ‘heart attack’.\n",
      "\n",
      "“…He went on to say that 20 Russian generals have been arre…\n",
      "Sentiment(polarity=0.0, subjectivity=0.0)\n",
      "RT @navalny: 25/31 One shot from Javelin costs $230,000. For the same money we would get 200 million ad views in different formats and prov…\n",
      "Sentiment(polarity=0.0, subjectivity=0.3625)\n",
      "RT @Youblacksoul: In Ukraine they are running out of yellow tape and plastic wrap.\n",
      "This three look just in the edge of their teenage years.…\n",
      "Sentiment(polarity=0.0, subjectivity=0.0)\n",
      "@MelnykAndrij Der Westen sollte endlich schwere Waffen in die Ukraine liefern damit die Menschen sich angemessen we… https://t.co/DAHnsxYLwG\n",
      "Sentiment(polarity=0.0, subjectivity=0.0)\n",
      "RT @washingtonpost: U.S. to train Ukrainian troops, confirms attack sank Russian warship https://t.co/f1kSiISKga\n",
      "Sentiment(polarity=0.0, subjectivity=0.0)\n",
      "RT @MattWalshBlog: Biden is blaming inflation on Putin's invasion of Ukraine. Did Putin invade Ukraine at the beginning of 2021? My memory…\n",
      "Sentiment(polarity=0.0, subjectivity=0.0)\n",
      "RT @RadioFreeTom: Also, notice how hot they are to make this about NATO. In their world, losing to NATO is losing to a peer, the real humil…\n",
      "Sentiment(polarity=0.225, subjectivity=0.5750000000000001)\n",
      "RT @NursesAreTired: While Musk and Starlink's parent company, SpaceX, received adulation from their fans for the gesture, it turns out that…\n",
      "Sentiment(polarity=0.0, subjectivity=0.0)\n",
      "RT @UAWeapons: #Ukraine: Two Russian cargo trucks (one with a special cabin) were captured by the Ukrainian troops. https://t.co/KM3roGEm9G\n",
      "Sentiment(polarity=0.17857142857142858, subjectivity=0.2857142857142857)\n",
      "RT @StevenMorrell3: Totally agree Whaley, after #Rwanda &amp; #Ukraine \n",
      "even the lifetime Labour supporters in my extended family are going to…\n",
      "Sentiment(polarity=0.0, subjectivity=0.75)\n",
      "RT @MSnegovaya: Egged on by the language of annihilation and extermination, Russian soldiers have become willing executioners. https://t.co…\n",
      "Sentiment(polarity=0.125, subjectivity=0.375)\n"
     ]
    }
   ],
   "source": [
    "for tweet in public_tweets:\n",
    "    print (tweet.text)\n",
    "    analysis=TextBlob(tweet.text)\n",
    "    print (analysis.sentiment)"
   ]
  },
  {
   "cell_type": "code",
   "execution_count": null,
   "metadata": {},
   "outputs": [],
   "source": []
  }
 ],
 "metadata": {
  "kernelspec": {
   "display_name": "Python 3 (ipykernel)",
   "language": "python",
   "name": "python3"
  },
  "language_info": {
   "codemirror_mode": {
    "name": "ipython",
    "version": 3
   },
   "file_extension": ".py",
   "mimetype": "text/x-python",
   "name": "python",
   "nbconvert_exporter": "python",
   "pygments_lexer": "ipython3",
   "version": "3.9.12"
  }
 },
 "nbformat": 4,
 "nbformat_minor": 2
}
