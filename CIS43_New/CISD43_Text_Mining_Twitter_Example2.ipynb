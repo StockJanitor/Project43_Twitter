{
 "cells": [
  {
   "cell_type": "markdown",
   "metadata": {},
   "source": [
    "**Analyze Word Frequency Counts Using Twitter Data and Tweepy in Python**"
   ]
  },
  {
   "cell_type": "markdown",
   "metadata": {},
   "source": [
    "**Reference**\n",
    "- It is the example in this link just added more explanation\n",
    "- https://www.earthdatascience.org/courses/use-data-open-source-python/intro-to-apis/calculate-tweet-word-frequencies-in-python/"
   ]
  },
  {
   "cell_type": "markdown",
   "metadata": {},
   "source": [
    "**Example objectives:**\n",
    "\n",
    "- Take a set of tweets and clean them, in order to analyze the frequency of words found in the tweets. \n",
    "\n",
    "- Remove URLs from tweets.\n",
    "- Clean up tweet text, including differences in case (e.g. upper, lower) that will affect unique word counts and removing words that are not useful for the analysis.\n",
    "- Summarize and count words found in tweets."
   ]
  },
  {
   "cell_type": "markdown",
   "metadata": {},
   "source": [
    "**Get Tweets Related to Climate**\n",
    "- When you work with social media and other text data, the user community creates and curates the content. This means there are NO RULES! This also means that you may have to perform extra steps to clean the data to ensure you are analyzing the right thing.\n",
    "\n",
    "- Next, you will explore the text associated with a set of tweets that you access using Tweepy and the Twitter API. You will use some standard natural language processing (also known as text mining) approaches to do this."
   ]
  },
  {
   "cell_type": "code",
   "execution_count": 6,
   "metadata": {},
   "outputs": [],
   "source": [
    "#import os to deal with files on the operating system\n",
    "import os\n",
    "\n",
    "#import pandas to deal with dataframes and more\n",
    "import pandas as pd\n",
    "\n",
    "#import visualization libraries\n",
    "import matplotlib.pyplot as plt\n",
    "import seaborn as sns\n",
    "import itertools\n",
    "\n",
    "#import collections to deal with collections\n",
    "import collections\n",
    "\n",
    "#import tweepy to deal with the tweets\n",
    "import tweepy as tweepy\n",
    "\n",
    "#import nltk to deal with natural processing language\n",
    "#we will study that in details in our Natural Processing course in AI for Business certificate\n",
    "import nltk\n",
    "from nltk.corpus import stopwords\n",
    "import re\n",
    "import networkx\n",
    "\n",
    "#to filter warnings\n",
    "\n",
    "import warnings\n",
    "warnings.filterwarnings(\"ignore\")\n",
    "\n",
    "#setting some configurations for seaborn related plots\n",
    "#setting the background style and font scale \n",
    "#those are optional but makes the plots look nicer\n",
    "sns.set(font_scale=1.5)\n",
    "sns.set_style(\"whitegrid\")"
   ]
  },
  {
   "cell_type": "markdown",
   "metadata": {},
   "source": [
    "- The keys"
   ]
  },
  {
   "cell_type": "code",
   "execution_count": 7,
   "metadata": {},
   "outputs": [
    {
     "name": "stdout",
     "output_type": "stream",
     "text": [
      "<tweepy.api.API object at 0x7faa1930e550>\n"
     ]
    }
   ],
   "source": [
    "#import libraries that you need\n",
    "import tweepy\n",
    "from tweepy import OAuthHandler, Stream\n",
    "from credentials import *\n",
    "\n",
    "# Go to https://developer.twitter.com/en/apps to create an app and get values\n",
    "# for these credentials, which you'll need to provide in place of these\n",
    "# empty string values that are defined as placeholders.\n",
    "# See https://developer.twitter.com/en/docs/basics/authentication/overview/oauth\n",
    "# for more information on Twitter's OAuth implementation.\n",
    "\n",
    "#create a file called credentials.py make sure it is in the same folder as your jupyter file \n",
    "# the credentials file will look like this\n",
    "#ACCESS_TOKEN = 'xxx'\n",
    "#ACCESS_SECRET = 'xx'\n",
    "#CONSUMER_KEY = 'xx'\n",
    "#CONSUMER_SECRET = 'xx'\n",
    "\n",
    "\n",
    "auth = tweepy.OAuthHandler(CONSUMER_KEY, CONSUMER_SECRET)\n",
    "auth.set_access_token(ACCESS_TOKEN, ACCESS_SECRET)\n",
    " \n",
    "twitter_api = tweepy.API(auth,  wait_on_rate_limit=True)\n",
    "\n",
    "# Nothing to see by displaying twitter_api except that it's now a\n",
    "# defined variable\n",
    "\n",
    "print(twitter_api)"
   ]
  },
  {
   "cell_type": "code",
   "execution_count": 8,
   "metadata": {},
   "outputs": [
    {
     "data": {
      "text/plain": [
       "['I wish it was never necessary to imagine the world without the beauty of nature.\\xa0 I hope that people will understan… https://t.co/Mqb35onegh',\n",
       " 'Uganda fights crop-devouring armyworm, blaming #CLIMATE change\\n\\nhttps://t.co/dwyv74Z76K https://t.co/gtHAihmX0m',\n",
       " '#climate change on #neptune? @Greenpeace',\n",
       " 'Join us for the inaugural session of Dissecting Capitalism: Season II, @Jayati1609 will be speaking on \"#Capitalism… https://t.co/heULrMrWfH',\n",
       " 'China has completed the construction of over 250 #hydrogen refueling stations, accounting for about 40% of the glob… https://t.co/CgaZuudprY']"
      ]
     },
     "execution_count": 8,
     "metadata": {},
     "output_type": "execute_result"
    }
   ],
   "source": [
    "search_term = \"#climate+change -filter:retweets\"\n",
    "\n",
    "tweets = tweepy.Cursor(twitter_api.search_tweets,\n",
    "                   q=search_term,\n",
    "                   lang=\"en\",\n",
    "                   since_id='2018-11-01').items(1000)\n",
    "\n",
    "all_tweets = [tweet.text for tweet in tweets]\n",
    "\n",
    "all_tweets[:5]"
   ]
  },
  {
   "cell_type": "markdown",
   "metadata": {},
   "source": [
    "**Remove URLs (links)**\n",
    "- The tweets above have some elements that you do not want in your word counts. For instance, URLs will not be analyzed in this lesson. You can remove URLs (links) using regular expressions accessed from the re package.\n",
    "\n",
    "- Re stands for regular expressions. Regular expressions are a special syntax that is used to identify patterns in a string.\n",
    "\n",
    "- While this lesson will not cover regular expressions, it is helpful to understand that this syntax below:\n",
    "\n",
    "- ([^0-9A-Za-z \\t])|(\\w+:\\/\\/\\S+)\n",
    "\n",
    "- Tells the search to find all strings that look like a URL, and replace it with nothing – \"\". \n",
    "- It also removes other punctionation including hashtags - #.\n",
    "\n",
    "- re.sub allows you to substitute a selection of characters defined using a regular expression, with something else.\n",
    "\n",
    "- In the function defined below, this line takes the text in each tweet and replaces the URL with \"\" (nothing): re.sub(\"([^0-9A-Za-z \\t])|(\\w+:\\/\\/\\S+)\", \"\", tweet"
   ]
  },
  {
   "cell_type": "code",
   "execution_count": 9,
   "metadata": {},
   "outputs": [],
   "source": [
    "def remove_url(txt):\n",
    "    \"\"\"Replace URLs found in a text string with nothing \n",
    "    (i.e. it will remove the URL from the string).\n",
    "\n",
    "    Parameters\n",
    "    ----------\n",
    "    txt : string\n",
    "        A text string that you want to parse and remove urls.\n",
    "\n",
    "    Returns\n",
    "    -------\n",
    "    The same txt string with url's removed.\n",
    "    \"\"\"\n",
    "\n",
    "    return \" \".join(re.sub(\"([^0-9A-Za-z \\t])|(\\w+:\\/\\/\\S+)\", \"\", txt).split())"
   ]
  },
  {
   "cell_type": "markdown",
   "metadata": {},
   "source": [
    "- After defining the function, you can call it in a list comprehension to create a list of the clean tweets."
   ]
  },
  {
   "cell_type": "code",
   "execution_count": 10,
   "metadata": {},
   "outputs": [
    {
     "data": {
      "text/plain": [
       "['I wish it was never necessary to imagine the world without the beauty of nature I hope that people will understan',\n",
       " 'Uganda fights cropdevouring armyworm blaming CLIMATE change',\n",
       " 'climate change on neptune Greenpeace',\n",
       " 'Join us for the inaugural session of Dissecting Capitalism Season II Jayati1609 will be speaking on Capitalism',\n",
       " 'China has completed the construction of over 250 hydrogen refueling stations accounting for about 40 of the glob']"
      ]
     },
     "execution_count": 10,
     "metadata": {},
     "output_type": "execute_result"
    }
   ],
   "source": [
    "all_tweets_no_urls = [remove_url(tweet) for tweet in all_tweets]\n",
    "all_tweets_no_urls[:5]"
   ]
  },
  {
   "cell_type": "markdown",
   "metadata": {},
   "source": [
    "**Text Cleanup - Address Case Issues**\n",
    "- Capitalization is also a challenge when analyzing text data. If you are trying to create a list of unique words in your tweets, words with capitalization will be different from words that are all lowercase."
   ]
  },
  {
   "cell_type": "code",
   "execution_count": 11,
   "metadata": {},
   "outputs": [
    {
     "data": {
      "text/plain": [
       "{',', 'Dog', 'cat', 'dog'}"
      ]
     },
     "execution_count": 11,
     "metadata": {},
     "output_type": "execute_result"
    }
   ],
   "source": [
    "# Note how capitalization impacts unique returned values\n",
    "ex_list = [\"Dog\", \"dog\", \"dog\", \"cat\", \"cat\", \",\"]\n",
    "\n",
    "# Get unique elements in the list\n",
    "set(ex_list)\n",
    "{',', 'Dog', 'cat', 'dog'}"
   ]
  },
  {
   "cell_type": "markdown",
   "metadata": {},
   "source": [
    "- To account for this, you can make each word lowercase using the string method .lower(). In the code below, this method is applied using a list comprehension."
   ]
  },
  {
   "cell_type": "code",
   "execution_count": 12,
   "metadata": {},
   "outputs": [
    {
     "data": {
      "text/plain": [
       "['dog', 'dog', 'dog', 'cat', 'cat', ',']"
      ]
     },
     "execution_count": 12,
     "metadata": {},
     "output_type": "execute_result"
    }
   ],
   "source": [
    "# Note how capitalization impacts unique returned values\n",
    "words_list = [\"Dog\", \"dog\", \"dog\", \"cat\", \"cat\", \",\"]\n",
    "\n",
    "# Make all elements in the list lowercase\n",
    "lower_case = [word.lower() for word in words_list]\n",
    "\n",
    "# Get all elements in the list\n",
    "lower_case\n"
   ]
  },
  {
   "cell_type": "markdown",
   "metadata": {},
   "source": [
    "- Now all of the words in your list are lowercase. You can again use set() function to return only unique words."
   ]
  },
  {
   "cell_type": "code",
   "execution_count": 13,
   "metadata": {},
   "outputs": [
    {
     "data": {
      "text/plain": [
       "{',', 'cat', 'dog'}"
      ]
     },
     "execution_count": 13,
     "metadata": {},
     "output_type": "execute_result"
    }
   ],
   "source": [
    "# Now you have only unique words\n",
    "set(lower_case)"
   ]
  },
  {
   "cell_type": "markdown",
   "metadata": {},
   "source": [
    "**Create List of Lower Case Words from Tweets**"
   ]
  },
  {
   "cell_type": "markdown",
   "metadata": {},
   "source": [
    "- Right now, you have a list of lists that contains each full tweet and you know how to lowercase the words.\n",
    "\n",
    "- However, to do a word frequency analysis, you need a list of all of the words associated with each tweet. You can use .split() to split out each word into a unique element in a list, as shown below."
   ]
  },
  {
   "cell_type": "code",
   "execution_count": 14,
   "metadata": {},
   "outputs": [
    {
     "data": {
      "text/plain": [
       "['I',\n",
       " 'wish',\n",
       " 'it',\n",
       " 'was',\n",
       " 'never',\n",
       " 'necessary',\n",
       " 'to',\n",
       " 'imagine',\n",
       " 'the',\n",
       " 'world',\n",
       " 'without',\n",
       " 'the',\n",
       " 'beauty',\n",
       " 'of',\n",
       " 'nature',\n",
       " 'I',\n",
       " 'hope',\n",
       " 'that',\n",
       " 'people',\n",
       " 'will',\n",
       " 'understan']"
      ]
     },
     "execution_count": 14,
     "metadata": {},
     "output_type": "execute_result"
    }
   ],
   "source": [
    "# Split the words from one tweet into unique elements\n",
    "all_tweets_no_urls[0].split()"
   ]
  },
  {
   "cell_type": "markdown",
   "metadata": {},
   "source": [
    "- Of course, you will notice above that you have a capital word in your list of words.\n",
    "\n",
    "- You can combine .lower() with .split() to remove capital letters and split up the tweet in one step. \n",
    "- Below is an example of applying these methods to the first tweet in the list."
   ]
  },
  {
   "cell_type": "code",
   "execution_count": 15,
   "metadata": {},
   "outputs": [
    {
     "data": {
      "text/plain": [
       "['i',\n",
       " 'wish',\n",
       " 'it',\n",
       " 'was',\n",
       " 'never',\n",
       " 'necessary',\n",
       " 'to',\n",
       " 'imagine',\n",
       " 'the',\n",
       " 'world',\n",
       " 'without',\n",
       " 'the',\n",
       " 'beauty',\n",
       " 'of',\n",
       " 'nature',\n",
       " 'i',\n",
       " 'hope',\n",
       " 'that',\n",
       " 'people',\n",
       " 'will',\n",
       " 'understan']"
      ]
     },
     "execution_count": 15,
     "metadata": {},
     "output_type": "execute_result"
    }
   ],
   "source": [
    "# Split the words from one tweet into unique elements\n",
    "all_tweets_no_urls[0].lower().split()"
   ]
  },
  {
   "cell_type": "markdown",
   "metadata": {},
   "source": [
    "- To split and lower case words in all of the tweets, you can string both methods .lower() and .split() together in a list comprehension."
   ]
  },
  {
   "cell_type": "code",
   "execution_count": 16,
   "metadata": {},
   "outputs": [
    {
     "data": {
      "text/plain": [
       "[['i',\n",
       "  'wish',\n",
       "  'it',\n",
       "  'was',\n",
       "  'never',\n",
       "  'necessary',\n",
       "  'to',\n",
       "  'imagine',\n",
       "  'the',\n",
       "  'world',\n",
       "  'without',\n",
       "  'the',\n",
       "  'beauty',\n",
       "  'of',\n",
       "  'nature',\n",
       "  'i',\n",
       "  'hope',\n",
       "  'that',\n",
       "  'people',\n",
       "  'will',\n",
       "  'understan'],\n",
       " ['uganda',\n",
       "  'fights',\n",
       "  'cropdevouring',\n",
       "  'armyworm',\n",
       "  'blaming',\n",
       "  'climate',\n",
       "  'change']]"
      ]
     },
     "execution_count": 16,
     "metadata": {},
     "output_type": "execute_result"
    }
   ],
   "source": [
    "# Create a list of lists containing lowercase words for each tweet\n",
    "words_in_tweet = [tweet.lower().split() for tweet in all_tweets_no_urls]\n",
    "words_in_tweet[:2]"
   ]
  },
  {
   "cell_type": "markdown",
   "metadata": {},
   "source": [
    "**Calculate and Plot Word Frequency**\n",
    "\n",
    "- To get the count of how many times each word appears in the sample, you can use the built-in Python library collections, which helps create a special type of a Python dictonary.\n",
    "- The collection.Counter object has a useful built-in method most_common that will return the most commonly used words and the number of times that they are used.\n",
    "\n",
    "- To begin, flatten your list, so that all words across the tweets are in one list. Note that you could flatten your list with another list comprehension like this: all_words = [item for sublist in tweets_nsw for item in sublist]\n",
    "\n",
    "- However, it is actually faster to use itertools to flatten the list as follows."
   ]
  },
  {
   "cell_type": "code",
   "execution_count": 17,
   "metadata": {},
   "outputs": [
    {
     "data": {
      "text/plain": [
       "[('climate', 833),\n",
       " ('the', 643),\n",
       " ('change', 601),\n",
       " ('to', 445),\n",
       " ('of', 326),\n",
       " ('and', 274),\n",
       " ('in', 238),\n",
       " ('is', 233),\n",
       " ('a', 222),\n",
       " ('for', 166),\n",
       " ('on', 145),\n",
       " ('we', 133),\n",
       " ('are', 114),\n",
       " ('climatechange', 96),\n",
       " ('our', 92)]"
      ]
     },
     "execution_count": 17,
     "metadata": {},
     "output_type": "execute_result"
    }
   ],
   "source": [
    "# List of all words across tweets\n",
    "all_words_no_urls = list(itertools.chain(*words_in_tweet))\n",
    "\n",
    "# Create counter\n",
    "counts_no_urls = collections.Counter(all_words_no_urls)\n",
    "\n",
    "counts_no_urls.most_common(15)"
   ]
  },
  {
   "cell_type": "markdown",
   "metadata": {},
   "source": [
    "- Based on the counter, you can create a Pandas Dataframe for analysis and plotting that includes only the top 15 most common words."
   ]
  },
  {
   "cell_type": "code",
   "execution_count": 18,
   "metadata": {},
   "outputs": [
    {
     "data": {
      "text/html": [
       "<div>\n",
       "<style scoped>\n",
       "    .dataframe tbody tr th:only-of-type {\n",
       "        vertical-align: middle;\n",
       "    }\n",
       "\n",
       "    .dataframe tbody tr th {\n",
       "        vertical-align: top;\n",
       "    }\n",
       "\n",
       "    .dataframe thead th {\n",
       "        text-align: right;\n",
       "    }\n",
       "</style>\n",
       "<table border=\"1\" class=\"dataframe\">\n",
       "  <thead>\n",
       "    <tr style=\"text-align: right;\">\n",
       "      <th></th>\n",
       "      <th>words</th>\n",
       "      <th>count</th>\n",
       "    </tr>\n",
       "  </thead>\n",
       "  <tbody>\n",
       "    <tr>\n",
       "      <th>0</th>\n",
       "      <td>climate</td>\n",
       "      <td>833</td>\n",
       "    </tr>\n",
       "    <tr>\n",
       "      <th>1</th>\n",
       "      <td>the</td>\n",
       "      <td>643</td>\n",
       "    </tr>\n",
       "    <tr>\n",
       "      <th>2</th>\n",
       "      <td>change</td>\n",
       "      <td>601</td>\n",
       "    </tr>\n",
       "    <tr>\n",
       "      <th>3</th>\n",
       "      <td>to</td>\n",
       "      <td>445</td>\n",
       "    </tr>\n",
       "    <tr>\n",
       "      <th>4</th>\n",
       "      <td>of</td>\n",
       "      <td>326</td>\n",
       "    </tr>\n",
       "  </tbody>\n",
       "</table>\n",
       "</div>"
      ],
      "text/plain": [
       "     words  count\n",
       "0  climate    833\n",
       "1      the    643\n",
       "2   change    601\n",
       "3       to    445\n",
       "4       of    326"
      ]
     },
     "execution_count": 18,
     "metadata": {},
     "output_type": "execute_result"
    }
   ],
   "source": [
    "clean_tweets_no_urls = pd.DataFrame(counts_no_urls.most_common(15),\n",
    "                             columns=['words', 'count'])\n",
    "\n",
    "clean_tweets_no_urls.head()"
   ]
  },
  {
   "cell_type": "markdown",
   "metadata": {},
   "source": [
    "- Using this Pandas Dataframe, you can create a horizontal bar graph of the top 15 most common words in the tweets as shown below."
   ]
  },
  {
   "cell_type": "code",
   "execution_count": 19,
   "metadata": {},
   "outputs": [
    {
     "data": {
      "image/png": "[encoded data removed]",
      "text/plain": [
       "<Figure size 576x576 with 1 Axes>"
      ]
     },
     "metadata": {},
     "output_type": "display_data"
    }
   ],
   "source": [
    "fig, ax = plt.subplots(figsize=(8, 8))\n",
    "\n",
    "# Plot horizontal bar graph\n",
    "clean_tweets_no_urls.sort_values(by='count').plot.barh(x='words',\n",
    "                      y='count',\n",
    "                      ax=ax,\n",
    "                      color=\"purple\")\n",
    "\n",
    "ax.set_title(\"Common Words Found in Tweets (Including All Words)\")\n",
    "\n",
    "plt.show()"
   ]
  },
  {
   "cell_type": "markdown",
   "metadata": {},
   "source": [
    "**Remove Stopwords With nltk**\n",
    "\n",
    "- In addition to lowercase words, you may also want to perform additional clean-up, such as removing words that do not add meaningful information to the text you are trying to analysis. \n",
    "- These words referred to as “stop words” and include commonly appearing words such as who, what, you, etc.\n",
    "\n",
    "- The Python package nltk, commonly used for text analysis, provides a list of “stop words” that you can use to clean your Twitter data."
   ]
  },
  {
   "cell_type": "code",
   "execution_count": 20,
   "metadata": {},
   "outputs": [
    {
     "name": "stderr",
     "output_type": "stream",
     "text": [
      "[nltk_data] Downloading package stopwords to\n",
      "[nltk_data]     /Users/macpro/nltk_data...\n",
      "[nltk_data]   Unzipping corpora/stopwords.zip.\n"
     ]
    },
    {
     "data": {
      "text/plain": [
       "True"
      ]
     },
     "execution_count": 20,
     "metadata": {},
     "output_type": "execute_result"
    }
   ],
   "source": [
    "nltk.download('stopwords')"
   ]
  },
  {
   "cell_type": "code",
   "execution_count": 21,
   "metadata": {},
   "outputs": [
    {
     "data": {
      "text/plain": [
       "['do',\n",
       " 've',\n",
       " 'their',\n",
       " 'those',\n",
       " 'both',\n",
       " \"doesn't\",\n",
       " 'yourselves',\n",
       " \"you'll\",\n",
       " 'this',\n",
       " 'up']"
      ]
     },
     "execution_count": 21,
     "metadata": {},
     "output_type": "execute_result"
    }
   ],
   "source": [
    "stop_words = set(stopwords.words('english'))\n",
    "\n",
    "# View a few words from the set\n",
    "list(stop_words)[0:10]"
   ]
  },
  {
   "cell_type": "markdown",
   "metadata": {},
   "source": [
    "- Notice that the stop words provided by nltk are all lower-case. This works well given you already have converted all of your tweet words to lower case using the Python string method .lower().\n",
    "\n",
    "- Next, you will remove all stop words from each tweet. First, have a look at the words in the first tweet below."
   ]
  },
  {
   "cell_type": "code",
   "execution_count": 22,
   "metadata": {},
   "outputs": [
    {
     "data": {
      "text/plain": [
       "['i',\n",
       " 'wish',\n",
       " 'it',\n",
       " 'was',\n",
       " 'never',\n",
       " 'necessary',\n",
       " 'to',\n",
       " 'imagine',\n",
       " 'the',\n",
       " 'world',\n",
       " 'without',\n",
       " 'the',\n",
       " 'beauty',\n",
       " 'of',\n",
       " 'nature',\n",
       " 'i',\n",
       " 'hope',\n",
       " 'that',\n",
       " 'people',\n",
       " 'will',\n",
       " 'understan']"
      ]
     },
     "execution_count": 22,
     "metadata": {},
     "output_type": "execute_result"
    }
   ],
   "source": [
    "words_in_tweet[0]"
   ]
  },
  {
   "cell_type": "markdown",
   "metadata": {},
   "source": [
    "- Below, you remove all of the stop words in each tweet. \n",
    "- The list comprehension below might look confusing as it is nested. \n",
    "- The list comprehension below is the same as calling:\n",
    "\n",
    "for all_words in words_in_tweet:\n",
    "\n",
    "    for  word in all_words:\n",
    "        #remove stop words"
   ]
  },
  {
   "cell_type": "markdown",
   "metadata": {},
   "source": [
    "- Now, compare the words in the original tweet to the words in the tweet after the stop words are removed:"
   ]
  },
  {
   "cell_type": "code",
   "execution_count": 23,
   "metadata": {},
   "outputs": [
    {
     "data": {
      "text/plain": [
       "['wish',\n",
       " 'never',\n",
       " 'necessary',\n",
       " 'imagine',\n",
       " 'world',\n",
       " 'without',\n",
       " 'beauty',\n",
       " 'nature',\n",
       " 'hope',\n",
       " 'people',\n",
       " 'understan']"
      ]
     },
     "execution_count": 23,
     "metadata": {},
     "output_type": "execute_result"
    }
   ],
   "source": [
    "# Remove stop words from each tweet list of words\n",
    "tweets_nsw = [[word for word in tweet_words if not word in stop_words]\n",
    "              for tweet_words in words_in_tweet]\n",
    "\n",
    "tweets_nsw[0]"
   ]
  },
  {
   "cell_type": "markdown",
   "metadata": {},
   "source": [
    "- Again, you can flatten your list and create a counter to return the most commonly used words and the number of times that they are used."
   ]
  },
  {
   "cell_type": "code",
   "execution_count": 24,
   "metadata": {},
   "outputs": [
    {
     "data": {
      "text/plain": [
       "[('climate', 833),\n",
       " ('change', 601),\n",
       " ('climatechange', 96),\n",
       " ('environment', 74),\n",
       " ('amp', 63),\n",
       " ('global', 59),\n",
       " ('earth', 48),\n",
       " ('people', 47),\n",
       " ('climatecrisis', 40),\n",
       " ('globalwarming', 39),\n",
       " ('energy', 35),\n",
       " ('news', 34),\n",
       " ('report', 34),\n",
       " ('links', 32),\n",
       " ('action', 32)]"
      ]
     },
     "execution_count": 24,
     "metadata": {},
     "output_type": "execute_result"
    }
   ],
   "source": [
    "all_words_nsw = list(itertools.chain(*tweets_nsw))\n",
    "\n",
    "counts_nsw = collections.Counter(all_words_nsw)\n",
    "\n",
    "counts_nsw.most_common(15)"
   ]
  },
  {
   "cell_type": "markdown",
   "metadata": {},
   "source": [
    "Then, you can create the Pandas Dataframe and plot the word frequencies without the stop words."
   ]
  },
  {
   "cell_type": "code",
   "execution_count": 25,
   "metadata": {},
   "outputs": [
    {
     "data": {
      "image/png": "[encoded data removed]",
      "text/plain": [
       "<Figure size 576x576 with 1 Axes>"
      ]
     },
     "metadata": {},
     "output_type": "display_data"
    }
   ],
   "source": [
    "clean_tweets_nsw = pd.DataFrame(counts_nsw.most_common(15),\n",
    "                             columns=['words', 'count'])\n",
    "\n",
    "fig, ax = plt.subplots(figsize=(8, 8))\n",
    "\n",
    "# Plot horizontal bar graph\n",
    "clean_tweets_nsw.sort_values(by='count').plot.barh(x='words',\n",
    "                      y='count',\n",
    "                      ax=ax,\n",
    "                      color=\"purple\")\n",
    "\n",
    "ax.set_title(\"Common Words Found in Tweets (Without Stop Words)\")\n",
    "\n",
    "plt.show()"
   ]
  },
  {
   "cell_type": "markdown",
   "metadata": {},
   "source": [
    "**Remove Collection Words**"
   ]
  },
  {
   "cell_type": "markdown",
   "metadata": {},
   "source": [
    "- In additional to removing stopwords, it is common to also remove collection words. Collection words are the words that you used to query your data from Twitter.\n",
    "\n",
    "- In this case, you used “climate change” as a collection term. Thus, you can expect that these terms will be found in each tweet. This could skew your word frequency analysis.\n",
    "\n",
    "- Below you remove the collection words - climate, change, and climatechange - from the tweets through list comprehension"
   ]
  },
  {
   "cell_type": "code",
   "execution_count": 26,
   "metadata": {},
   "outputs": [],
   "source": [
    "collection_words = ['climatechange', 'climate', 'change']\n",
    "tweets_nsw_nc = [[w for w in word if not w in collection_words]\n",
    "                 for word in tweets_nsw]"
   ]
  },
  {
   "cell_type": "markdown",
   "metadata": {},
   "source": [
    "- Compare the words in first tweet with and without the collection words."
   ]
  },
  {
   "cell_type": "code",
   "execution_count": 27,
   "metadata": {},
   "outputs": [
    {
     "data": {
      "text/plain": [
       "['wish',\n",
       " 'never',\n",
       " 'necessary',\n",
       " 'imagine',\n",
       " 'world',\n",
       " 'without',\n",
       " 'beauty',\n",
       " 'nature',\n",
       " 'hope',\n",
       " 'people',\n",
       " 'understan']"
      ]
     },
     "execution_count": 27,
     "metadata": {},
     "output_type": "execute_result"
    }
   ],
   "source": [
    "tweets_nsw[0]"
   ]
  },
  {
   "cell_type": "code",
   "execution_count": 28,
   "metadata": {},
   "outputs": [
    {
     "data": {
      "text/plain": [
       "['wish',\n",
       " 'never',\n",
       " 'necessary',\n",
       " 'imagine',\n",
       " 'world',\n",
       " 'without',\n",
       " 'beauty',\n",
       " 'nature',\n",
       " 'hope',\n",
       " 'people',\n",
       " 'understan']"
      ]
     },
     "execution_count": 28,
     "metadata": {},
     "output_type": "execute_result"
    }
   ],
   "source": [
    "tweets_nsw_nc[0]"
   ]
  },
  {
   "cell_type": "markdown",
   "metadata": {},
   "source": [
    "**Calculate and Plot Word Frequency of Clean Tweets**"
   ]
  },
  {
   "cell_type": "markdown",
   "metadata": {},
   "source": [
    "- Now that you have cleaned up your data, you are ready to calculate and plot the final word frequency results.\n",
    "\n",
    "- Using the skills you have learned, you can flatten the list and create the counter for the words in the tweets."
   ]
  },
  {
   "cell_type": "code",
   "execution_count": 29,
   "metadata": {},
   "outputs": [
    {
     "data": {
      "text/plain": [
       "[('environment', 74),\n",
       " ('amp', 63),\n",
       " ('global', 59),\n",
       " ('earth', 48),\n",
       " ('people', 47),\n",
       " ('climatecrisis', 40),\n",
       " ('globalwarming', 39),\n",
       " ('energy', 35),\n",
       " ('news', 34),\n",
       " ('report', 34),\n",
       " ('links', 32),\n",
       " ('action', 32),\n",
       " ('time', 30),\n",
       " ('new', 30),\n",
       " ('science', 28)]"
      ]
     },
     "execution_count": 29,
     "metadata": {},
     "output_type": "execute_result"
    }
   ],
   "source": [
    "# Flatten list of words in clean tweets\n",
    "all_words_nsw_nc = list(itertools.chain(*tweets_nsw_nc))\n",
    "\n",
    "# Create counter of words in clean tweets\n",
    "counts_nsw_nc = collections.Counter(all_words_nsw_nc)\n",
    "\n",
    "counts_nsw_nc.most_common(15)"
   ]
  },
  {
   "cell_type": "markdown",
   "metadata": {},
   "source": [
    "- To find out the number of unique words across all of the tweets, you can take the len() of the object counts that you just created."
   ]
  },
  {
   "cell_type": "code",
   "execution_count": 30,
   "metadata": {},
   "outputs": [
    {
     "data": {
      "text/plain": [
       "3868"
      ]
     },
     "execution_count": 30,
     "metadata": {},
     "output_type": "execute_result"
    }
   ],
   "source": [
    "len(counts_nsw_nc)"
   ]
  },
  {
   "cell_type": "markdown",
   "metadata": {},
   "source": [
    "- Last, you can create the Pandas Dataframe of the words and their counts and plot the top 15 most common words from the clean tweets (i.e. no URLs, stop words, or collection words)."
   ]
  },
  {
   "cell_type": "code",
   "execution_count": 31,
   "metadata": {},
   "outputs": [
    {
     "data": {
      "text/html": [
       "<div>\n",
       "<style scoped>\n",
       "    .dataframe tbody tr th:only-of-type {\n",
       "        vertical-align: middle;\n",
       "    }\n",
       "\n",
       "    .dataframe tbody tr th {\n",
       "        vertical-align: top;\n",
       "    }\n",
       "\n",
       "    .dataframe thead th {\n",
       "        text-align: right;\n",
       "    }\n",
       "</style>\n",
       "<table border=\"1\" class=\"dataframe\">\n",
       "  <thead>\n",
       "    <tr style=\"text-align: right;\">\n",
       "      <th></th>\n",
       "      <th>words</th>\n",
       "      <th>count</th>\n",
       "    </tr>\n",
       "  </thead>\n",
       "  <tbody>\n",
       "    <tr>\n",
       "      <th>0</th>\n",
       "      <td>environment</td>\n",
       "      <td>74</td>\n",
       "    </tr>\n",
       "    <tr>\n",
       "      <th>1</th>\n",
       "      <td>amp</td>\n",
       "      <td>63</td>\n",
       "    </tr>\n",
       "    <tr>\n",
       "      <th>2</th>\n",
       "      <td>global</td>\n",
       "      <td>59</td>\n",
       "    </tr>\n",
       "    <tr>\n",
       "      <th>3</th>\n",
       "      <td>earth</td>\n",
       "      <td>48</td>\n",
       "    </tr>\n",
       "    <tr>\n",
       "      <th>4</th>\n",
       "      <td>people</td>\n",
       "      <td>47</td>\n",
       "    </tr>\n",
       "  </tbody>\n",
       "</table>\n",
       "</div>"
      ],
      "text/plain": [
       "         words  count\n",
       "0  environment     74\n",
       "1          amp     63\n",
       "2       global     59\n",
       "3        earth     48\n",
       "4       people     47"
      ]
     },
     "execution_count": 31,
     "metadata": {},
     "output_type": "execute_result"
    }
   ],
   "source": [
    "clean_tweets_ncw = pd.DataFrame(counts_nsw_nc.most_common(15),\n",
    "                             columns=['words', 'count'])\n",
    "clean_tweets_ncw.head()"
   ]
  },
  {
   "cell_type": "code",
   "execution_count": 32,
   "metadata": {},
   "outputs": [
    {
     "data": {
      "image/png": "[encoded data removed]",
      "text/plain": [
       "<Figure size 576x576 with 1 Axes>"
      ]
     },
     "metadata": {},
     "output_type": "display_data"
    }
   ],
   "source": [
    "fig, ax = plt.subplots(figsize=(8, 8))\n",
    "\n",
    "# Plot horizontal bar graph\n",
    "clean_tweets_ncw.sort_values(by='count').plot.barh(x='words',\n",
    "                      y='count',\n",
    "                      ax=ax,\n",
    "                      color=\"purple\")\n",
    "\n",
    "ax.set_title(\"Common Words Found in Tweets (Without Stop or Collection Words)\")\n",
    "\n",
    "plt.show()"
   ]
  },
  {
   "cell_type": "code",
   "execution_count": null,
   "metadata": {},
   "outputs": [],
   "source": []
  }
 ],
 "metadata": {
  "kernelspec": {
   "display_name": "Python 3 (ipykernel)",
   "language": "python",
   "name": "python3"
  },
  "language_info": {
   "codemirror_mode": {
    "name": "ipython",
    "version": 3
   },
   "file_extension": ".py",
   "mimetype": "text/x-python",
   "name": "python",
   "nbconvert_exporter": "python",
   "pygments_lexer": "ipython3",
   "version": "3.9.12"
  }
 },
 "nbformat": 4,
 "nbformat_minor": 2
}
