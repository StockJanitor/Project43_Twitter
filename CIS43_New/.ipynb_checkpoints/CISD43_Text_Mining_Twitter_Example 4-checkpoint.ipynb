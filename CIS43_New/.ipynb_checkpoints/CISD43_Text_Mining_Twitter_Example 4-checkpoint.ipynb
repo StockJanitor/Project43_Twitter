{
 "cells": [
  {
   "cell_type": "code",
   "execution_count": null,
   "metadata": {},
   "outputs": [],
   "source": [
    "#A GUI window asks you for a keyword and sample size and analyses the sentiment of tweets about\n",
    "#the keyword in a scatterplot. \n",
    "#from a github"
   ]
  },
  {
   "cell_type": "code",
   "execution_count": 1,
   "metadata": {},
   "outputs": [],
   "source": [
    "import tweepy\n",
    "from tkinter import *\n",
    "from time import sleep\n",
    "from datetime import datetime\n",
    "from textblob import TextBlob\n",
    "import matplotlib.pyplot as plt\n"
   ]
  },
  {
   "cell_type": "code",
   "execution_count": 2,
   "metadata": {},
   "outputs": [],
   "source": [
    "#Authentication\n",
    "\n",
    "from credentials import *\n",
    "#create a file called credentials.py make sure it is in the same folder as your jupyter file \n",
    "# the credentials file will look like this\n",
    "#ACCESS_TOKEN = 'xxx'\n",
    "#ACCESS_SECRET = 'xx'\n",
    "#CONSUMER_KEY = 'xx'\n",
    "#CONSUMER_SECRET = 'xx'"
   ]
  },
  {
   "cell_type": "code",
   "execution_count": 3,
   "metadata": {},
   "outputs": [],
   "source": [
    "auth = tweepy.OAuthHandler(consumer_key, consumer_secret)\n",
    "auth.set_access_token(access_token, access_secret)\n",
    "api = tweepy.API(auth)\n"
   ]
  },
  {
   "cell_type": "code",
   "execution_count": 4,
   "metadata": {},
   "outputs": [],
   "source": [
    "#GUI\n",
    "root = Tk()\n",
    "\n",
    "label1 = Label(root, text=\"Search\")\n",
    "E1 = Entry(root, bd =5)\n",
    "\n",
    "label2 = Label(root, text=\"Sample Size\")\n",
    "E2 = Entry(root, bd =5)\n",
    "\n"
   ]
  },
  {
   "cell_type": "code",
   "execution_count": 5,
   "metadata": {},
   "outputs": [],
   "source": [
    "def getE1():\n",
    "    return E1.get()\n",
    "\n",
    "def getE2():\n",
    "    return E2.get()"
   ]
  },
  {
   "cell_type": "code",
   "execution_count": 6,
   "metadata": {},
   "outputs": [],
   "source": [
    "def getData():\n",
    "    getE1()\n",
    "    keyword = getE1()\n",
    "\n",
    "    getE2()\n",
    "    numberOfTweets = getE2()\n",
    "    numberOfTweets = int(numberOfTweets)\n",
    "\n",
    "    #Where the tweets are stored to be plotted\n",
    "    polarity_list = []\n",
    "    numbers_list = []\n",
    "    number = 1\n",
    "\n",
    "    for tweet in tweepy.Cursor(api.search_tweets, keyword, lang=\"en\").items(numberOfTweets):\n",
    "        try:\n",
    "            analysis = TextBlob(tweet.text)\n",
    "            analysis = analysis.sentiment\n",
    "            polarity = analysis.polarity\n",
    "            polarity_list.append(polarity)\n",
    "            numbers_list.append(number)\n",
    "            number = number + 1\n",
    "\n",
    "        except tweepy.TweepError as e:\n",
    "            print(e.reason)\n",
    "\n",
    "        except StopIteration:\n",
    "            break\n",
    "\n",
    "    #Plotting\n",
    "    axes = plt.gca()\n",
    "    axes.set_ylim([-1, 2])\n",
    "\n",
    "    plt.scatter(numbers_list, polarity_list)\n",
    "\n",
    "    averagePolarity = (sum(polarity_list))/(len(polarity_list))\n",
    "    averagePolarity = \"{0:.0f}%\".format(averagePolarity * 100)\n",
    "    time  = datetime.now().strftime(\"At: %H:%M\\nOn: %m-%d-%y\")\n",
    "\n",
    "    plt.text(0, 1.25, \"Average Sentiment:  \" + str(averagePolarity) + \"\\n\" + time, fontsize=12, bbox = dict(facecolor='none', edgecolor='black', boxstyle='square, pad = 1'))\n",
    "\n",
    "    plt.title(\"Sentiment of \" + keyword + \" on Twitter\")\n",
    "    plt.xlabel(\"Number of Tweets\")\n",
    "    plt.ylabel(\"Sentiment\")\n",
    "    plt.show()\n"
   ]
  },
  {
   "cell_type": "code",
   "execution_count": 7,
   "metadata": {},
   "outputs": [],
   "source": [
    "submit = Button(root, text =\"Submit\", command = getData)\n",
    "\n",
    "label1.pack()\n",
    "E1.pack()\n",
    "label2.pack()\n",
    "E2.pack()\n",
    "submit.pack(side =BOTTOM)\n"
   ]
  },
  {
   "cell_type": "code",
   "execution_count": 8,
   "metadata": {},
   "outputs": [
    {
     "data": {
      "image/png": "[encoded data removed]",
      "text/plain": [
       "<Figure size 432x288 with 1 Axes>"
      ]
     },
     "metadata": {
      "needs_background": "light"
     },
     "output_type": "display_data"
    }
   ],
   "source": [
    "root.mainloop()"
   ]
  },
  {
   "cell_type": "code",
   "execution_count": null,
   "metadata": {},
   "outputs": [],
   "source": []
  }
 ],
 "metadata": {
  "kernelspec": {
   "display_name": "Python 3 (ipykernel)",
   "language": "python",
   "name": "python3"
  },
  "language_info": {
   "codemirror_mode": {
    "name": "ipython",
    "version": 3
   },
   "file_extension": ".py",
   "mimetype": "text/x-python",
   "name": "python",
   "nbconvert_exporter": "python",
   "pygments_lexer": "ipython3",
   "version": "3.9.12"
  }
 },
 "nbformat": 4,
 "nbformat_minor": 2
}
