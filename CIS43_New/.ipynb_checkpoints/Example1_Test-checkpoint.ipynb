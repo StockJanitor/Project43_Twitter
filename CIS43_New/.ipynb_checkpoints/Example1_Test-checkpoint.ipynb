{
 "cells": [
  {
   "cell_type": "markdown",
   "metadata": {
    "toc": "true"
   },
   "source": [
    "# Table of Contents\n",
    " <p><div class=\"lev1 toc-item\"><a href=\"#Minando-datos-de-Twitter-con-Pandas-+-Tweepy\" data-toc-modified-id=\"Minando-datos-de-Twitter-con-Pandas-+-Tweepy-1\"><span class=\"toc-item-num\">1&nbsp;&nbsp;</span><strong>Minando datos de Twitter con Pandas + Tweepy</strong></a></div><div class=\"lev2 toc-item\"><a href=\"#Importamos-nuestras-librerías\" data-toc-modified-id=\"Importamos-nuestras-librerías-11\"><span class=\"toc-item-num\">1.1&nbsp;&nbsp;</span>Importamos nuestras librerías</a></div><div class=\"lev2 toc-item\"><a href=\"#Creamos-una-App-de-Twitter\" data-toc-modified-id=\"Creamos-una-App-de-Twitter-12\"><span class=\"toc-item-num\">1.2&nbsp;&nbsp;</span>Creamos una App de Twitter</a></div><div class=\"lev2 toc-item\"><a href=\"#Extraemos-tweets\" data-toc-modified-id=\"Extraemos-tweets-13\"><span class=\"toc-item-num\">1.3&nbsp;&nbsp;</span>Extraemos tweets</a></div><div class=\"lev2 toc-item\"><a href=\"#Creamos-un-dataframe\" data-toc-modified-id=\"Creamos-un-dataframe-14\"><span class=\"toc-item-num\">1.4&nbsp;&nbsp;</span>Creamos un dataframe</a></div><div class=\"lev2 toc-item\"><a href=\"#Añadimos-información-relevante\" data-toc-modified-id=\"Añadimos-información-relevante-15\"><span class=\"toc-item-num\">1.5&nbsp;&nbsp;</span>Añadimos información relevante</a></div><div class=\"lev1 toc-item\"><a href=\"#Visualización-y-estadística-básica\" data-toc-modified-id=\"Visualización-y-estadística-básica-2\"><span class=\"toc-item-num\">2&nbsp;&nbsp;</span><strong>Visualización y estadística básica</strong></a></div><div class=\"lev2 toc-item\"><a href=\"#Promedios-y-popularidad\" data-toc-modified-id=\"Promedios-y-popularidad-21\"><span class=\"toc-item-num\">2.1&nbsp;&nbsp;</span>Promedios y popularidad</a></div><div class=\"lev2 toc-item\"><a href=\"#Series-de-tiempo\" data-toc-modified-id=\"Series-de-tiempo-22\"><span class=\"toc-item-num\">2.2&nbsp;&nbsp;</span>Series de tiempo</a></div><div class=\"lev2 toc-item\"><a href=\"#Pie-charts-de-dispositivos\" data-toc-modified-id=\"Pie-charts-de-dispositivos-23\"><span class=\"toc-item-num\">2.3&nbsp;&nbsp;</span>Pie charts de dispositivos</a></div><div class=\"lev1 toc-item\"><a href=\"#Análisis-de-sentimientos\" data-toc-modified-id=\"Análisis-de-sentimientos-3\"><span class=\"toc-item-num\">3&nbsp;&nbsp;</span><strong>Análisis de sentimientos</strong></a></div><div class=\"lev2 toc-item\"><a href=\"#Importando-textblob\" data-toc-modified-id=\"Importando-textblob-31\"><span class=\"toc-item-num\">3.1&nbsp;&nbsp;</span>Importando textblob</a></div><div class=\"lev2 toc-item\"><a href=\"#Analizando-sentimientos\" data-toc-modified-id=\"Analizando-sentimientos-32\"><span class=\"toc-item-num\">3.2&nbsp;&nbsp;</span>Analizando sentimientos</a></div><div class=\"lev2 toc-item\"><a href=\"#Analizando-resultados\" data-toc-modified-id=\"Analizando-resultados-33\"><span class=\"toc-item-num\">3.3&nbsp;&nbsp;</span>Analizando resultados</a></div><div class=\"lev1 toc-item\"><a href=\"#Referencias\" data-toc-modified-id=\"Referencias-4\"><span class=\"toc-item-num\">4&nbsp;&nbsp;</span>Referencias</a></div>"
   ]
  },
  {
   "cell_type": "markdown",
   "metadata": {
    "slideshow": {
     "slide_type": "slide"
    }
   },
   "source": [
    "# **Minando datos de Twitter con Pandas + Tweepy**"
   ]
  },
  {
   "cell_type": "markdown",
   "metadata": {
    "slideshow": {
     "slide_type": "slide"
    }
   },
   "source": [
    "## Importamos nuestras librerías"
   ]
  },
  {
   "cell_type": "markdown",
   "metadata": {
    "slideshow": {
     "slide_type": "fragment"
    }
   },
   "source": [
    "**Pandas** es una biblioteca de código abierto, que proporciona estructuras de datos de alto rendimiento y fácil de usar y herramientas de análisis de datos para el lenguaje de programación Python.\n",
    "\n",
    "**Tweepy** es una biblioteca de Python fácil de usar para acceder a la API de Twitter."
   ]
  },
  {
   "cell_type": "markdown",
   "metadata": {
    "slideshow": {
     "slide_type": "subslide"
    }
   },
   "source": [
    "**NumPy** es el paquete fundamental para la computación científica con Python. Contiene entre otras cosas:\n",
    "* Un potente objeto de matriz N-dimensional\n",
    "* Sofisticadas funciones de radiodifusión\n",
    "* Herramientas para integrar código C / C ++ y Fortran\n",
    "* Álgebra lineal útil, transformada de Fourier y capacidades de números aleatorios\n",
    "\n",
    "Además de sus usos científicos obvios, NumPy también puede ser utilizado como un eficiente contenedor multidimensional de datos genéricos. Se pueden definir tipos de datos arbitrarios. Esto permite a NumPy integrarse de forma transparente y rápida con una amplia variedad de bases de datos."
   ]
  },
  {
   "cell_type": "markdown",
   "metadata": {
    "slideshow": {
     "slide_type": "subslide"
    }
   },
   "source": [
    "**Matplotlib** es una biblioteca de trazado de Python 2D que produce figuras de calidad de publicación en una variedad de formatos impresos y entornos interactivos entre plataformas. Matplotlib se puede utilizar en scripts Python, en el shell Python e IPython, en el Jupyter Notebook, en servidores de aplicaciones web y para kits de herramientas de interfaz gráfica de usuario.\n",
    "\n",
    "**Seaborn** es una biblioteca de visualización de Python basada en matplotlib. Proporciona una interfaz de alto nivel para dibujar gráficos estadísticos atractivos."
   ]
  },
  {
   "cell_type": "code",
   "execution_count": 1,
   "metadata": {
    "ExecuteTime": {
     "end_time": "2017-09-02T03:21:57.428820Z",
     "start_time": "2017-09-02T03:21:56.145867Z"
    },
    "slideshow": {
     "slide_type": "slide"
    }
   },
   "outputs": [],
   "source": [
    "# General:\n",
    "import tweepy           # Para consumir la API de Twitter\n",
    "import pandas as pd     # Para manejo de datos\n",
    "import numpy as np      # Para operaciones numéricas\n",
    "\n",
    "# Para ploteo y visualización:\n",
    "import seaborn as sns\n",
    "from IPython.display import display\n",
    "import matplotlib.pyplot as plt\n",
    "%matplotlib inline"
   ]
  },
  {
   "cell_type": "markdown",
   "metadata": {
    "slideshow": {
     "slide_type": "slide"
    }
   },
   "source": [
    "## Creamos una App de Twitter"
   ]
  },
  {
   "cell_type": "markdown",
   "metadata": {
    "slideshow": {
     "slide_type": "fragment"
    }
   },
   "source": [
    "Para poder extraer twits para un posterior análisis, debemos acceder a nuestra cuenta de Twitter y crear una app. El sitio para poder hacer eso es [https://apps.twitter.com/](https://apps.twitter.com/).\n",
    "\n",
    "De esta app que creamos necesitaremos actualizar nuestro script `credentials.py` con la siguiente información:\n",
    "* Consumer Key (API Key)\n",
    "* Consumer Secret (API Secret)\n",
    "* Access Token\n",
    "* Access Token Secret\n",
    "\n",
    "Habiendo hehco esto, podemos proceder a consumir el API de Twitter. Para ello, creamos una función que nos permita autenticar nuestras llaves de acceso y consumo."
   ]
  },
  {
   "cell_type": "code",
   "execution_count": 2,
   "metadata": {
    "ExecuteTime": {
     "end_time": "2017-09-02T03:21:59.089623Z",
     "start_time": "2017-09-02T03:21:59.077624Z"
    }
   },
   "outputs": [
    {
     "ename": "ModuleNotFoundError",
     "evalue": "No module named 'credentials'",
     "output_type": "error",
     "traceback": [
      "\u001b[1;31m---------------------------------------------------------------------------\u001b[0m",
      "\u001b[1;31mModuleNotFoundError\u001b[0m                       Traceback (most recent call last)",
      "\u001b[1;32m<ipython-input-2-87f0d8120959>\u001b[0m in \u001b[0;36m<module>\u001b[1;34m\u001b[0m\n\u001b[0;32m      1\u001b[0m \u001b[1;31m# Importamos nuestras llaves de acceso:\u001b[0m\u001b[1;33m\u001b[0m\u001b[1;33m\u001b[0m\u001b[1;33m\u001b[0m\u001b[0m\n\u001b[1;32m----> 2\u001b[1;33m \u001b[1;32mfrom\u001b[0m \u001b[0mcredentials\u001b[0m \u001b[1;32mimport\u001b[0m \u001b[1;33m*\u001b[0m\u001b[1;33m\u001b[0m\u001b[1;33m\u001b[0m\u001b[0m\n\u001b[0m\u001b[0;32m      3\u001b[0m \u001b[1;33m\u001b[0m\u001b[0m\n\u001b[0;32m      4\u001b[0m \u001b[1;31m# Configuración del API:\u001b[0m\u001b[1;33m\u001b[0m\u001b[1;33m\u001b[0m\u001b[1;33m\u001b[0m\u001b[0m\n\u001b[0;32m      5\u001b[0m \u001b[1;32mdef\u001b[0m \u001b[0mtwitter_config\u001b[0m\u001b[1;33m(\u001b[0m\u001b[1;33m)\u001b[0m\u001b[1;33m:\u001b[0m\u001b[1;33m\u001b[0m\u001b[1;33m\u001b[0m\u001b[0m\n",
      "\u001b[1;31mModuleNotFoundError\u001b[0m: No module named 'credentials'"
     ]
    }
   ],
   "source": [
    "# Importamos nuestras llaves de acceso:\n",
    "from credentials import *\n",
    "\n",
    "# Configuración del API:\n",
    "def twitter_config():\n",
    "    \"\"\"\n",
    "    Función de utilidad para configurar el consumo del \n",
    "    API de Twitter con las llaves proporcionadas.\n",
    "    \"\"\"\n",
    "    # Autenticar y acceder usando llaves:\n",
    "    auth = tweepy.OAuthHandler(CONSUMER_KEY, CONSUMER_SECRET)\n",
    "    auth.set_access_token(ACCESS_TOKEN, ACCESS_SECRET)\n",
    "\n",
    "    # Regresar acceso al API:\n",
    "    api = tweepy.API(auth)\n",
    "    return api"
   ]
  },
  {
   "cell_type": "markdown",
   "metadata": {},
   "source": [
    "## Extraemos tweets"
   ]
  },
  {
   "cell_type": "markdown",
   "metadata": {},
   "source": [
    "Ahora podemos crear un extractor de datos de Twitter para un usuario en específico.\n",
    "\n",
    "En mi caso, utilizaré a Donald Trump ([@realDonaldTrump](https://twitter.com/realDonaldTrump)) como usuario a minar.\n",
    "\n",
    "\n",
    "<!-- <iframe src='https://twitter.com/realDonaldTrump' width=700 height=350></iframe> -->"
   ]
  },
  {
   "cell_type": "code",
   "execution_count": 3,
   "metadata": {
    "ExecuteTime": {
     "end_time": "2017-09-02T03:22:03.421227Z",
     "start_time": "2017-09-02T03:22:02.131664Z"
    }
   },
   "outputs": [
    {
     "name": "stdout",
     "output_type": "stream",
     "text": [
      "Tweets obtenidos: 200.\n",
      "\n",
      "Los primeros 5 tweets:\n",
      "\n",
      "On behalf of @FLOTUS Melania &amp; myself, THANK YOU for today's update &amp; GREAT WORK! #SouthernBaptist @SendRelief,… https://t.co/4yZCeXCt6n\n",
      "\n",
      "I will be going to Texas and Louisiana tomorrow with First Lady. Great progress being made! Spending weekend working at White House.\n",
      "\n",
      "Stock Market up 5 months in a row!\n",
      "\n",
      "'President Donald J. Trump Proclaims September 3, 2017, as a National Day of Prayer' #HurricaneHarvey #PrayForTexas… https://t.co/tOMfFWwEsN\n",
      "\n",
      "Texas is healing fast thanks to all of the great men &amp; women who have been working so hard. But still so much to do. Will be back tomorrow!\n",
      "\n"
     ]
    }
   ],
   "source": [
    "# Creamos un objeto extractor:\n",
    "extractor = twitter_config()\n",
    "\n",
    "# Creamos una lista de tweets:\n",
    "tweets = extractor.user_timeline(screen_name=\"realDonaldTrump\", count=200)\n",
    "print(\"Tweets obtenidos: {}.\\n\".format(len(tweets)))\n",
    "\n",
    "# Imprimimos los primeros 5 tweets:\n",
    "print(\"Los primeros 5 tweets:\\n\")\n",
    "for tweet in tweets[:5]:\n",
    "    print(tweet.text)\n",
    "    print()"
   ]
  },
  {
   "cell_type": "markdown",
   "metadata": {},
   "source": [
    "## Creamos un dataframe"
   ]
  },
  {
   "cell_type": "markdown",
   "metadata": {},
   "source": [
    "Ahora tenemos información inicial para construir un `DataFrame` de pandas, para poder manipular la información de manera más sencilla.\n",
    "\n",
    "La función `display` de Jupyter Notebook nos permite tener un ploteo más amigable, y el método `head` de un dataframe nos permite visualizar sólo los primeros 5 elementos (o el número que elementos que se le pasen como argumento)."
   ]
  },
  {
   "cell_type": "code",
   "execution_count": 4,
   "metadata": {
    "ExecuteTime": {
     "end_time": "2017-09-02T03:22:07.856260Z",
     "start_time": "2017-09-02T03:22:07.833635Z"
    }
   },
   "outputs": [
    {
     "data": {
      "text/html": [
       "<div>\n",
       "<style>\n",
       "    .dataframe thead tr:only-child th {\n",
       "        text-align: right;\n",
       "    }\n",
       "\n",
       "    .dataframe thead th {\n",
       "        text-align: left;\n",
       "    }\n",
       "\n",
       "    .dataframe tbody tr th {\n",
       "        vertical-align: top;\n",
       "    }\n",
       "</style>\n",
       "<table border=\"1\" class=\"dataframe\">\n",
       "  <thead>\n",
       "    <tr style=\"text-align: right;\">\n",
       "      <th></th>\n",
       "      <th>Tweets</th>\n",
       "    </tr>\n",
       "  </thead>\n",
       "  <tbody>\n",
       "    <tr>\n",
       "      <th>0</th>\n",
       "      <td>On behalf of @FLOTUS Melania &amp;amp; myself, THA...</td>\n",
       "    </tr>\n",
       "    <tr>\n",
       "      <th>1</th>\n",
       "      <td>I will be going to Texas and Louisiana tomorro...</td>\n",
       "    </tr>\n",
       "    <tr>\n",
       "      <th>2</th>\n",
       "      <td>Stock Market up 5 months in a row!</td>\n",
       "    </tr>\n",
       "    <tr>\n",
       "      <th>3</th>\n",
       "      <td>'President Donald J. Trump Proclaims September...</td>\n",
       "    </tr>\n",
       "    <tr>\n",
       "      <th>4</th>\n",
       "      <td>Texas is healing fast thanks to all of the gre...</td>\n",
       "    </tr>\n",
       "    <tr>\n",
       "      <th>5</th>\n",
       "      <td>...get things done at a record clip. Many big ...</td>\n",
       "    </tr>\n",
       "    <tr>\n",
       "      <th>6</th>\n",
       "      <td>General John Kelly is doing a great job as Chi...</td>\n",
       "    </tr>\n",
       "    <tr>\n",
       "      <th>7</th>\n",
       "      <td>Wow, looks like James Comey exonerated Hillary...</td>\n",
       "    </tr>\n",
       "    <tr>\n",
       "      <th>8</th>\n",
       "      <td>THANK YOU to all of the incredible HEROES in T...</td>\n",
       "    </tr>\n",
       "    <tr>\n",
       "      <th>9</th>\n",
       "      <td>RT @FoxNews: .@KellyannePolls on Harvey recove...</td>\n",
       "    </tr>\n",
       "  </tbody>\n",
       "</table>\n",
       "</div>"
      ],
      "text/plain": [
       "                                              Tweets\n",
       "0  On behalf of @FLOTUS Melania &amp; myself, THA...\n",
       "1  I will be going to Texas and Louisiana tomorro...\n",
       "2                 Stock Market up 5 months in a row!\n",
       "3  'President Donald J. Trump Proclaims September...\n",
       "4  Texas is healing fast thanks to all of the gre...\n",
       "5  ...get things done at a record clip. Many big ...\n",
       "6  General John Kelly is doing a great job as Chi...\n",
       "7  Wow, looks like James Comey exonerated Hillary...\n",
       "8  THANK YOU to all of the incredible HEROES in T...\n",
       "9  RT @FoxNews: .@KellyannePolls on Harvey recove..."
      ]
     },
     "metadata": {},
     "output_type": "display_data"
    }
   ],
   "source": [
    "# Podemos crear un dataframe como sigue:\n",
    "datos = pd.DataFrame(data=[tweet.text for tweet in tweets], columns=['Tweets'])\n",
    "\n",
    "# Hacemos un display del dataframe:\n",
    "display(datos.head(10))"
   ]
  },
  {
   "cell_type": "markdown",
   "metadata": {},
   "source": [
    "Algo interesante es la cantidad de métodos internos que tiene la estructura de un tweet en Tweepy:"
   ]
  },
  {
   "cell_type": "code",
   "execution_count": 5,
   "metadata": {
    "ExecuteTime": {
     "end_time": "2017-09-02T03:22:34.896911Z",
     "start_time": "2017-09-02T03:22:34.891327Z"
    }
   },
   "outputs": [
    {
     "name": "stdout",
     "output_type": "stream",
     "text": [
      "['__class__', '__delattr__', '__dict__', '__dir__', '__doc__', '__eq__', '__format__', '__ge__', '__getattribute__', '__getstate__', '__gt__', '__hash__', '__init__', '__init_subclass__', '__le__', '__lt__', '__module__', '__ne__', '__new__', '__reduce__', '__reduce_ex__', '__repr__', '__setattr__', '__sizeof__', '__str__', '__subclasshook__', '__weakref__', '_api', '_json', 'author', 'contributors', 'coordinates', 'created_at', 'destroy', 'entities', 'favorite', 'favorite_count', 'favorited', 'geo', 'id', 'id_str', 'in_reply_to_screen_name', 'in_reply_to_status_id', 'in_reply_to_status_id_str', 'in_reply_to_user_id', 'in_reply_to_user_id_str', 'is_quote_status', 'lang', 'parse', 'parse_list', 'place', 'possibly_sensitive', 'retweet', 'retweet_count', 'retweeted', 'retweets', 'source', 'source_url', 'text', 'truncated', 'user']\n"
     ]
    }
   ],
   "source": [
    "# Imprimimos métodos internos:\n",
    "print(dir(tweets[0]))"
   ]
  },
  {
   "cell_type": "markdown",
   "metadata": {},
   "source": [
    "De aquí resulta interesante que, si queremos obtener datos como la fecha de creación de un tweet o el dispositivo con el que fue creado, podemos acceder a esta información con métodos que aparecen en esta lista. Un ejemplo es el siguiente:"
   ]
  },
  {
   "cell_type": "code",
   "execution_count": 6,
   "metadata": {
    "ExecuteTime": {
     "end_time": "2017-09-02T03:22:37.416236Z",
     "start_time": "2017-09-02T03:22:37.399849Z"
    }
   },
   "outputs": [
    {
     "name": "stdout",
     "output_type": "stream",
     "text": [
      "903778130850131970\n",
      "2017-09-02 00:34:32\n",
      "Twitter for iPhone\n",
      "24572\n",
      "5585\n",
      "None\n",
      "None\n",
      "{'hashtags': [{'text': 'SouthernBaptist', 'indices': [90, 106]}], 'symbols': [], 'user_mentions': [{'screen_name': 'FLOTUS', 'name': 'Melania Trump', 'id': 818876014390603776, 'id_str': '818876014390603776', 'indices': [13, 20]}, {'screen_name': 'sendrelief', 'name': 'Send Relief', 'id': 3228928584, 'id_str': '3228928584', 'indices': [107, 118]}], 'urls': [{'url': 'https://t.co/4yZCeXCt6n', 'expanded_url': 'https://twitter.com/i/web/status/903778130850131970', 'display_url': 'twitter.com/i/web/status/9…', 'indices': [121, 144]}]}\n"
     ]
    }
   ],
   "source": [
    "# Imprimimos info del primer tweet:\n",
    "print(tweets[0].id)\n",
    "print(tweets[0].created_at)\n",
    "print(tweets[0].source)\n",
    "print(tweets[0].favorite_count)\n",
    "print(tweets[0].retweet_count)\n",
    "print(tweets[0].geo)\n",
    "print(tweets[0].coordinates)\n",
    "print(tweets[0].entities)"
   ]
  },
  {
   "cell_type": "markdown",
   "metadata": {},
   "source": [
    "## Añadimos información relevante"
   ]
  },
  {
   "cell_type": "markdown",
   "metadata": {},
   "source": [
    "Esta información de cada tweet puede ser agregada a nuestro dataframe:"
   ]
  },
  {
   "cell_type": "code",
   "execution_count": 7,
   "metadata": {
    "ExecuteTime": {
     "end_time": "2017-09-02T03:22:40.934212Z",
     "start_time": "2017-09-02T03:22:40.915152Z"
    },
    "collapsed": true
   },
   "outputs": [],
   "source": [
    "# Añadimos datos relevantes:\n",
    "datos['len'] = np.array([len(tweet.text) for tweet in tweets])\n",
    "datos['ID']  = np.array([tweet.id for tweet in tweets])\n",
    "datos['Creado'] = np.array([tweet.created_at for tweet in tweets])\n",
    "datos['Fuente'] = np.array([tweet.source for tweet in tweets])\n",
    "datos['Likes']  = np.array([tweet.favorite_count for tweet in tweets])\n",
    "datos['RTs']    = np.array([tweet.retweet_count for tweet in tweets])"
   ]
  },
  {
   "cell_type": "markdown",
   "metadata": {},
   "source": [
    "Reimprimendo parte de nuestro dataframe, vemos que la actualización se realiza:"
   ]
  },
  {
   "cell_type": "code",
   "execution_count": 8,
   "metadata": {
    "ExecuteTime": {
     "end_time": "2017-09-02T03:22:43.176975Z",
     "start_time": "2017-09-02T03:22:43.156025Z"
    }
   },
   "outputs": [
    {
     "data": {
      "text/html": [
       "<div>\n",
       "<style>\n",
       "    .dataframe thead tr:only-child th {\n",
       "        text-align: right;\n",
       "    }\n",
       "\n",
       "    .dataframe thead th {\n",
       "        text-align: left;\n",
       "    }\n",
       "\n",
       "    .dataframe tbody tr th {\n",
       "        vertical-align: top;\n",
       "    }\n",
       "</style>\n",
       "<table border=\"1\" class=\"dataframe\">\n",
       "  <thead>\n",
       "    <tr style=\"text-align: right;\">\n",
       "      <th></th>\n",
       "      <th>Tweets</th>\n",
       "      <th>len</th>\n",
       "      <th>ID</th>\n",
       "      <th>Creado</th>\n",
       "      <th>Fuente</th>\n",
       "      <th>Likes</th>\n",
       "      <th>RTs</th>\n",
       "    </tr>\n",
       "  </thead>\n",
       "  <tbody>\n",
       "    <tr>\n",
       "      <th>0</th>\n",
       "      <td>On behalf of @FLOTUS Melania &amp;amp; myself, THA...</td>\n",
       "      <td>144</td>\n",
       "      <td>903778130850131970</td>\n",
       "      <td>2017-09-02 00:34:32</td>\n",
       "      <td>Twitter for iPhone</td>\n",
       "      <td>24572</td>\n",
       "      <td>5585</td>\n",
       "    </tr>\n",
       "    <tr>\n",
       "      <th>1</th>\n",
       "      <td>I will be going to Texas and Louisiana tomorro...</td>\n",
       "      <td>132</td>\n",
       "      <td>903770196388831233</td>\n",
       "      <td>2017-09-02 00:03:00</td>\n",
       "      <td>Twitter for iPhone</td>\n",
       "      <td>44748</td>\n",
       "      <td>8825</td>\n",
       "    </tr>\n",
       "    <tr>\n",
       "      <th>2</th>\n",
       "      <td>Stock Market up 5 months in a row!</td>\n",
       "      <td>34</td>\n",
       "      <td>903766326631698432</td>\n",
       "      <td>2017-09-01 23:47:38</td>\n",
       "      <td>Twitter for iPhone</td>\n",
       "      <td>44518</td>\n",
       "      <td>9134</td>\n",
       "    </tr>\n",
       "    <tr>\n",
       "      <th>3</th>\n",
       "      <td>'President Donald J. Trump Proclaims September...</td>\n",
       "      <td>140</td>\n",
       "      <td>903705867891204096</td>\n",
       "      <td>2017-09-01 19:47:23</td>\n",
       "      <td>Media Studio</td>\n",
       "      <td>47009</td>\n",
       "      <td>15127</td>\n",
       "    </tr>\n",
       "    <tr>\n",
       "      <th>4</th>\n",
       "      <td>Texas is healing fast thanks to all of the gre...</td>\n",
       "      <td>143</td>\n",
       "      <td>903603043714957312</td>\n",
       "      <td>2017-09-01 12:58:48</td>\n",
       "      <td>Twitter for iPhone</td>\n",
       "      <td>77680</td>\n",
       "      <td>15398</td>\n",
       "    </tr>\n",
       "    <tr>\n",
       "      <th>5</th>\n",
       "      <td>...get things done at a record clip. Many big ...</td>\n",
       "      <td>113</td>\n",
       "      <td>903600265420578819</td>\n",
       "      <td>2017-09-01 12:47:46</td>\n",
       "      <td>Twitter for iPhone</td>\n",
       "      <td>54664</td>\n",
       "      <td>11424</td>\n",
       "    </tr>\n",
       "    <tr>\n",
       "      <th>6</th>\n",
       "      <td>General John Kelly is doing a great job as Chi...</td>\n",
       "      <td>140</td>\n",
       "      <td>903597166249246720</td>\n",
       "      <td>2017-09-01 12:35:27</td>\n",
       "      <td>Twitter for iPhone</td>\n",
       "      <td>59840</td>\n",
       "      <td>11678</td>\n",
       "    </tr>\n",
       "    <tr>\n",
       "      <th>7</th>\n",
       "      <td>Wow, looks like James Comey exonerated Hillary...</td>\n",
       "      <td>130</td>\n",
       "      <td>903587428488839170</td>\n",
       "      <td>2017-09-01 11:56:45</td>\n",
       "      <td>Twitter for iPhone</td>\n",
       "      <td>110667</td>\n",
       "      <td>35936</td>\n",
       "    </tr>\n",
       "    <tr>\n",
       "      <th>8</th>\n",
       "      <td>THANK YOU to all of the incredible HEROES in T...</td>\n",
       "      <td>110</td>\n",
       "      <td>903348312421670912</td>\n",
       "      <td>2017-08-31 20:06:35</td>\n",
       "      <td>Twitter for iPhone</td>\n",
       "      <td>112012</td>\n",
       "      <td>29064</td>\n",
       "    </tr>\n",
       "    <tr>\n",
       "      <th>9</th>\n",
       "      <td>RT @FoxNews: .@KellyannePolls on Harvey recove...</td>\n",
       "      <td>140</td>\n",
       "      <td>903234878124249090</td>\n",
       "      <td>2017-08-31 12:35:50</td>\n",
       "      <td>Twitter for iPhone</td>\n",
       "      <td>0</td>\n",
       "      <td>6638</td>\n",
       "    </tr>\n",
       "  </tbody>\n",
       "</table>\n",
       "</div>"
      ],
      "text/plain": [
       "                                              Tweets  len                  ID  \\\n",
       "0  On behalf of @FLOTUS Melania &amp; myself, THA...  144  903778130850131970   \n",
       "1  I will be going to Texas and Louisiana tomorro...  132  903770196388831233   \n",
       "2                 Stock Market up 5 months in a row!   34  903766326631698432   \n",
       "3  'President Donald J. Trump Proclaims September...  140  903705867891204096   \n",
       "4  Texas is healing fast thanks to all of the gre...  143  903603043714957312   \n",
       "5  ...get things done at a record clip. Many big ...  113  903600265420578819   \n",
       "6  General John Kelly is doing a great job as Chi...  140  903597166249246720   \n",
       "7  Wow, looks like James Comey exonerated Hillary...  130  903587428488839170   \n",
       "8  THANK YOU to all of the incredible HEROES in T...  110  903348312421670912   \n",
       "9  RT @FoxNews: .@KellyannePolls on Harvey recove...  140  903234878124249090   \n",
       "\n",
       "               Creado              Fuente   Likes    RTs  \n",
       "0 2017-09-02 00:34:32  Twitter for iPhone   24572   5585  \n",
       "1 2017-09-02 00:03:00  Twitter for iPhone   44748   8825  \n",
       "2 2017-09-01 23:47:38  Twitter for iPhone   44518   9134  \n",
       "3 2017-09-01 19:47:23        Media Studio   47009  15127  \n",
       "4 2017-09-01 12:58:48  Twitter for iPhone   77680  15398  \n",
       "5 2017-09-01 12:47:46  Twitter for iPhone   54664  11424  \n",
       "6 2017-09-01 12:35:27  Twitter for iPhone   59840  11678  \n",
       "7 2017-09-01 11:56:45  Twitter for iPhone  110667  35936  \n",
       "8 2017-08-31 20:06:35  Twitter for iPhone  112012  29064  \n",
       "9 2017-08-31 12:35:50  Twitter for iPhone       0   6638  "
      ]
     },
     "metadata": {},
     "output_type": "display_data"
    }
   ],
   "source": [
    "# Hacemos un display del dataframe:\n",
    "display(datos.head(10))"
   ]
  },
  {
   "cell_type": "markdown",
   "metadata": {},
   "source": [
    "Muy bien, estamos listos para realizar un posterior análisis.\n",
    "\n",
    "¡Sube el nivel!"
   ]
  },
  {
   "cell_type": "markdown",
   "metadata": {},
   "source": [
    "# **Visualización y estadística básica**"
   ]
  },
  {
   "cell_type": "markdown",
   "metadata": {},
   "source": [
    "## Promedios y popularidad"
   ]
  },
  {
   "cell_type": "markdown",
   "metadata": {},
   "source": [
    "Primero nos interesa conocer estadísticos básicos sobre la información que extragimos, como la media de las longitudes de cada tweet, cuál fue el tweet con más favoritos, cuál fue el tweet más retweeteado, etc."
   ]
  },
  {
   "cell_type": "code",
   "execution_count": 9,
   "metadata": {
    "ExecuteTime": {
     "end_time": "2017-09-02T03:22:50.136159Z",
     "start_time": "2017-09-02T03:22:50.127691Z"
    }
   },
   "outputs": [
    {
     "name": "stdout",
     "output_type": "stream",
     "text": [
      "El promedio de caracteres en tweets: 125.925\n"
     ]
    }
   ],
   "source": [
    "# Extraemos el promedio:\n",
    "media = np.mean(datos['len'])\n",
    "\n",
    "print(\"El promedio de caracteres en tweets: {}\".format(media))"
   ]
  },
  {
   "cell_type": "code",
   "execution_count": 10,
   "metadata": {
    "ExecuteTime": {
     "end_time": "2017-09-02T03:22:52.201735Z",
     "start_time": "2017-09-02T03:22:52.173380Z"
    }
   },
   "outputs": [
    {
     "name": "stdout",
     "output_type": "stream",
     "text": [
      "El tweet con más likes es: \n",
      "The United States condemns the terror attack in Barcelona, Spain, and will do whatever is necessary to help. Be tough &amp; strong, we love you!\n",
      "Número de likes: 222205\n",
      "144 caracteres.\n",
      "\n",
      "El tweet con más retweets es: \n",
      "The United States condemns the terror attack in Barcelona, Spain, and will do whatever is necessary to help. Be tough &amp; strong, we love you!\n",
      "Número de retweets: 66099\n",
      "144 caracteres.\n",
      "\n"
     ]
    }
   ],
   "source": [
    "# Extraemos el tweet con más FAVs y con más RTs:\n",
    "\n",
    "fav_max = np.max(datos['Likes'])\n",
    "rt_max  = np.max(datos['RTs'])\n",
    "\n",
    "fav = datos[datos.Likes == fav_max].index[0]\n",
    "rt  = datos[datos.RTs == rt_max].index[0]\n",
    "\n",
    "# Max FAVs:\n",
    "print(\"El tweet con más likes es: \\n{}\".format(datos['Tweets'][fav]))\n",
    "print(\"Número de likes: {}\".format(fav_max))\n",
    "print(\"{} caracteres.\\n\".format(datos['len'][fav]))\n",
    "\n",
    "# Max RTs:\n",
    "print(\"El tweet con más retweets es: \\n{}\".format(datos['Tweets'][rt]))\n",
    "print(\"Número de retweets: {}\".format(rt_max))\n",
    "print(\"{} caracteres.\\n\".format(datos['len'][rt]))\n"
   ]
  },
  {
   "cell_type": "markdown",
   "metadata": {},
   "source": [
    "## Series de tiempo"
   ]
  },
  {
   "cell_type": "markdown",
   "metadata": {},
   "source": [
    "Dado que tenemos todo un vector de fechas de creación, podemos construir una serie de tiempo con respecto a longitudes de tweets, favoritos y retweets."
   ]
  },
  {
   "cell_type": "code",
   "execution_count": 11,
   "metadata": {
    "ExecuteTime": {
     "end_time": "2017-09-02T03:22:54.706966Z",
     "start_time": "2017-09-02T03:22:54.700391Z"
    },
    "collapsed": true
   },
   "outputs": [],
   "source": [
    "# Creamos series de tiempo para datos:\n",
    "\n",
    "tlen = pd.Series(data=datos['len'].values, index=datos['Creado'])\n",
    "tfav = pd.Series(data=datos['Likes'].values, index=datos['Creado'])\n",
    "tret = pd.Series(data=datos['RTs'].values, index=datos['Creado'])"
   ]
  },
  {
   "cell_type": "markdown",
   "metadata": {},
   "source": [
    "Visualizamos las series de tiempo en plots:"
   ]
  },
  {
   "cell_type": "code",
   "execution_count": 12,
   "metadata": {
    "ExecuteTime": {
     "end_time": "2017-09-02T03:22:56.848418Z",
     "start_time": "2017-09-02T03:22:56.478088Z"
    }
   },
   "outputs": [
    {
     "data": {
      "image/png": "[encoded data removed]",
      "text/plain": [
       "<matplotlib.figure.Figure at 0x10f3064e0>"
      ]
     },
     "metadata": {},
     "output_type": "display_data"
    }
   ],
   "source": [
    "# Visualización de longitudes:\n",
    "tlen.plot(figsize=(16,4), color='r');"
   ]
  },
  {
   "cell_type": "code",
   "execution_count": 13,
   "metadata": {
    "ExecuteTime": {
     "end_time": "2017-09-02T03:22:58.905107Z",
     "start_time": "2017-09-02T03:22:58.482217Z"
    }
   },
   "outputs": [
    {
     "data": {
      "image/png": "[encoded data removed]",
      "text/plain": [
       "<matplotlib.figure.Figure at 0x10ccdfb00>"
      ]
     },
     "metadata": {},
     "output_type": "display_data"
    }
   ],
   "source": [
    "# Visualización de likes vs retweets:\n",
    "tfav.plot(figsize=(16,4), label=\"Likes\", legend=True)\n",
    "tret.plot(figsize=(16,4), label=\"Retweets\", legend=True);"
   ]
  },
  {
   "cell_type": "markdown",
   "metadata": {},
   "source": [
    "## Pie charts de dispositivos"
   ]
  },
  {
   "cell_type": "markdown",
   "metadata": {},
   "source": [
    "Limpiamos las fuentes de creación de tweets para hacer un pie chart:"
   ]
  },
  {
   "cell_type": "code",
   "execution_count": 14,
   "metadata": {
    "ExecuteTime": {
     "end_time": "2017-09-02T03:23:04.730613Z",
     "start_time": "2017-09-02T03:23:04.718663Z"
    }
   },
   "outputs": [
    {
     "name": "stdout",
     "output_type": "stream",
     "text": [
      "Fuentes de creación de contenido:\n",
      "* Twitter for iPhone\n",
      "* Media Studio\n"
     ]
    }
   ],
   "source": [
    "# Obtenemos posibles fuentes:\n",
    "fuentes = []\n",
    "for fuente in datos['Fuente']:\n",
    "    if fuente not in fuentes:\n",
    "        fuentes.append(fuente)\n",
    "\n",
    "# Imprimimos fuentes:\n",
    "print(\"Fuentes de creación de contenido:\")\n",
    "for fuente in fuentes:\n",
    "    print(\"* {}\".format(fuente))"
   ]
  },
  {
   "cell_type": "markdown",
   "metadata": {},
   "source": [
    "Contamos dispositivos y creamos un pie chart:"
   ]
  },
  {
   "cell_type": "code",
   "execution_count": 15,
   "metadata": {
    "ExecuteTime": {
     "end_time": "2017-09-02T03:23:09.325071Z",
     "start_time": "2017-09-02T03:23:09.108949Z"
    }
   },
   "outputs": [
    {
     "data": {
      "image/png": "[encoded data removed]",
      "text/plain": [
       "<matplotlib.figure.Figure at 0x11226f048>"
      ]
     },
     "metadata": {},
     "output_type": "display_data"
    }
   ],
   "source": [
    "# Creamos un vector mapeado a etiquetas:\n",
    "percent = np.zeros(len(fuentes))\n",
    "\n",
    "for fuente in datos['Fuente']:\n",
    "    for index in range(len(fuentes)):\n",
    "        if fuente == fuentes[index]:\n",
    "            percent[index] += 1\n",
    "            pass\n",
    "\n",
    "percent /= 100\n",
    "\n",
    "# Pie chart:\n",
    "pie_chart = pd.Series(percent, index=fuentes, name='Fuentes')\n",
    "pie_chart.plot.pie(fontsize=11, autopct='%.2f', figsize=(6, 6));"
   ]
  },
  {
   "cell_type": "markdown",
   "metadata": {},
   "source": [
    "Ya tenemos estadístigas y gráficas muy básicas sobre los datos obtenidos.\n",
    "\n",
    "¿Y si hacemos análisis de sentimientos?"
   ]
  },
  {
   "cell_type": "markdown",
   "metadata": {},
   "source": [
    "# **Análisis de sentimientos**"
   ]
  },
  {
   "cell_type": "markdown",
   "metadata": {},
   "source": [
    "## Importando textblob"
   ]
  },
  {
   "cell_type": "markdown",
   "metadata": {},
   "source": [
    "**TextBlob** es una biblioteca de Python (2 y 3) para procesar datos de texto. Proporciona una API sencilla para ahondar en las tareas comunes de procesamiento del lenguaje natural (PNL), como el etiquetado de parte del habla, la extracción de frase nominal, el análisis de sentimientos, la clasificación, la traducción y mucho más."
   ]
  },
  {
   "cell_type": "code",
   "execution_count": 16,
   "metadata": {
    "ExecuteTime": {
     "end_time": "2017-09-02T03:23:16.245473Z",
     "start_time": "2017-09-02T03:23:15.503957Z"
    },
    "collapsed": true
   },
   "outputs": [],
   "source": [
    "from textblob import TextBlob\n",
    "import re\n",
    "\n",
    "def limpia_tweet(tweet):\n",
    "    '''\n",
    "    Función de utilidad para limpiar el texto de un tweet removiendo \n",
    "    enlaces y caracteres especiales usando regex.\n",
    "    '''\n",
    "    return ' '.join(re.sub(\"(@[A-Za-z0-9]+)|([^0-9A-Za-z \\t])|(\\w+:\\/\\/\\S+)\", \" \", tweet).split())\n",
    "\n",
    "def analiza_sentimiento(tweet):\n",
    "    '''\n",
    "    Función de utilidad para clasificar el sentimiento del tweet\n",
    "    proporcionado utilizando textblob\n",
    "    '''\n",
    "    analysis = TextBlob(limpia_tweet(tweet))\n",
    "    if analysis.sentiment.polarity > 0:\n",
    "        return 1\n",
    "    elif analysis.sentiment.polarity == 0:\n",
    "        return 0\n",
    "    else:\n",
    "        return -1"
   ]
  },
  {
   "cell_type": "markdown",
   "metadata": {},
   "source": [
    "## Analizando sentimientos"
   ]
  },
  {
   "cell_type": "markdown",
   "metadata": {},
   "source": [
    "Con estas funciones podemos realizar un análisis de sentimientos de tweets de nuestro dataframe."
   ]
  },
  {
   "cell_type": "code",
   "execution_count": 17,
   "metadata": {
    "ExecuteTime": {
     "end_time": "2017-09-02T03:23:40.349808Z",
     "start_time": "2017-09-02T03:23:40.216532Z"
    }
   },
   "outputs": [
    {
     "data": {
      "text/html": [
       "<div>\n",
       "<style>\n",
       "    .dataframe thead tr:only-child th {\n",
       "        text-align: right;\n",
       "    }\n",
       "\n",
       "    .dataframe thead th {\n",
       "        text-align: left;\n",
       "    }\n",
       "\n",
       "    .dataframe tbody tr th {\n",
       "        vertical-align: top;\n",
       "    }\n",
       "</style>\n",
       "<table border=\"1\" class=\"dataframe\">\n",
       "  <thead>\n",
       "    <tr style=\"text-align: right;\">\n",
       "      <th></th>\n",
       "      <th>Tweets</th>\n",
       "      <th>len</th>\n",
       "      <th>ID</th>\n",
       "      <th>Creado</th>\n",
       "      <th>Fuente</th>\n",
       "      <th>Likes</th>\n",
       "      <th>RTs</th>\n",
       "      <th>AdS</th>\n",
       "    </tr>\n",
       "  </thead>\n",
       "  <tbody>\n",
       "    <tr>\n",
       "      <th>0</th>\n",
       "      <td>On behalf of @FLOTUS Melania &amp;amp; myself, THA...</td>\n",
       "      <td>144</td>\n",
       "      <td>903778130850131970</td>\n",
       "      <td>2017-09-02 00:34:32</td>\n",
       "      <td>Twitter for iPhone</td>\n",
       "      <td>24572</td>\n",
       "      <td>5585</td>\n",
       "      <td>1</td>\n",
       "    </tr>\n",
       "    <tr>\n",
       "      <th>1</th>\n",
       "      <td>I will be going to Texas and Louisiana tomorro...</td>\n",
       "      <td>132</td>\n",
       "      <td>903770196388831233</td>\n",
       "      <td>2017-09-02 00:03:00</td>\n",
       "      <td>Twitter for iPhone</td>\n",
       "      <td>44748</td>\n",
       "      <td>8825</td>\n",
       "      <td>1</td>\n",
       "    </tr>\n",
       "    <tr>\n",
       "      <th>2</th>\n",
       "      <td>Stock Market up 5 months in a row!</td>\n",
       "      <td>34</td>\n",
       "      <td>903766326631698432</td>\n",
       "      <td>2017-09-01 23:47:38</td>\n",
       "      <td>Twitter for iPhone</td>\n",
       "      <td>44518</td>\n",
       "      <td>9134</td>\n",
       "      <td>0</td>\n",
       "    </tr>\n",
       "    <tr>\n",
       "      <th>3</th>\n",
       "      <td>'President Donald J. Trump Proclaims September...</td>\n",
       "      <td>140</td>\n",
       "      <td>903705867891204096</td>\n",
       "      <td>2017-09-01 19:47:23</td>\n",
       "      <td>Media Studio</td>\n",
       "      <td>47009</td>\n",
       "      <td>15127</td>\n",
       "      <td>0</td>\n",
       "    </tr>\n",
       "    <tr>\n",
       "      <th>4</th>\n",
       "      <td>Texas is healing fast thanks to all of the gre...</td>\n",
       "      <td>143</td>\n",
       "      <td>903603043714957312</td>\n",
       "      <td>2017-09-01 12:58:48</td>\n",
       "      <td>Twitter for iPhone</td>\n",
       "      <td>77680</td>\n",
       "      <td>15398</td>\n",
       "      <td>1</td>\n",
       "    </tr>\n",
       "    <tr>\n",
       "      <th>5</th>\n",
       "      <td>...get things done at a record clip. Many big ...</td>\n",
       "      <td>113</td>\n",
       "      <td>903600265420578819</td>\n",
       "      <td>2017-09-01 12:47:46</td>\n",
       "      <td>Twitter for iPhone</td>\n",
       "      <td>54664</td>\n",
       "      <td>11424</td>\n",
       "      <td>1</td>\n",
       "    </tr>\n",
       "    <tr>\n",
       "      <th>6</th>\n",
       "      <td>General John Kelly is doing a great job as Chi...</td>\n",
       "      <td>140</td>\n",
       "      <td>903597166249246720</td>\n",
       "      <td>2017-09-01 12:35:27</td>\n",
       "      <td>Twitter for iPhone</td>\n",
       "      <td>59840</td>\n",
       "      <td>11678</td>\n",
       "      <td>1</td>\n",
       "    </tr>\n",
       "    <tr>\n",
       "      <th>7</th>\n",
       "      <td>Wow, looks like James Comey exonerated Hillary...</td>\n",
       "      <td>130</td>\n",
       "      <td>903587428488839170</td>\n",
       "      <td>2017-09-01 11:56:45</td>\n",
       "      <td>Twitter for iPhone</td>\n",
       "      <td>110667</td>\n",
       "      <td>35936</td>\n",
       "      <td>1</td>\n",
       "    </tr>\n",
       "    <tr>\n",
       "      <th>8</th>\n",
       "      <td>THANK YOU to all of the incredible HEROES in T...</td>\n",
       "      <td>110</td>\n",
       "      <td>903348312421670912</td>\n",
       "      <td>2017-08-31 20:06:35</td>\n",
       "      <td>Twitter for iPhone</td>\n",
       "      <td>112012</td>\n",
       "      <td>29064</td>\n",
       "      <td>1</td>\n",
       "    </tr>\n",
       "    <tr>\n",
       "      <th>9</th>\n",
       "      <td>RT @FoxNews: .@KellyannePolls on Harvey recove...</td>\n",
       "      <td>140</td>\n",
       "      <td>903234878124249090</td>\n",
       "      <td>2017-08-31 12:35:50</td>\n",
       "      <td>Twitter for iPhone</td>\n",
       "      <td>0</td>\n",
       "      <td>6638</td>\n",
       "      <td>0</td>\n",
       "    </tr>\n",
       "  </tbody>\n",
       "</table>\n",
       "</div>"
      ],
      "text/plain": [
       "                                              Tweets  len                  ID  \\\n",
       "0  On behalf of @FLOTUS Melania &amp; myself, THA...  144  903778130850131970   \n",
       "1  I will be going to Texas and Louisiana tomorro...  132  903770196388831233   \n",
       "2                 Stock Market up 5 months in a row!   34  903766326631698432   \n",
       "3  'President Donald J. Trump Proclaims September...  140  903705867891204096   \n",
       "4  Texas is healing fast thanks to all of the gre...  143  903603043714957312   \n",
       "5  ...get things done at a record clip. Many big ...  113  903600265420578819   \n",
       "6  General John Kelly is doing a great job as Chi...  140  903597166249246720   \n",
       "7  Wow, looks like James Comey exonerated Hillary...  130  903587428488839170   \n",
       "8  THANK YOU to all of the incredible HEROES in T...  110  903348312421670912   \n",
       "9  RT @FoxNews: .@KellyannePolls on Harvey recove...  140  903234878124249090   \n",
       "\n",
       "               Creado              Fuente   Likes    RTs  AdS  \n",
       "0 2017-09-02 00:34:32  Twitter for iPhone   24572   5585    1  \n",
       "1 2017-09-02 00:03:00  Twitter for iPhone   44748   8825    1  \n",
       "2 2017-09-01 23:47:38  Twitter for iPhone   44518   9134    0  \n",
       "3 2017-09-01 19:47:23        Media Studio   47009  15127    0  \n",
       "4 2017-09-01 12:58:48  Twitter for iPhone   77680  15398    1  \n",
       "5 2017-09-01 12:47:46  Twitter for iPhone   54664  11424    1  \n",
       "6 2017-09-01 12:35:27  Twitter for iPhone   59840  11678    1  \n",
       "7 2017-09-01 11:56:45  Twitter for iPhone  110667  35936    1  \n",
       "8 2017-08-31 20:06:35  Twitter for iPhone  112012  29064    1  \n",
       "9 2017-08-31 12:35:50  Twitter for iPhone       0   6638    0  "
      ]
     },
     "metadata": {},
     "output_type": "display_data"
    }
   ],
   "source": [
    "# Creamos columna de resultados del análisis\n",
    "datos['AdS'] = np.array([ analiza_sentimiento(tweet) for tweet in datos['Tweets'] ])\n",
    "\n",
    "# Hacemos display de los sentimientos:\n",
    "display(datos.head(10))"
   ]
  },
  {
   "cell_type": "markdown",
   "metadata": {},
   "source": [
    "## Analizando resultados"
   ]
  },
  {
   "cell_type": "markdown",
   "metadata": {},
   "source": [
    "Podemos construir una lista con todos los tweets clasificados, así como reportar porcentajes del análisis realizado."
   ]
  },
  {
   "cell_type": "code",
   "execution_count": 18,
   "metadata": {
    "ExecuteTime": {
     "end_time": "2017-09-02T03:23:45.403975Z",
     "start_time": "2017-09-02T03:23:45.386585Z"
    },
    "collapsed": true
   },
   "outputs": [],
   "source": [
    "# Construimos listas con tweets clasificados:\n",
    "\n",
    "tweets_positivos = [ tweet for index, tweet in enumerate(datos['Tweets']) if datos['AdS'][index] > 0]\n",
    "tweets_neutros   = [ tweet for index, tweet in enumerate(datos['Tweets']) if datos['AdS'][index] == 0]\n",
    "tweets_negativos = [ tweet for index, tweet in enumerate(datos['Tweets']) if datos['AdS'][index] < 0]"
   ]
  },
  {
   "cell_type": "code",
   "execution_count": 19,
   "metadata": {
    "ExecuteTime": {
     "end_time": "2017-09-02T03:23:46.639845Z",
     "start_time": "2017-09-02T03:23:46.631584Z"
    }
   },
   "outputs": [
    {
     "name": "stdout",
     "output_type": "stream",
     "text": [
      "Porcentaje de tweets positivos: 51.0%\n",
      "Porcentaje de tweets neutros: 27.0%\n",
      "Porcentaje de tweets negativos: 22.0%\n"
     ]
    }
   ],
   "source": [
    "# Imprimimos porcentajes:\n",
    "\n",
    "print(\"Porcentaje de tweets positivos: {}%\".format(len(tweets_positivos)*100/len(datos['Tweets'])))\n",
    "print(\"Porcentaje de tweets neutros: {}%\".format(len(tweets_neutros)*100/len(datos['Tweets'])))\n",
    "print(\"Porcentaje de tweets negativos: {}%\".format(len(tweets_negativos)*100/len(datos['Tweets'])))"
   ]
  },
  {
   "cell_type": "markdown",
   "metadata": {
    "collapsed": true
   },
   "source": [
    "# Referencias"
   ]
  },
  {
   "cell_type": "markdown",
   "metadata": {},
   "source": [
    "1. [Documentación oficial de Tweepy](http://tweepy.readthedocs.io/en/v3.5.0/).\n",
    "2. [Documentación oficial de NumPy](https://docs.scipy.org/doc/numpy-dev/index.html).\n",
    "3. [Tutorial de NumPy](https://docs.scipy.org/doc/numpy-dev/user/quickstart.html).\n",
    "4. [Tutorial de Pandas](https://pandas.pydata.org/pandas-docs/stable/tutorials.html).\n",
    "5. [Documentación oficial de Pandas](https://pandas.pydata.org/pandas-docs/stable/index.html).\n",
    "6. [Documentación oficial de Matplotlib](http://matplotlib.org/index.html).\n",
    "7. [Tutorial de Pyplot](http://matplotlib.org/users/pyplot_tutorial.html).\n",
    "8. [Sitio oficial de Seaborn](https://seaborn.pydata.org/).\n",
    "9. [Documentación oficial de TextBlob](https://textblob.readthedocs.io/en/dev/).\n",
    "10. [Creación de clasificadores con TextBlob](https://textblob.readthedocs.io/en/dev/classifiers.html)."
   ]
  }
 ],
 "metadata": {
  "anaconda-cloud": {},
  "kernelspec": {
   "display_name": "Python 3",
   "language": "python",
   "name": "python3"
  },
  "language_info": {
   "codemirror_mode": {
    "name": "ipython",
    "version": 3
   },
   "file_extension": ".py",
   "mimetype": "text/x-python",
   "name": "python",
   "nbconvert_exporter": "python",
   "pygments_lexer": "ipython3",
   "version": "3.7.4"
  },
  "toc": {
   "colors": {
    "hover_highlight": "#DAA520",
    "navigate_num": "#000000",
    "navigate_text": "#333333",
    "running_highlight": "#FF0000",
    "selected_highlight": "#FFD700",
    "sidebar_border": "#EEEEEE",
    "wrapper_background": "#FFFFFF"
   },
   "moveMenuLeft": true,
   "nav_menu": {
    "height": "266px",
    "width": "252px"
   },
   "navigate_menu": true,
   "number_sections": true,
   "sideBar": true,
   "threshold": 4,
   "toc_cell": true,
   "toc_section_display": "block",
   "toc_window_display": false,
   "widenNotebook": false
  }
 },
 "nbformat": 4,
 "nbformat_minor": 2
}
