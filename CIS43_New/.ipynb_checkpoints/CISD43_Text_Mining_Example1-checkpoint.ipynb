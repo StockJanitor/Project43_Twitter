{
 "cells": [
  {
   "cell_type": "code",
   "execution_count": 10,
   "metadata": {},
   "outputs": [],
   "source": [
    "#You need to create a twitter developer account\n",
    "#pip install tweepy\n",
    "#conda install -c conda-forge textblob\n",
    "#python -m textblob.download_corpora\n"
   ]
  },
  {
   "cell_type": "code",
   "execution_count": 11,
   "metadata": {},
   "outputs": [],
   "source": [
    "#Example from Just added more notes\n",
    "#https://www.earthdatascience.org/courses/use-data-open-source-python/intro-to-apis/twitter-data-in-python/\n"
   ]
  },
  {
   "cell_type": "markdown",
   "metadata": {},
   "source": [
    "**Authorizing an application to access Twitter account data**\n",
    "- To access the Twitter API, you will need 4 things from the your Twitter App page.\n",
    "- These keys are located in your Twitter app settings in the Keys and Access Tokens tab."
   ]
  },
  {
   "cell_type": "code",
   "execution_count": 12,
   "metadata": {},
   "outputs": [],
   "source": [
    "#import libraries that you need\n",
    "import tweepy\n",
    "from tweepy import OAuthHandler, Stream\n",
    "\n",
    "#import other required libraries\n",
    "import os\n",
    "import pandas as pd\n",
    "\n",
    "from credentials import *"
   ]
  },
  {
   "cell_type": "markdown",
   "metadata": {},
   "source": [
    "- Go to https://developer.twitter.com/en/apps to create an app and get values\n",
    "- for these credentials, which you'll need to provide in place of these\n",
    "- empty string values that are defined as placeholders.\n",
    "- See https://developer.twitter.com/en/docs/basics/authentication/overview/oauth\n",
    "-  for more information on Twitter's OAuth implementation."
   ]
  },
  {
   "cell_type": "code",
   "execution_count": 14,
   "metadata": {},
   "outputs": [],
   "source": [
    "from credentials import *\n",
    "#create a file called credentials.py make sure it is in the same folder as your jupyter file \n",
    "# the credentials file will look like this\n",
    "#ACCESS_TOKEN = 'xxx'\n",
    "#ACCESS_SECRET = 'xx'\n",
    "#CONSUMER_KEY = 'xx'\n",
    "#CONSUMER_SECRET = 'xx'\n"
   ]
  },
  {
   "cell_type": "code",
   "execution_count": 13,
   "metadata": {},
   "outputs": [
    {
     "name": "stdout",
     "output_type": "stream",
     "text": [
      "<tweepy.api.API object at 0x7fa898bfbe50>\n"
     ]
    }
   ],
   "source": [
    "\n",
    "auth = tweepy.OAuthHandler(CONSUMER_KEY, CONSUMER_SECRET)\n",
    "auth.set_access_token(ACCESS_TOKEN, ACCESS_SECRET)\n",
    " \n",
    "twitter_api = tweepy.API(auth)\n",
    "\n",
    "\n",
    "\n",
    "# Nothing to see by displaying twitter_api except that it's now a\n",
    "# defined variable\n",
    "\n",
    "print(twitter_api)"
   ]
  },
  {
   "cell_type": "markdown",
   "metadata": {},
   "source": [
    "**Search Twitter for Tweets**\n",
    "- Now you are ready to search Twitter for recent tweets! \n",
    "- Start by finding recent tweets that use the #wildfires hashtag. \n",
    "- You will use the .Cursor method to get an object containing tweets containing the hashtag #wildfires.\n",
    "\n",
    "- To create this query, you will define the:\n",
    "\n",
    "  - Search term - in this case #wildfires\n",
    "  - the start date of your search\n",
    "  - Remember that the Twitter API only allows you to access the past few weeks of tweets, so you cannot dig into the history too far.\n"
   ]
  },
  {
   "cell_type": "code",
   "execution_count": 13,
   "metadata": {},
   "outputs": [],
   "source": [
    "# Define the search term and the date_since date as variables\n",
    "search_words = \"#wildfires\"\n",
    "date_since = \"2018-11-16\""
   ]
  },
  {
   "cell_type": "code",
   "execution_count": 15,
   "metadata": {},
   "outputs": [
    {
     "data": {
      "text/plain": [
       "<tweepy.cursor.ItemIterator at 0x7fb8c8147c40>"
      ]
     },
     "execution_count": 15,
     "metadata": {},
     "output_type": "execute_result"
    }
   ],
   "source": [
    "#Below you use .Cursor() to search twitter for tweets containing the search term #wildfires. \n",
    "#You can restrict the number of tweets returned by specifying a number in the .items() method.\n",
    "#.items(5) will return 5 of the most recent tweets.\n",
    "\n",
    "#Collect tweets \n",
    "tweets = tweepy.Cursor(twitter_api.search_tweets,\n",
    "              q=search_words,\n",
    "              lang=\"en\",\n",
    "              since_id=date_since).items(5)\n",
    "tweets\n",
    "\n",
    "\n"
   ]
  },
  {
   "cell_type": "markdown",
   "metadata": {},
   "source": [
    "- .Cursor() returns an object that you can iterate or loop over to access the data collected.\n",
    "- Each item in the iterator has various attributes that you can access to get information about each tweet including:\n",
    "  - the text of the tweet\n",
    "  - who sent the tweet\n",
    "  - the date the tweet was sent and more\n",
    "- The code below loops through the object and prints the text associated with each tweet."
   ]
  },
  {
   "cell_type": "code",
   "execution_count": 17,
   "metadata": {},
   "outputs": [
    {
     "name": "stdout",
     "output_type": "stream",
     "text": [
      "wildfire in Ruidoso, New Mexico. More than 150 houses burned down as a result of this forest fire. #USA #wildfire… https://t.co/cUkUB7Cjab\n",
      "RT @TessaMentus: #NM #Wildfires Latest🧵\n",
      "@KOB4 \n",
      "\n",
      "#McBrideFire in @VillageRuidoso \n",
      "5300+ acres, 0% containment, 150+ structures gone\n",
      "Cause: u…\n",
      "RT @TessaMentus: #NM #Wildfires Latest🧵\n",
      "@KOB4 \n",
      "\n",
      "#McBrideFire in @VillageRuidoso \n",
      "5300+ acres, 0% containment, 150+ structures gone\n",
      "Cause: u…\n",
      "#NM #Wildfires Latest🧵\n",
      "@KOB4 \n",
      "\n",
      "#McBrideFire in @VillageRuidoso \n",
      "5300+ acres, 0% containment, 150+ structures gone\n",
      "Cause: under investigation\n",
      "RT @SVB_Musician: Just went to the gas station to get some sodas and bottled waters. This is really really bad! #McBrideFire burning in Rui…\n"
     ]
    }
   ],
   "source": [
    "# Collect tweets\n",
    "tweets = tweepy.Cursor(twitter_api.search_tweets,\n",
    "              q=search_words,\n",
    "              lang=\"en\",\n",
    "              since_id=date_since).items(5)\n",
    "\n",
    "# Iterate and print tweets\n",
    "for tweet in tweets:\n",
    "    print(tweet.text)"
   ]
  },
  {
   "cell_type": "markdown",
   "metadata": {},
   "source": [
    "- The above approach uses a standard for loop.\n",
    "- However, this is an excellent place to use a Python list comprehension.\n",
    "- A list comprehension provides an efficient way to collect object elements contained within an iterator as a list."
   ]
  },
  {
   "cell_type": "code",
   "execution_count": 19,
   "metadata": {},
   "outputs": [
    {
     "data": {
      "text/plain": [
       "['wildfire in Ruidoso, New Mexico. More than 150 houses burned down as a result of this forest fire. #USA #wildfire… https://t.co/cUkUB7Cjab',\n",
       " 'RT @TessaMentus: #NM #Wildfires Latest🧵\\n@KOB4 \\n\\n#McBrideFire in @VillageRuidoso \\n5300+ acres, 0% containment, 150+ structures gone\\nCause: u…',\n",
       " 'RT @TessaMentus: #NM #Wildfires Latest🧵\\n@KOB4 \\n\\n#McBrideFire in @VillageRuidoso \\n5300+ acres, 0% containment, 150+ structures gone\\nCause: u…',\n",
       " '#NM #Wildfires Latest🧵\\n@KOB4 \\n\\n#McBrideFire in @VillageRuidoso \\n5300+ acres, 0% containment, 150+ structures gone\\nCause: under investigation',\n",
       " 'RT @SVB_Musician: Just went to the gas station to get some sodas and bottled waters. This is really really bad! #McBrideFire burning in Rui…']"
      ]
     },
     "execution_count": 19,
     "metadata": {},
     "output_type": "execute_result"
    }
   ],
   "source": [
    "# Collect tweets\n",
    "tweets = tweepy.Cursor(twitter_api.search_tweets,\n",
    "                       q=search_words,\n",
    "                       lang=\"en\",\n",
    "                       since_id=date_since).items(5)\n",
    "\n",
    "# Collect a list of tweets\n",
    "[tweet.text for tweet in tweets]"
   ]
  },
  {
   "cell_type": "markdown",
   "metadata": {},
   "source": [
    "**To Keep or Remove Retweets**"
   ]
  },
  {
   "cell_type": "markdown",
   "metadata": {},
   "source": [
    "- A retweet is when someone shares someone else’s tweet.\n",
    "- It is similar to sharing in Facebook.\n",
    "- Sometimes you may want to remove retweets as they contain duplicate content that might skew your analysis if you are only looking at word frequency. \n",
    "- Other times, you may want to keep retweets.\n",
    "\n",
    "- Below you ignore all retweets by adding -filter:retweets to your query. \n",
    "- The Twitter API documentation has information on other ways to customize your queries."
   ]
  },
  {
   "cell_type": "code",
   "execution_count": 20,
   "metadata": {},
   "outputs": [
    {
     "data": {
      "text/plain": [
       "'#wildfires -filter:retweets'"
      ]
     },
     "execution_count": 20,
     "metadata": {},
     "output_type": "execute_result"
    }
   ],
   "source": [
    "new_search = search_words + \" -filter:retweets\"\n",
    "new_search"
   ]
  },
  {
   "cell_type": "code",
   "execution_count": 21,
   "metadata": {},
   "outputs": [
    {
     "data": {
      "text/plain": [
       "['wildfire in Ruidoso, New Mexico. More than 150 houses burned down as a result of this forest fire. #USA #wildfire… https://t.co/cUkUB7Cjab',\n",
       " '#NM #Wildfires Latest🧵\\n@KOB4 \\n\\n#McBrideFire in @VillageRuidoso \\n5300+ acres, 0% containment, 150+ structures gone\\nCause: under investigation',\n",
       " \"@BeantownCanuck @arthister AND--all deaths related to BC's EXTREME weather events last 3 years- #wildfires #floods… https://t.co/ty7zDv5uhJ\",\n",
       " 'Using donations, our #organization has responded to #wildfires disasters to provide essentials for survivors. 📦\\n\\nPl… https://t.co/I0UIKwIdn3',\n",
       " '#sealevel #drought #Wildfires #climaterefugee #climaterefugees #Web3 #NFT #domainname #ClimateCrisis #GlobalWarming… https://t.co/uFUK2iA9Nn']"
      ]
     },
     "execution_count": 21,
     "metadata": {},
     "output_type": "execute_result"
    }
   ],
   "source": [
    "tweets = tweepy.Cursor(twitter_api.search_tweets,\n",
    "                       q=new_search,\n",
    "                       lang=\"en\",\n",
    "                       since_id=date_since).items(5)\n",
    "\n",
    "[tweet.text for tweet in tweets]"
   ]
  },
  {
   "cell_type": "markdown",
   "metadata": {},
   "source": [
    "**Who is Tweeting About Wildfires?**"
   ]
  },
  {
   "cell_type": "markdown",
   "metadata": {},
   "source": [
    "- You can access a wealth of information associated with each tweet. Below is an example of accessing the users who are sending the tweets related to #wildfires and their locations.\n",
    "- Note that user locations are manually entered into Twitter by the user. \n",
    "- Thus, you will see a lot of variation in the format of this value.\n",
    "\n",
    "  - tweet.user.screen_name provides the user’s twitter handle associated with each tweet.\n",
    "  - tweet.user.location provides the user’s provided location.\n",
    "  \n",
    "- You can experiment with other items available within each tweet by typing tweet. and using the tab button to see all of the available attributes stored."
   ]
  },
  {
   "cell_type": "code",
   "execution_count": 22,
   "metadata": {},
   "outputs": [
    {
     "data": {
      "text/plain": [
       "[['Brave_spirit81', 'Ukraine 🇺🇦'],\n",
       " ['TessaMentus', 'Albuquerque'],\n",
       " ['savoirfaire_2', 'Abbotsford BC (Stó:lō Nation)'],\n",
       " ['LiFrAOrg', 'Maxwell, CA'],\n",
       " ['MarijuanaName', '#Mars']]"
      ]
     },
     "execution_count": 22,
     "metadata": {},
     "output_type": "execute_result"
    }
   ],
   "source": [
    "tweets = tweepy.Cursor(twitter_api.search_tweets, \n",
    "                           q=new_search,\n",
    "                           lang=\"en\",\n",
    "                           since_id=date_since).items(5)\n",
    "\n",
    "users_locs = [[tweet.user.screen_name, tweet.user.location] for tweet in tweets]\n",
    "users_locs"
   ]
  },
  {
   "cell_type": "markdown",
   "metadata": {},
   "source": [
    "**Create a Pandas Dataframe From A List of Tweet Data**\n",
    "\n",
    "One you have a list of items that you wish to work with, you can create a pandas dataframe that contains that data."
   ]
  },
  {
   "cell_type": "code",
   "execution_count": 23,
   "metadata": {},
   "outputs": [
    {
     "data": {
      "text/html": [
       "<div>\n",
       "<style scoped>\n",
       "    .dataframe tbody tr th:only-of-type {\n",
       "        vertical-align: middle;\n",
       "    }\n",
       "\n",
       "    .dataframe tbody tr th {\n",
       "        vertical-align: top;\n",
       "    }\n",
       "\n",
       "    .dataframe thead th {\n",
       "        text-align: right;\n",
       "    }\n",
       "</style>\n",
       "<table border=\"1\" class=\"dataframe\">\n",
       "  <thead>\n",
       "    <tr style=\"text-align: right;\">\n",
       "      <th></th>\n",
       "      <th>user</th>\n",
       "      <th>location</th>\n",
       "    </tr>\n",
       "  </thead>\n",
       "  <tbody>\n",
       "    <tr>\n",
       "      <th>0</th>\n",
       "      <td>Brave_spirit81</td>\n",
       "      <td>Ukraine 🇺🇦</td>\n",
       "    </tr>\n",
       "    <tr>\n",
       "      <th>1</th>\n",
       "      <td>TessaMentus</td>\n",
       "      <td>Albuquerque</td>\n",
       "    </tr>\n",
       "    <tr>\n",
       "      <th>2</th>\n",
       "      <td>savoirfaire_2</td>\n",
       "      <td>Abbotsford BC (Stó:lō Nation)</td>\n",
       "    </tr>\n",
       "    <tr>\n",
       "      <th>3</th>\n",
       "      <td>LiFrAOrg</td>\n",
       "      <td>Maxwell, CA</td>\n",
       "    </tr>\n",
       "    <tr>\n",
       "      <th>4</th>\n",
       "      <td>MarijuanaName</td>\n",
       "      <td>#Mars</td>\n",
       "    </tr>\n",
       "  </tbody>\n",
       "</table>\n",
       "</div>"
      ],
      "text/plain": [
       "             user                       location\n",
       "0  Brave_spirit81                     Ukraine 🇺🇦\n",
       "1     TessaMentus                    Albuquerque\n",
       "2   savoirfaire_2  Abbotsford BC (Stó:lō Nation)\n",
       "3        LiFrAOrg                    Maxwell, CA\n",
       "4   MarijuanaName                          #Mars"
      ]
     },
     "execution_count": 23,
     "metadata": {},
     "output_type": "execute_result"
    }
   ],
   "source": [
    "tweet_text = pd.DataFrame(data=users_locs, \n",
    "                    columns=['user', \"location\"])\n",
    "tweet_text"
   ]
  },
  {
   "cell_type": "markdown",
   "metadata": {},
   "source": [
    "**Customizing Twitter Queries**"
   ]
  },
  {
   "cell_type": "markdown",
   "metadata": {},
   "source": [
    "- For instance, if you search for climate+change, Twitter will return all tweets that contain both of those words (in a row) in each tweet."
   ]
  },
  {
   "cell_type": "code",
   "execution_count": 25,
   "metadata": {},
   "outputs": [
    {
     "data": {
      "text/plain": [
       "['@alexisleclezio Spot on!  But nooo, there’ll be another 500 billion loan taken then stolen to stop ‘climate change’… https://t.co/R2tLLwJsYo',\n",
       " 'Gorgeous, gorgeous girls hate climate change and wish that this shit wouldn’t end out planet in like 5 yrs😪',\n",
       " '@RadioFreeTom Canceling student debt and climate Change are widely popular. What’s the problem?',\n",
       " '@EgoEire @barrywalsh9 @oconnellhugh https://t.co/xDO7uUAxVj\\nCultures change. No one would have believe that Ireland… https://t.co/gwlxzWe4YY',\n",
       " 'Last week I went to the Norval Foundation and I was drawn to this wooden sculpture mme Noria Mabasa made after the… https://t.co/VNAEgsIS3r']"
      ]
     },
     "execution_count": 25,
     "metadata": {},
     "output_type": "execute_result"
    }
   ],
   "source": [
    "#Note that the code below creates a list that can be queried \n",
    "#using Python indexing to return the first five tweets.\n",
    "\n",
    "new_search = \"climate+change -filter:retweets\"\n",
    "\n",
    "tweets = tweepy.Cursor(twitter_api.search_tweets,\n",
    "                   q=new_search,\n",
    "                   lang=\"en\",\n",
    "                   since_id='2018-04-23').items(1000)\n",
    "\n",
    "all_tweets = [tweet.text for tweet in tweets]\n",
    "all_tweets[:5]"
   ]
  },
  {
   "cell_type": "code",
   "execution_count": null,
   "metadata": {},
   "outputs": [],
   "source": []
  }
 ],
 "metadata": {
  "kernelspec": {
   "display_name": "Python 3 (ipykernel)",
   "language": "python",
   "name": "python3"
  },
  "language_info": {
   "codemirror_mode": {
    "name": "ipython",
    "version": 3
   },
   "file_extension": ".py",
   "mimetype": "text/x-python",
   "name": "python",
   "nbconvert_exporter": "python",
   "pygments_lexer": "ipython3",
   "version": "3.9.12"
  }
 },
 "nbformat": 4,
 "nbformat_minor": 2
}
