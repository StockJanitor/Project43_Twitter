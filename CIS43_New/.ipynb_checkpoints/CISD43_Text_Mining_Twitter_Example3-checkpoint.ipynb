{
 "cells": [
  {
   "cell_type": "markdown",
   "metadata": {},
   "source": [
    "**Example from**\n",
    "- https://github.com/RodolfoFerro/pandas_twitter/blob/master/01-extracting-data.md\n",
    " **Added some notes and explanation**"
   ]
  },
  {
   "cell_type": "markdown",
   "metadata": {},
   "source": [
    "**Extracting twitter data (tweepy + pandas)**"
   ]
  },
  {
   "cell_type": "code",
   "execution_count": 6,
   "metadata": {},
   "outputs": [],
   "source": [
    "# General:\n",
    "import tweepy           # To consume Twitter's API\n",
    "import pandas as pd     # To handle data\n",
    "import numpy as np      # For number computing\n",
    "\n",
    "# For plotting and visualization:\n",
    "from IPython.display import display\n",
    "import matplotlib.pyplot as plt\n",
    "import seaborn as sns\n",
    "%matplotlib inline"
   ]
  },
  {
   "cell_type": "code",
   "execution_count": 11,
   "metadata": {},
   "outputs": [
    {
     "name": "stdout",
     "output_type": "stream",
     "text": [
      "<tweepy.api.API object at 0x7fe478874d90>\n"
     ]
    }
   ],
   "source": [
    "#import libraries that you need\n",
    "import tweepy\n",
    "from tweepy import OAuthHandler, Stream\n",
    "\n",
    "# Go to https://developer.twitter.com/en/apps to create an app and get values\n",
    "# for these credentials, which you'll need to provide in place of these\n",
    "# empty string values that are defined as placeholders.\n",
    "# See https://developer.twitter.com/en/docs/basics/authentication/overview/oauth\n",
    "# for more information on Twitter's OAuth implementation.\n",
    "\n",
    "from credentials import *\n",
    "#create a file called credentials.py make sure it is in the same folder as your jupyter file \n",
    "# the credentials file will look like this\n",
    "#ACCESS_TOKEN = 'xxx'\n",
    "#ACCESS_SECRET = 'xx'\n",
    "#CONSUMER_KEY = 'xx'\n",
    "#CONSUMER_SECRET = 'xx'\n",
    "\n",
    "\n",
    "auth = tweepy.OAuthHandler(CONSUMER_KEY, CONSUMER_SECRET)\n",
    "auth.set_access_token(ACCESS_TOKEN, ACCESS_SECRET)\n",
    " \n",
    "twitter_api = tweepy.API(auth,  wait_on_rate_limit=True)\n",
    "\n",
    "# Nothing to see by displaying twitter_api except that it's now a\n",
    "# defined variable\n",
    "\n",
    "print(twitter_api)\n"
   ]
  },
  {
   "cell_type": "code",
   "execution_count": 12,
   "metadata": {},
   "outputs": [],
   "source": [
    "# We import our access keys:\n",
    "\n",
    "\n",
    "# API's setup:\n",
    "def twitter_setup():\n",
    "    \"\"\"\n",
    "    Utility function to setup the Twitter's API\n",
    "    with our access keys provided.\n",
    "    \"\"\"\n",
    "    # Authentication and access using keys:\n",
    "    auth = tweepy.OAuthHandler(CONSUMER_KEY, CONSUMER_SECRET)\n",
    "    auth.set_access_token(ACCESS_TOKEN, ACCESS_SECRET)\n",
    "\n",
    "    # Return API with authentication:\n",
    "    api = tweepy.API(auth)\n",
    "    return api"
   ]
  },
  {
   "cell_type": "markdown",
   "metadata": {},
   "source": [
    "**Tweets Extraction**"
   ]
  },
  {
   "cell_type": "code",
   "execution_count": 15,
   "metadata": {},
   "outputs": [
    {
     "name": "stdout",
     "output_type": "stream",
     "text": [
      "Number of tweets extracted: 198.\n",
      "\n",
      "5 recent tweets:\n",
      "\n",
      "When you get the text from your coworker “I’m running late. What you want from Bojangles?” It’s Sausage &amp; Egg Biscu… https://t.co/BtOtJG41tj\n",
      "\n",
      "@CharlotteFC WINS! https://t.co/2pqW8Rm0dW\n",
      "\n",
      "Tee off in Augusta or tea off from the couch? https://t.co/Fuk2o9YE5x\n",
      "\n",
      "And they’re off! Let’s go @CharlotteFC #forthecrown https://t.co/e2yYKNHrCm\n",
      "\n",
      "RT @CharlotteFC_CFO: Supporters Tailgate is already poppin off. @Bojangles handing out breakfast biscuits and prizes too! Supporters march…\n",
      "\n"
     ]
    }
   ],
   "source": [
    "# We create an extractor object:\n",
    "extractor = twitter_setup()\n",
    "\n",
    "# We create a tweet list as follows:\n",
    "tweets = extractor.user_timeline(screen_name=\"bojangles\", count=200)\n",
    "print(\"Number of tweets extracted: {}.\\n\".format(len(tweets)))\n",
    "\n",
    "# We print the most recent 5 tweets:\n",
    "print(\"5 recent tweets:\\n\")\n",
    "for tweet in tweets[:5]:\n",
    "    print(tweet.text)\n",
    "    print()"
   ]
  },
  {
   "cell_type": "markdown",
   "metadata": {},
   "source": [
    "**Creating a (pandas) DataFrame**"
   ]
  },
  {
   "cell_type": "code",
   "execution_count": 16,
   "metadata": {},
   "outputs": [
    {
     "data": {
      "text/html": [
       "<div>\n",
       "<style scoped>\n",
       "    .dataframe tbody tr th:only-of-type {\n",
       "        vertical-align: middle;\n",
       "    }\n",
       "\n",
       "    .dataframe tbody tr th {\n",
       "        vertical-align: top;\n",
       "    }\n",
       "\n",
       "    .dataframe thead th {\n",
       "        text-align: right;\n",
       "    }\n",
       "</style>\n",
       "<table border=\"1\" class=\"dataframe\">\n",
       "  <thead>\n",
       "    <tr style=\"text-align: right;\">\n",
       "      <th></th>\n",
       "      <th>Tweets</th>\n",
       "    </tr>\n",
       "  </thead>\n",
       "  <tbody>\n",
       "    <tr>\n",
       "      <th>0</th>\n",
       "      <td>When you get the text from your coworker “I’m ...</td>\n",
       "    </tr>\n",
       "    <tr>\n",
       "      <th>1</th>\n",
       "      <td>@CharlotteFC WINS! https://t.co/2pqW8Rm0dW</td>\n",
       "    </tr>\n",
       "    <tr>\n",
       "      <th>2</th>\n",
       "      <td>Tee off in Augusta or tea off from the couch? ...</td>\n",
       "    </tr>\n",
       "    <tr>\n",
       "      <th>3</th>\n",
       "      <td>And they’re off! Let’s go @CharlotteFC #forthe...</td>\n",
       "    </tr>\n",
       "    <tr>\n",
       "      <th>4</th>\n",
       "      <td>RT @CharlotteFC_CFO: Supporters Tailgate is al...</td>\n",
       "    </tr>\n",
       "    <tr>\n",
       "      <th>5</th>\n",
       "      <td>pov: you’re a scratch-made Cajun Filet Biscuit...</td>\n",
       "    </tr>\n",
       "    <tr>\n",
       "      <th>6</th>\n",
       "      <td>Next #cltfc star? Come take your shot! https:/...</td>\n",
       "    </tr>\n",
       "    <tr>\n",
       "      <th>7</th>\n",
       "      <td>https://t.co/s7p1TrlY0k</td>\n",
       "    </tr>\n",
       "    <tr>\n",
       "      <th>8</th>\n",
       "      <td>We’re back serving up scratch-made biscuits (w...</td>\n",
       "    </tr>\n",
       "    <tr>\n",
       "      <th>9</th>\n",
       "      <td>A bucket of golf balls or Bojangles biscuits? ...</td>\n",
       "    </tr>\n",
       "  </tbody>\n",
       "</table>\n",
       "</div>"
      ],
      "text/plain": [
       "                                              Tweets\n",
       "0  When you get the text from your coworker “I’m ...\n",
       "1         @CharlotteFC WINS! https://t.co/2pqW8Rm0dW\n",
       "2  Tee off in Augusta or tea off from the couch? ...\n",
       "3  And they’re off! Let’s go @CharlotteFC #forthe...\n",
       "4  RT @CharlotteFC_CFO: Supporters Tailgate is al...\n",
       "5  pov: you’re a scratch-made Cajun Filet Biscuit...\n",
       "6  Next #cltfc star? Come take your shot! https:/...\n",
       "7                            https://t.co/s7p1TrlY0k\n",
       "8  We’re back serving up scratch-made biscuits (w...\n",
       "9  A bucket of golf balls or Bojangles biscuits? ..."
      ]
     },
     "metadata": {},
     "output_type": "display_data"
    }
   ],
   "source": [
    "# We create a pandas dataframe as follows:\n",
    "data = pd.DataFrame(data=[tweet.text for tweet in tweets], columns=['Tweets'])\n",
    "\n",
    "# We display the first 10 elements of the dataframe:\n",
    "display(data.head(10))"
   ]
  },
  {
   "cell_type": "code",
   "execution_count": 17,
   "metadata": {},
   "outputs": [
    {
     "name": "stdout",
     "output_type": "stream",
     "text": [
      "['__class__', '__delattr__', '__dict__', '__dir__', '__doc__', '__eq__', '__format__', '__ge__', '__getattribute__', '__getstate__', '__gt__', '__hash__', '__init__', '__init_subclass__', '__le__', '__lt__', '__module__', '__ne__', '__new__', '__reduce__', '__reduce_ex__', '__repr__', '__setattr__', '__sizeof__', '__slots__', '__str__', '__subclasshook__', '__weakref__', '_api', '_json', 'author', 'contributors', 'coordinates', 'created_at', 'destroy', 'entities', 'favorite', 'favorite_count', 'favorited', 'geo', 'id', 'id_str', 'in_reply_to_screen_name', 'in_reply_to_status_id', 'in_reply_to_status_id_str', 'in_reply_to_user_id', 'in_reply_to_user_id_str', 'is_quote_status', 'lang', 'parse', 'parse_list', 'place', 'possibly_sensitive', 'retweet', 'retweet_count', 'retweeted', 'retweets', 'source', 'source_url', 'text', 'truncated', 'user']\n"
     ]
    }
   ],
   "source": [
    "# Internal methods of a single tweet object:\n",
    "print(dir(tweets[0]))"
   ]
  },
  {
   "cell_type": "code",
   "execution_count": 18,
   "metadata": {},
   "outputs": [
    {
     "name": "stdout",
     "output_type": "stream",
     "text": [
      "1514263192918274057\n",
      "2022-04-13 15:24:13+00:00\n",
      "Sprinklr Publishing\n",
      "27\n",
      "6\n",
      "None\n",
      "None\n",
      "{'hashtags': [], 'symbols': [], 'user_mentions': [], 'urls': [{'url': 'https://t.co/BtOtJG41tj', 'expanded_url': 'https://twitter.com/i/web/status/1514263192918274057', 'display_url': 'twitter.com/i/web/status/1…', 'indices': [121, 144]}]}\n"
     ]
    }
   ],
   "source": [
    "# We print info from the first tweet:\n",
    "print(tweets[0].id)\n",
    "print(tweets[0].created_at)\n",
    "print(tweets[0].source)\n",
    "print(tweets[0].favorite_count)\n",
    "print(tweets[0].retweet_count)\n",
    "print(tweets[0].geo)\n",
    "print(tweets[0].coordinates)\n",
    "print(tweets[0].entities)"
   ]
  },
  {
   "cell_type": "markdown",
   "metadata": {},
   "source": [
    "**Adding relevant info to our dataframe**"
   ]
  },
  {
   "cell_type": "code",
   "execution_count": 19,
   "metadata": {},
   "outputs": [],
   "source": [
    "# We add relevant data:\n",
    "data['len']  = np.array([len(tweet.text) for tweet in tweets])\n",
    "data['ID']   = np.array([tweet.id for tweet in tweets])\n",
    "data['Date'] = np.array([tweet.created_at for tweet in tweets])\n",
    "data['Source'] = np.array([tweet.source for tweet in tweets])\n",
    "data['Likes']  = np.array([tweet.favorite_count for tweet in tweets])\n",
    "data['RTs']    = np.array([tweet.retweet_count for tweet in tweets])"
   ]
  },
  {
   "cell_type": "code",
   "execution_count": 20,
   "metadata": {},
   "outputs": [
    {
     "data": {
      "text/html": [
       "<div>\n",
       "<style scoped>\n",
       "    .dataframe tbody tr th:only-of-type {\n",
       "        vertical-align: middle;\n",
       "    }\n",
       "\n",
       "    .dataframe tbody tr th {\n",
       "        vertical-align: top;\n",
       "    }\n",
       "\n",
       "    .dataframe thead th {\n",
       "        text-align: right;\n",
       "    }\n",
       "</style>\n",
       "<table border=\"1\" class=\"dataframe\">\n",
       "  <thead>\n",
       "    <tr style=\"text-align: right;\">\n",
       "      <th></th>\n",
       "      <th>Tweets</th>\n",
       "      <th>len</th>\n",
       "      <th>ID</th>\n",
       "      <th>Date</th>\n",
       "      <th>Source</th>\n",
       "      <th>Likes</th>\n",
       "      <th>RTs</th>\n",
       "    </tr>\n",
       "  </thead>\n",
       "  <tbody>\n",
       "    <tr>\n",
       "      <th>0</th>\n",
       "      <td>When you get the text from your coworker “I’m ...</td>\n",
       "      <td>144</td>\n",
       "      <td>1514263192918274057</td>\n",
       "      <td>2022-04-13 15:24:13+00:00</td>\n",
       "      <td>Sprinklr Publishing</td>\n",
       "      <td>27</td>\n",
       "      <td>6</td>\n",
       "    </tr>\n",
       "    <tr>\n",
       "      <th>1</th>\n",
       "      <td>@CharlotteFC WINS! https://t.co/2pqW8Rm0dW</td>\n",
       "      <td>42</td>\n",
       "      <td>1513244822542426120</td>\n",
       "      <td>2022-04-10 19:57:35+00:00</td>\n",
       "      <td>Twitter for iPhone</td>\n",
       "      <td>11</td>\n",
       "      <td>2</td>\n",
       "    </tr>\n",
       "    <tr>\n",
       "      <th>2</th>\n",
       "      <td>Tee off in Augusta or tea off from the couch? ...</td>\n",
       "      <td>69</td>\n",
       "      <td>1513207690838917135</td>\n",
       "      <td>2022-04-10 17:30:02+00:00</td>\n",
       "      <td>Sprinklr Publishing</td>\n",
       "      <td>19</td>\n",
       "      <td>3</td>\n",
       "    </tr>\n",
       "    <tr>\n",
       "      <th>3</th>\n",
       "      <td>And they’re off! Let’s go @CharlotteFC #forthe...</td>\n",
       "      <td>75</td>\n",
       "      <td>1513187788878925825</td>\n",
       "      <td>2022-04-10 16:10:57+00:00</td>\n",
       "      <td>Twitter for iPhone</td>\n",
       "      <td>19</td>\n",
       "      <td>2</td>\n",
       "    </tr>\n",
       "    <tr>\n",
       "      <th>4</th>\n",
       "      <td>RT @CharlotteFC_CFO: Supporters Tailgate is al...</td>\n",
       "      <td>139</td>\n",
       "      <td>1513178005681721346</td>\n",
       "      <td>2022-04-10 15:32:04+00:00</td>\n",
       "      <td>Twitter for iPhone</td>\n",
       "      <td>0</td>\n",
       "      <td>4</td>\n",
       "    </tr>\n",
       "    <tr>\n",
       "      <th>5</th>\n",
       "      <td>pov: you’re a scratch-made Cajun Filet Biscuit...</td>\n",
       "      <td>117</td>\n",
       "      <td>1513175568401018884</td>\n",
       "      <td>2022-04-10 15:22:23+00:00</td>\n",
       "      <td>Twitter for iPhone</td>\n",
       "      <td>96</td>\n",
       "      <td>6</td>\n",
       "    </tr>\n",
       "    <tr>\n",
       "      <th>6</th>\n",
       "      <td>Next #cltfc star? Come take your shot! https:/...</td>\n",
       "      <td>62</td>\n",
       "      <td>1513173566417686538</td>\n",
       "      <td>2022-04-10 15:14:26+00:00</td>\n",
       "      <td>Twitter for iPhone</td>\n",
       "      <td>4</td>\n",
       "      <td>0</td>\n",
       "    </tr>\n",
       "    <tr>\n",
       "      <th>7</th>\n",
       "      <td>https://t.co/s7p1TrlY0k</td>\n",
       "      <td>23</td>\n",
       "      <td>1513170923519713291</td>\n",
       "      <td>2022-04-10 15:03:56+00:00</td>\n",
       "      <td>Twitter for iPhone</td>\n",
       "      <td>2</td>\n",
       "      <td>0</td>\n",
       "    </tr>\n",
       "    <tr>\n",
       "      <th>8</th>\n",
       "      <td>We’re back serving up scratch-made biscuits (w...</td>\n",
       "      <td>139</td>\n",
       "      <td>1513169376685568003</td>\n",
       "      <td>2022-04-10 14:57:47+00:00</td>\n",
       "      <td>Twitter for iPhone</td>\n",
       "      <td>56</td>\n",
       "      <td>7</td>\n",
       "    </tr>\n",
       "    <tr>\n",
       "      <th>9</th>\n",
       "      <td>A bucket of golf balls or Bojangles biscuits? ...</td>\n",
       "      <td>69</td>\n",
       "      <td>1512860418410270721</td>\n",
       "      <td>2022-04-09 18:30:05+00:00</td>\n",
       "      <td>Sprinklr Publishing</td>\n",
       "      <td>60</td>\n",
       "      <td>7</td>\n",
       "    </tr>\n",
       "  </tbody>\n",
       "</table>\n",
       "</div>"
      ],
      "text/plain": [
       "                                              Tweets  len  \\\n",
       "0  When you get the text from your coworker “I’m ...  144   \n",
       "1         @CharlotteFC WINS! https://t.co/2pqW8Rm0dW   42   \n",
       "2  Tee off in Augusta or tea off from the couch? ...   69   \n",
       "3  And they’re off! Let’s go @CharlotteFC #forthe...   75   \n",
       "4  RT @CharlotteFC_CFO: Supporters Tailgate is al...  139   \n",
       "5  pov: you’re a scratch-made Cajun Filet Biscuit...  117   \n",
       "6  Next #cltfc star? Come take your shot! https:/...   62   \n",
       "7                            https://t.co/s7p1TrlY0k   23   \n",
       "8  We’re back serving up scratch-made biscuits (w...  139   \n",
       "9  A bucket of golf balls or Bojangles biscuits? ...   69   \n",
       "\n",
       "                    ID                      Date               Source  Likes  \\\n",
       "0  1514263192918274057 2022-04-13 15:24:13+00:00  Sprinklr Publishing     27   \n",
       "1  1513244822542426120 2022-04-10 19:57:35+00:00   Twitter for iPhone     11   \n",
       "2  1513207690838917135 2022-04-10 17:30:02+00:00  Sprinklr Publishing     19   \n",
       "3  1513187788878925825 2022-04-10 16:10:57+00:00   Twitter for iPhone     19   \n",
       "4  1513178005681721346 2022-04-10 15:32:04+00:00   Twitter for iPhone      0   \n",
       "5  1513175568401018884 2022-04-10 15:22:23+00:00   Twitter for iPhone     96   \n",
       "6  1513173566417686538 2022-04-10 15:14:26+00:00   Twitter for iPhone      4   \n",
       "7  1513170923519713291 2022-04-10 15:03:56+00:00   Twitter for iPhone      2   \n",
       "8  1513169376685568003 2022-04-10 14:57:47+00:00   Twitter for iPhone     56   \n",
       "9  1512860418410270721 2022-04-09 18:30:05+00:00  Sprinklr Publishing     60   \n",
       "\n",
       "   RTs  \n",
       "0    6  \n",
       "1    2  \n",
       "2    3  \n",
       "3    2  \n",
       "4    4  \n",
       "5    6  \n",
       "6    0  \n",
       "7    0  \n",
       "8    7  \n",
       "9    7  "
      ]
     },
     "metadata": {},
     "output_type": "display_data"
    }
   ],
   "source": [
    "# Display of first 10 elements from dataframe:\n",
    "display(data.head(10))"
   ]
  },
  {
   "cell_type": "markdown",
   "metadata": {},
   "source": [
    "**Visualization and basic statistics**"
   ]
  },
  {
   "cell_type": "markdown",
   "metadata": {},
   "source": [
    "**Averages and popularity**"
   ]
  },
  {
   "cell_type": "code",
   "execution_count": 21,
   "metadata": {},
   "outputs": [
    {
     "name": "stdout",
     "output_type": "stream",
     "text": [
      "The lenght's average in tweets: 82.20202020202021\n"
     ]
    }
   ],
   "source": [
    "# We extract the mean of lenghts:\n",
    "mean = np.mean(data['len'])\n",
    "\n",
    "print(\"The lenght's average in tweets: {}\".format(mean))"
   ]
  },
  {
   "cell_type": "markdown",
   "metadata": {},
   "source": [
    "- To extract more data, we will use some pandas' functionalities:"
   ]
  },
  {
   "cell_type": "code",
   "execution_count": 22,
   "metadata": {},
   "outputs": [
    {
     "name": "stdout",
     "output_type": "stream",
     "text": [
      "The tweet with more likes is: \n",
      "Ready for halftime... https://t.co/vNHaMVqky1\n",
      "Number of likes: 346\n",
      "45 characters.\n",
      "\n",
      "The tweet with more retweets is: \n",
      "Bracket busted? You can still own the watch party game when you enter to win a Bo’s gift card! We’re giving away 2… https://t.co/lFYeR1ZxTN\n",
      "Number of retweets: 239\n",
      "139 characters.\n",
      "\n"
     ]
    }
   ],
   "source": [
    "# We extract the tweet with more FAVs and more RTs:\n",
    "\n",
    "fav_max = np.max(data['Likes'])\n",
    "rt_max  = np.max(data['RTs'])\n",
    "\n",
    "fav = data[data.Likes == fav_max].index[0]\n",
    "rt  = data[data.RTs == rt_max].index[0]\n",
    "\n",
    "# Max FAVs:\n",
    "print(\"The tweet with more likes is: \\n{}\".format(data['Tweets'][fav]))\n",
    "print(\"Number of likes: {}\".format(fav_max))\n",
    "print(\"{} characters.\\n\".format(data['len'][fav]))\n",
    "\n",
    "# Max RTs:\n",
    "print(\"The tweet with more retweets is: \\n{}\".format(data['Tweets'][rt]))\n",
    "print(\"Number of retweets: {}\".format(rt_max))\n",
    "print(\"{} characters.\\n\".format(data['len'][rt]))"
   ]
  },
  {
   "cell_type": "markdown",
   "metadata": {},
   "source": [
    "**Time series**\n",
    "\n",
    "- Pandas has its own object for time series. Since we have a whole vector with creation dates, we can construct time series respect tweets lengths, likes and retweets.\n",
    "- The way we do it is:"
   ]
  },
  {
   "cell_type": "code",
   "execution_count": 23,
   "metadata": {},
   "outputs": [],
   "source": [
    "# We create time series for data:\n",
    "tlen = pd.Series(data=data['len'].values, index=data['Date'])\n",
    "tfav = pd.Series(data=data['Likes'].values, index=data['Date'])\n",
    "tret = pd.Series(data=data['RTs'].values, index=data['Date'])"
   ]
  },
  {
   "cell_type": "markdown",
   "metadata": {},
   "source": [
    "- And if we want to plot the time series, pandas already has its own method in the object. We can plot a time series as follows:"
   ]
  },
  {
   "cell_type": "code",
   "execution_count": 24,
   "metadata": {},
   "outputs": [
    {
     "data": {
      "image/png": "[encoded data removed]",
      "text/plain": [
       "<Figure size 1152x288 with 1 Axes>"
      ]
     },
     "metadata": {
      "needs_background": "light"
     },
     "output_type": "display_data"
    }
   ],
   "source": [
    "# Lenghts along time:\n",
    "tlen.plot(figsize=(16,4), color='r');"
   ]
  },
  {
   "cell_type": "markdown",
   "metadata": {},
   "source": [
    "- And to plot the likes versus the retweets in the same chart:"
   ]
  },
  {
   "cell_type": "code",
   "execution_count": 25,
   "metadata": {},
   "outputs": [
    {
     "data": {
      "image/png": "[encoded data removed]",
      "text/plain": [
       "<Figure size 1152x288 with 1 Axes>"
      ]
     },
     "metadata": {
      "needs_background": "light"
     },
     "output_type": "display_data"
    }
   ],
   "source": [
    "# Likes vs retweets visualization:\n",
    "tfav.plot(figsize=(16,4), label=\"Likes\", legend=True)\n",
    "tret.plot(figsize=(16,4), label=\"Retweets\", legend=True);"
   ]
  },
  {
   "cell_type": "markdown",
   "metadata": {},
   "source": [
    "- Pie charts of sources"
   ]
  },
  {
   "cell_type": "code",
   "execution_count": 26,
   "metadata": {},
   "outputs": [
    {
     "name": "stdout",
     "output_type": "stream",
     "text": [
      "Creation of content sources:\n",
      "* Sprinklr Publishing\n",
      "* Twitter for iPhone\n",
      "* Twitter Web App\n"
     ]
    }
   ],
   "source": [
    "# We obtain all possible sources:\n",
    "sources = []\n",
    "for source in data['Source']:\n",
    "    if source not in sources:\n",
    "        sources.append(source)\n",
    "\n",
    "# We print sources list:\n",
    "print(\"Creation of content sources:\")\n",
    "for source in sources:\n",
    "    print(\"* {}\".format(source))"
   ]
  },
  {
   "cell_type": "markdown",
   "metadata": {},
   "source": [
    "- With the following output, we realize that basically this twitter account has two sources: Creation of content sources: * Twitter for iPhone * Media Studio\n",
    "- We now count the number of each source and create a pie chart. You'll notice that this code cell is not the most optimized one."
   ]
  },
  {
   "cell_type": "code",
   "execution_count": 27,
   "metadata": {},
   "outputs": [
    {
     "data": {
      "image/png": "[encoded data removed]",
      "text/plain": [
       "<Figure size 432x432 with 1 Axes>"
      ]
     },
     "metadata": {},
     "output_type": "display_data"
    }
   ],
   "source": [
    "# We create a numpy vector mapped to labels:\n",
    "percent = np.zeros(len(sources))\n",
    "\n",
    "for source in data['Source']:\n",
    "    for index in range(len(sources)):\n",
    "        if source == sources[index]:\n",
    "            percent[index] += 1\n",
    "            pass\n",
    "\n",
    "percent /= 100\n",
    "\n",
    "# Pie chart:\n",
    "pie_chart = pd.Series(percent, index=sources, name='Sources')\n",
    "pie_chart.plot.pie(fontsize=11, autopct='%.2f', figsize=(6, 6));"
   ]
  },
  {
   "cell_type": "markdown",
   "metadata": {},
   "source": [
    "**Sentiment analysis**"
   ]
  },
  {
   "cell_type": "markdown",
   "metadata": {},
   "source": [
    "- **Importing textblob**\n",
    "- textblob will allow us to do sentiment analysis in a very simple way. We will also use the re library from Python, which is used to work with regular expressions. \n",
    "- For this, I'll provide you two utility functions to: a) clean text (which means that any symbol distinct to an alphanumeric value will be remapped into a new one that satisfies this condition), and b) create a classifier to analyze the polarity of each tweet after cleaning the text in it. I won't explain the specific way in which the function that cleans works, since it would be extended and it might be better understood in the official redocumentation."
   ]
  },
  {
   "cell_type": "code",
   "execution_count": 28,
   "metadata": {},
   "outputs": [],
   "source": [
    "from textblob import TextBlob\n",
    "import re\n",
    "\n",
    "def clean_tweet(tweet):\n",
    "    '''\n",
    "    Utility function to clean the text in a tweet by removing\n",
    "    links and special characters using regex.\n",
    "    '''\n",
    "    return ' '.join(re.sub(\"(@[A-Za-z0-9]+)|([^0-9A-Za-z \\t])|(\\w+:\\/\\/\\S+)\", \" \", tweet).split())\n",
    "\n",
    "def analize_sentiment(tweet):\n",
    "    '''\n",
    "    Utility function to classify the polarity of a tweet\n",
    "    using textblob.\n",
    "    '''\n",
    "    analysis = TextBlob(clean_tweet(tweet))\n",
    "    if analysis.sentiment.polarity > 0:\n",
    "        return 1\n",
    "    elif analysis.sentiment.polarity == 0:\n",
    "        return 0\n",
    "    else:\n",
    "        return -1"
   ]
  },
  {
   "cell_type": "code",
   "execution_count": 29,
   "metadata": {},
   "outputs": [
    {
     "data": {
      "text/html": [
       "<div>\n",
       "<style scoped>\n",
       "    .dataframe tbody tr th:only-of-type {\n",
       "        vertical-align: middle;\n",
       "    }\n",
       "\n",
       "    .dataframe tbody tr th {\n",
       "        vertical-align: top;\n",
       "    }\n",
       "\n",
       "    .dataframe thead th {\n",
       "        text-align: right;\n",
       "    }\n",
       "</style>\n",
       "<table border=\"1\" class=\"dataframe\">\n",
       "  <thead>\n",
       "    <tr style=\"text-align: right;\">\n",
       "      <th></th>\n",
       "      <th>Tweets</th>\n",
       "      <th>len</th>\n",
       "      <th>ID</th>\n",
       "      <th>Date</th>\n",
       "      <th>Source</th>\n",
       "      <th>Likes</th>\n",
       "      <th>RTs</th>\n",
       "      <th>SA</th>\n",
       "    </tr>\n",
       "  </thead>\n",
       "  <tbody>\n",
       "    <tr>\n",
       "      <th>0</th>\n",
       "      <td>When you get the text from your coworker “I’m ...</td>\n",
       "      <td>144</td>\n",
       "      <td>1514263192918274057</td>\n",
       "      <td>2022-04-13 15:24:13+00:00</td>\n",
       "      <td>Sprinklr Publishing</td>\n",
       "      <td>27</td>\n",
       "      <td>6</td>\n",
       "      <td>-1</td>\n",
       "    </tr>\n",
       "    <tr>\n",
       "      <th>1</th>\n",
       "      <td>@CharlotteFC WINS! https://t.co/2pqW8Rm0dW</td>\n",
       "      <td>42</td>\n",
       "      <td>1513244822542426120</td>\n",
       "      <td>2022-04-10 19:57:35+00:00</td>\n",
       "      <td>Twitter for iPhone</td>\n",
       "      <td>11</td>\n",
       "      <td>2</td>\n",
       "      <td>1</td>\n",
       "    </tr>\n",
       "    <tr>\n",
       "      <th>2</th>\n",
       "      <td>Tee off in Augusta or tea off from the couch? ...</td>\n",
       "      <td>69</td>\n",
       "      <td>1513207690838917135</td>\n",
       "      <td>2022-04-10 17:30:02+00:00</td>\n",
       "      <td>Sprinklr Publishing</td>\n",
       "      <td>19</td>\n",
       "      <td>3</td>\n",
       "      <td>0</td>\n",
       "    </tr>\n",
       "    <tr>\n",
       "      <th>3</th>\n",
       "      <td>And they’re off! Let’s go @CharlotteFC #forthe...</td>\n",
       "      <td>75</td>\n",
       "      <td>1513187788878925825</td>\n",
       "      <td>2022-04-10 16:10:57+00:00</td>\n",
       "      <td>Twitter for iPhone</td>\n",
       "      <td>19</td>\n",
       "      <td>2</td>\n",
       "      <td>0</td>\n",
       "    </tr>\n",
       "    <tr>\n",
       "      <th>4</th>\n",
       "      <td>RT @CharlotteFC_CFO: Supporters Tailgate is al...</td>\n",
       "      <td>139</td>\n",
       "      <td>1513178005681721346</td>\n",
       "      <td>2022-04-10 15:32:04+00:00</td>\n",
       "      <td>Twitter for iPhone</td>\n",
       "      <td>0</td>\n",
       "      <td>4</td>\n",
       "      <td>0</td>\n",
       "    </tr>\n",
       "    <tr>\n",
       "      <th>5</th>\n",
       "      <td>pov: you’re a scratch-made Cajun Filet Biscuit...</td>\n",
       "      <td>117</td>\n",
       "      <td>1513175568401018884</td>\n",
       "      <td>2022-04-10 15:22:23+00:00</td>\n",
       "      <td>Twitter for iPhone</td>\n",
       "      <td>96</td>\n",
       "      <td>6</td>\n",
       "      <td>0</td>\n",
       "    </tr>\n",
       "    <tr>\n",
       "      <th>6</th>\n",
       "      <td>Next #cltfc star? Come take your shot! https:/...</td>\n",
       "      <td>62</td>\n",
       "      <td>1513173566417686538</td>\n",
       "      <td>2022-04-10 15:14:26+00:00</td>\n",
       "      <td>Twitter for iPhone</td>\n",
       "      <td>4</td>\n",
       "      <td>0</td>\n",
       "      <td>0</td>\n",
       "    </tr>\n",
       "    <tr>\n",
       "      <th>7</th>\n",
       "      <td>https://t.co/s7p1TrlY0k</td>\n",
       "      <td>23</td>\n",
       "      <td>1513170923519713291</td>\n",
       "      <td>2022-04-10 15:03:56+00:00</td>\n",
       "      <td>Twitter for iPhone</td>\n",
       "      <td>2</td>\n",
       "      <td>0</td>\n",
       "      <td>0</td>\n",
       "    </tr>\n",
       "    <tr>\n",
       "      <th>8</th>\n",
       "      <td>We’re back serving up scratch-made biscuits (w...</td>\n",
       "      <td>139</td>\n",
       "      <td>1513169376685568003</td>\n",
       "      <td>2022-04-10 14:57:47+00:00</td>\n",
       "      <td>Twitter for iPhone</td>\n",
       "      <td>56</td>\n",
       "      <td>7</td>\n",
       "      <td>1</td>\n",
       "    </tr>\n",
       "    <tr>\n",
       "      <th>9</th>\n",
       "      <td>A bucket of golf balls or Bojangles biscuits? ...</td>\n",
       "      <td>69</td>\n",
       "      <td>1512860418410270721</td>\n",
       "      <td>2022-04-09 18:30:05+00:00</td>\n",
       "      <td>Sprinklr Publishing</td>\n",
       "      <td>60</td>\n",
       "      <td>7</td>\n",
       "      <td>0</td>\n",
       "    </tr>\n",
       "  </tbody>\n",
       "</table>\n",
       "</div>"
      ],
      "text/plain": [
       "                                              Tweets  len  \\\n",
       "0  When you get the text from your coworker “I’m ...  144   \n",
       "1         @CharlotteFC WINS! https://t.co/2pqW8Rm0dW   42   \n",
       "2  Tee off in Augusta or tea off from the couch? ...   69   \n",
       "3  And they’re off! Let’s go @CharlotteFC #forthe...   75   \n",
       "4  RT @CharlotteFC_CFO: Supporters Tailgate is al...  139   \n",
       "5  pov: you’re a scratch-made Cajun Filet Biscuit...  117   \n",
       "6  Next #cltfc star? Come take your shot! https:/...   62   \n",
       "7                            https://t.co/s7p1TrlY0k   23   \n",
       "8  We’re back serving up scratch-made biscuits (w...  139   \n",
       "9  A bucket of golf balls or Bojangles biscuits? ...   69   \n",
       "\n",
       "                    ID                      Date               Source  Likes  \\\n",
       "0  1514263192918274057 2022-04-13 15:24:13+00:00  Sprinklr Publishing     27   \n",
       "1  1513244822542426120 2022-04-10 19:57:35+00:00   Twitter for iPhone     11   \n",
       "2  1513207690838917135 2022-04-10 17:30:02+00:00  Sprinklr Publishing     19   \n",
       "3  1513187788878925825 2022-04-10 16:10:57+00:00   Twitter for iPhone     19   \n",
       "4  1513178005681721346 2022-04-10 15:32:04+00:00   Twitter for iPhone      0   \n",
       "5  1513175568401018884 2022-04-10 15:22:23+00:00   Twitter for iPhone     96   \n",
       "6  1513173566417686538 2022-04-10 15:14:26+00:00   Twitter for iPhone      4   \n",
       "7  1513170923519713291 2022-04-10 15:03:56+00:00   Twitter for iPhone      2   \n",
       "8  1513169376685568003 2022-04-10 14:57:47+00:00   Twitter for iPhone     56   \n",
       "9  1512860418410270721 2022-04-09 18:30:05+00:00  Sprinklr Publishing     60   \n",
       "\n",
       "   RTs  SA  \n",
       "0    6  -1  \n",
       "1    2   1  \n",
       "2    3   0  \n",
       "3    2   0  \n",
       "4    4   0  \n",
       "5    6   0  \n",
       "6    0   0  \n",
       "7    0   0  \n",
       "8    7   1  \n",
       "9    7   0  "
      ]
     },
     "metadata": {},
     "output_type": "display_data"
    }
   ],
   "source": [
    "# We create a column with the result of the analysis:\n",
    "data['SA'] = np.array([ analize_sentiment(tweet) for tweet in data['Tweets'] ])\n",
    "\n",
    "# We display the updated dataframe with the new column:\n",
    "display(data.head(10))"
   ]
  },
  {
   "cell_type": "markdown",
   "metadata": {},
   "source": [
    "**Analyzing the results**\n",
    "- To have a simple way to verify the results, we will count the number of neutral, positive and negative tweets and extract the percentages."
   ]
  },
  {
   "cell_type": "code",
   "execution_count": 30,
   "metadata": {},
   "outputs": [],
   "source": [
    "# We construct lists with classified tweets:\n",
    "pos_tweets = [ tweet for index, tweet in enumerate(data['Tweets']) if data['SA'][index] > 0]\n",
    "neu_tweets = [ tweet for index, tweet in enumerate(data['Tweets']) if data['SA'][index] == 0]\n",
    "neg_tweets = [ tweet for index, tweet in enumerate(data['Tweets']) if data['SA'][index] < 0]"
   ]
  },
  {
   "cell_type": "markdown",
   "metadata": {},
   "source": [
    "- Now that we have the lists, we just print the percentages:"
   ]
  },
  {
   "cell_type": "code",
   "execution_count": 31,
   "metadata": {},
   "outputs": [
    {
     "name": "stdout",
     "output_type": "stream",
     "text": [
      "Percentage of positive tweets: 32.82828282828283%\n",
      "Percentage of neutral tweets: 47.474747474747474%\n",
      "Percentage de negative tweets: 19.696969696969695%\n"
     ]
    }
   ],
   "source": [
    "# We print percentages:\n",
    "\n",
    "print(\"Percentage of positive tweets: {}%\".format(len(pos_tweets)*100/len(data['Tweets'])))\n",
    "print(\"Percentage of neutral tweets: {}%\".format(len(neu_tweets)*100/len(data['Tweets'])))\n",
    "print(\"Percentage de negative tweets: {}%\".format(len(neg_tweets)*100/len(data['Tweets'])))"
   ]
  },
  {
   "cell_type": "code",
   "execution_count": null,
   "metadata": {},
   "outputs": [],
   "source": []
  }
 ],
 "metadata": {
  "kernelspec": {
   "display_name": "Python 3 (ipykernel)",
   "language": "python",
   "name": "python3"
  },
  "language_info": {
   "codemirror_mode": {
    "name": "ipython",
    "version": 3
   },
   "file_extension": ".py",
   "mimetype": "text/x-python",
   "name": "python",
   "nbconvert_exporter": "python",
   "pygments_lexer": "ipython3",
   "version": "3.9.12"
  }
 },
 "nbformat": 4,
 "nbformat_minor": 2
}
