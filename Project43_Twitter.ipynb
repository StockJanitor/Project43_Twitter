{
 "cells": [
  {
   "cell_type": "markdown",
   "metadata": {},
   "source": [
    "#### Twitter Mining Project\n",
    "Course: CISD 43 <br>\n",
    "Professor: Sohair Zaki <br>\n",
    "Student: Jack Chen <br>\n",
    "<br>\n",
    "Purpose:<br>\n",
    "- Exercise twitter api, clean text data, visualize data, implement natural language processing (NLP)<br>\n",
    "\n",
    "Tasks:<br>\n",
    "- Pre-Setup\n",
    "- Twitter API\n",
    "- Cleaning Phase\n",
    "- Visualization\n",
    "\n",
    "<br>\n",
    "Conclusion:"
   ]
  },
  {
   "cell_type": "markdown",
   "metadata": {},
   "source": [
    "#### Pre-Setup: Loading Data, Functions, etc"
   ]
  },
  {
   "cell_type": "code",
   "execution_count": 141,
   "metadata": {},
   "outputs": [],
   "source": [
    "# Importing Libraries\n",
    "# import webbrowser\n",
    "# import time\n",
    "import tweepy\n",
    "from tweepy import Stream\n",
    "from tweepy.auth import OAuthHandler\n",
    "import os\n",
    "import pandas as pd\n",
    "import re\n",
    "import glob\n",
    "\n",
    "# load keys into keys\n",
    "#[apiKey,apiKeySecret,bearerTokem,accessToken,accessTokenSecret]\n",
    "# Consumer Keys: apiKey, apiKeySecret\n",
    "# Access Keys: accessToken, accessTokenSecret\n",
    "path =  r'C:\\Users\\Gumo\\Desktop\\Git\\selfBooks\\tweepy.txt'\n",
    "keys = []\n",
    "with open(path, mode='r') as w:\n",
    "    for line in w:\n",
    "        keys.append(line.split(': ')[1].strip())\n",
    "access_token = keys[3]\n",
    "access_secret = keys[4]\n",
    "consumer_key = keys[0]\n",
    "consumer_secret = keys[1]\n",
    "bearer_token = keys[2]\n",
    "\n",
    "###### my id/name #####\n",
    "myUserId = 1309643764172947456\n",
    "myUsername = 'stockjanitor'\n"
   ]
  },
  {
   "cell_type": "code",
   "execution_count": 142,
   "metadata": {},
   "outputs": [],
   "source": [
    "###### FUNCTIONS ######\n",
    "def tweetPost(text):\n",
    "    try:\n",
    "        twitterApi.update_status(text)\n",
    "        print(\"bling bling~~\")\n",
    "    except:\n",
    "        print(\"boom boom\")\n",
    "def tweetMedia(text, img):\n",
    "    try:\n",
    "        media = twitterApi.media_upload(img)\n",
    "        twitterApi.update_status(text,media_ids=[media.media_id_string])\n",
    "        print(\"bling bling~~\")\n",
    "    except:\n",
    "        print(\"boom boom\")\n",
    "def tweetFriend(name):\n",
    "    try:\n",
    "        twitterApi.create_friendship(screen_name=name)\n",
    "        print(\"bling bling~~\")\n",
    "    except:\n",
    "        print(\"boom boom\")\n",
    "def tweetUnfriend(name):\n",
    "    try:\n",
    "        twitterApi.destroy_friendship(screen_name=name)\n",
    "        print(\"bling bling~~\")\n",
    "    except:\n",
    "        print(\"boom boom\")\n",
    "\n",
    "# Regex Remove functions\n",
    "# remove url\n",
    "def remove_url(txt):\n",
    "    return \" \".join(re.sub(\"([^0-9A-Za-z \\t])|(\\w+:\\/\\/\\S+)\", \"\", txt).split())\n",
    "#remove hashtag #\n",
    "def remove_hashtag(txt):\n",
    "    return \" \".join(re.sub(\"([#＃]+)([0-9A-Z_]*[A-Z_]+[a-z0-9_üÀ-ÖØ-öø-ÿ]*)\", \"\", txt).split())\n",
    "# remove mention @\n",
    "def remove_at(txt):\n",
    "    return \" \".join(re.sub(\"(\\@[a-zA-Z0-9_%]*)\", \"\", txt).split())"
   ]
  },
  {
   "cell_type": "code",
   "execution_count": 7,
   "metadata": {},
   "outputs": [
    {
     "name": "stdout",
     "output_type": "stream",
     "text": [
      "twitterApi works\n"
     ]
    }
   ],
   "source": [
    "# Twitter API v1 - auth keys (Cursor)\n",
    "auth = tweepy.OAuthHandler(consumer_key, consumer_secret)\n",
    "auth.set_access_token(access_token,access_secret)\n",
    "\n",
    "# create instance\n",
    "twitterApi = tweepy.API(auth, wait_on_rate_limit=True)\n",
    "# wait on rate limit, not to get errors on timing out\n",
    "\n",
    "# verify credential\n",
    "try:\n",
    "    # see if credential works\n",
    "    twitterApi.verify_credentials()\n",
    "    print(\"twitterApi works\")\n",
    "except:\n",
    "    print(\"Please fix me\")\n",
    "\n",
    "# Twitter API v2 - auth keys (Client)\n",
    "# for user access, tweeting etc\n",
    "client = tweepy.Client(consumer_key=consumer_key,consumer_secret=consumer_secret,access_token=access_token,access_token_secret=access_secret)\n",
    "\n",
    "# for query access, search tweets etc\n",
    "clientBearer = tweepy.Client(bearer_token=bearer_token)\n"
   ]
  },
  {
   "cell_type": "markdown",
   "metadata": {},
   "source": [
    "#### Twitter API to pull data"
   ]
  },
  {
   "cell_type": "markdown",
   "metadata": {},
   "source": [
    "##### Client - v2"
   ]
  },
  {
   "cell_type": "code",
   "execution_count": 8,
   "metadata": {},
   "outputs": [],
   "source": [
    "# # store responses of query1 in response1\n",
    "# response1 = clientBearer.search_all_tweets(query=query1, max_results=10, start_time= \"2022-03-28T12:12:01Z\", end_time='2022-03-27T13:12:01Z',tweet_fields=['id','text', 'created_at','geo','source', 'public_metrics'])\n",
    "\n",
    "\n",
    "# # convert response into list1\n",
    "# list1 = [[tweet.id,tweet.text,tweet.created_at,tweet.geo,tweet.source,tweet.public_metrics]for tweet in response1.data]\n",
    "\n",
    "# # load to df\n",
    "# # df = original df \n",
    "# df = pd.DataFrame(data=list1,columns=['userid','text','time','location','source','metrics'])\n",
    "\n",
    "# # show df\n",
    "# df.head(3)"
   ]
  },
  {
   "cell_type": "code",
   "execution_count": 10,
   "metadata": {},
   "outputs": [],
   "source": [
    "# # assign new df for editing\n",
    "# df1 = df\n",
    "\n",
    "# # extract public metrics into respective columns\n",
    "# df1['retweet_count'] = df.metrics.apply(lambda x: list(x.items())[0][1])\n",
    "# df1['reply_count'] = df.metrics.apply(lambda x: list(x.items())[1][1])\n",
    "# df1['like_count']= df.metrics.apply(lambda x: list(x.items())[2][1])\n",
    "# df1['quote_count']= df.metrics.apply(lambda x: list(x.items())[3][1])\n",
    "\n",
    "# # drop the metrics since we have extracted it\n",
    "# df1 = df1.drop(columns='metrics')\n",
    "\n",
    "# #show df\n",
    "# df1.head(3)"
   ]
  },
  {
   "cell_type": "markdown",
   "metadata": {},
   "source": [
    "##### Cursor v1"
   ]
  },
  {
   "cell_type": "code",
   "execution_count": 125,
   "metadata": {},
   "outputs": [
    {
     "data": {
      "text/plain": [
       "(97, 7)"
      ]
     },
     "execution_count": 125,
     "metadata": {},
     "output_type": "execute_result"
    }
   ],
   "source": [
    "# set query1\n",
    "query1 = \"chrisrock\"\n",
    "hour = '07'\n",
    "\n",
    "date = '20220422'\n",
    "time =hour+'00'\n",
    "time2=hour+'59'\n",
    "fromdate =date+time\n",
    "todate=date+time2\n",
    "\n",
    "######################## Search 30 Day Queries ########################\n",
    "# # store search in tweets\n",
    "# queryResponse1 = twitterApi.search_30_day(label='30Days',query=query1,fromDate=fromdate,toDate=todate,maxResults=100)\n",
    "# # save tweets to list1\n",
    "# list1 = [[tweet.user.screen_name,tweet.text,tweet.created_at,tweet.user.location,tweet.source,tweet.favorite_count,tweet.quote_count,tweet.reply_count,tweet.retweet_count]for tweet in queryResponse1]\n",
    "# # convert tweet list into dataframe\n",
    "# df = pd.DataFrame(data=list1,columns=['user','text','time','location','source','like_count','quote_count','reply_count','retweet_count'])\n",
    "# # save to dataframe\n",
    "# df.to_csv('data/'+date+time+time2+query1+'.csv')\n",
    "# df.shape\n",
    "\n",
    "\n",
    "\n",
    "######################## Search Recent queries ########################\n",
    "# sincedate=''\n",
    "# queryResponse1 = twitterApi.search_tweets(q=query1,until=sincedate,count=100)\n",
    "# # items = 5, retrieve 5 tweets\n",
    "# list1 = [[tweet.user.screen_name,tweet.text,tweet.created_at,tweet.user.location,tweet.source,tweet.favorite_count,tweet.retweet_count]for tweet in queryResponse1]\n",
    "# # convert tweet list into dataframe\n",
    "# df = pd.DataFrame(data=list1,columns=['user','text','time','location','source','like_count','retweet_count'])\n",
    "# # save to dataframe\n",
    "# df.to_csv('data/'+sincedate+query1+'.csv')\n",
    "# df.shape\n"
   ]
  },
  {
   "cell_type": "markdown",
   "metadata": {},
   "source": [
    "#### Cleaning Phase: Load Data, Clean Data"
   ]
  },
  {
   "cell_type": "code",
   "execution_count": 143,
   "metadata": {},
   "outputs": [
    {
     "data": {
      "text/plain": [
       "(4970, 10)"
      ]
     },
     "execution_count": 143,
     "metadata": {},
     "output_type": "execute_result"
    }
   ],
   "source": [
    "pathOfData = 'data/' \n",
    "# saves path all file name to variable all_files\n",
    "all_files = glob.glob(os.path.join(pathOfData , \"*.csv\"))\n",
    "#initiate a list\n",
    "merged_list1 = []\n",
    "\n",
    "# loop all files to append each file to list\n",
    "for a in all_files:\n",
    "    df = pd.read_csv(a, index_col=None, header=0)\n",
    "    merged_list1.append(df)\n",
    "\n",
    "# concat all files\n",
    "merged_df1 = pd.concat(merged_list1, axis=0, ignore_index=True)\n",
    "merged_df1.shape"
   ]
  },
  {
   "cell_type": "code",
   "execution_count": 145,
   "metadata": {},
   "outputs": [
    {
     "data": {
      "text/plain": [
       "(297, 8)"
      ]
     },
     "execution_count": 145,
     "metadata": {},
     "output_type": "execute_result"
    }
   ],
   "source": [
    "pathOfData = 'data2/' \n",
    "# saves path all file name to variable all_files\n",
    "all_files2 = glob.glob(os.path.join(pathOfData , \"*.csv\"))\n",
    "#initiate a list\n",
    "merged_list2 = []\n",
    "\n",
    "# loop all files to append each file to list\n",
    "for b in all_files2:\n",
    "    df = pd.read_csv(b, index_col=None, header=0)\n",
    "    merged_list2.append(df)\n",
    "\n",
    "# concat all files\n",
    "merged_df2 = pd.concat(merged_list2, axis=0, ignore_index=True)\n",
    "merged_df2.shape"
   ]
  },
  {
   "cell_type": "code",
   "execution_count": 146,
   "metadata": {},
   "outputs": [
    {
     "data": {
      "text/html": [
       "<div>\n",
       "<style scoped>\n",
       "    .dataframe tbody tr th:only-of-type {\n",
       "        vertical-align: middle;\n",
       "    }\n",
       "\n",
       "    .dataframe tbody tr th {\n",
       "        vertical-align: top;\n",
       "    }\n",
       "\n",
       "    .dataframe thead th {\n",
       "        text-align: right;\n",
       "    }\n",
       "</style>\n",
       "<table border=\"1\" class=\"dataframe\">\n",
       "  <thead>\n",
       "    <tr style=\"text-align: right;\">\n",
       "      <th></th>\n",
       "      <th>Unnamed: 0</th>\n",
       "      <th>user</th>\n",
       "      <th>text</th>\n",
       "      <th>time</th>\n",
       "      <th>location</th>\n",
       "      <th>source</th>\n",
       "      <th>like_count</th>\n",
       "      <th>retweet_count</th>\n",
       "    </tr>\n",
       "  </thead>\n",
       "  <tbody>\n",
       "    <tr>\n",
       "      <th>0</th>\n",
       "      <td>0</td>\n",
       "      <td>larepublica_pe</td>\n",
       "      <td>RT @LRTendencias: 🎬 😕 Primero #Netflix y ahora...</td>\n",
       "      <td>2022-04-22 18:24:18+00:00</td>\n",
       "      <td>Lima, Perú</td>\n",
       "      <td>Twitter Web App</td>\n",
       "      <td>0</td>\n",
       "      <td>1</td>\n",
       "    </tr>\n",
       "    <tr>\n",
       "      <th>1</th>\n",
       "      <td>1</td>\n",
       "      <td>AdetoroMph</td>\n",
       "      <td>#ChrisRock: Where was #WillSmith when #MeekMil...</td>\n",
       "      <td>2022-04-22 18:22:40+00:00</td>\n",
       "      <td>Princeton, NJ</td>\n",
       "      <td>Twitter for iPhone</td>\n",
       "      <td>0</td>\n",
       "      <td>0</td>\n",
       "    </tr>\n",
       "    <tr>\n",
       "      <th>2</th>\n",
       "      <td>2</td>\n",
       "      <td>Melisa_Porte</td>\n",
       "      <td>@chrisrock Who's bored her too?</td>\n",
       "      <td>2022-04-22 18:21:49+00:00</td>\n",
       "      <td>NaN</td>\n",
       "      <td>Twitter Web App</td>\n",
       "      <td>0</td>\n",
       "      <td>0</td>\n",
       "    </tr>\n",
       "  </tbody>\n",
       "</table>\n",
       "</div>"
      ],
      "text/plain": [
       "  Unnamed: 0            user  \\\n",
       "0          0  larepublica_pe   \n",
       "1          1      AdetoroMph   \n",
       "2          2    Melisa_Porte   \n",
       "\n",
       "                                                text  \\\n",
       "0  RT @LRTendencias: 🎬 😕 Primero #Netflix y ahora...   \n",
       "1  #ChrisRock: Where was #WillSmith when #MeekMil...   \n",
       "2                    @chrisrock Who's bored her too?   \n",
       "\n",
       "                        time       location              source like_count  \\\n",
       "0  2022-04-22 18:24:18+00:00     Lima, Perú     Twitter Web App          0   \n",
       "1  2022-04-22 18:22:40+00:00  Princeton, NJ  Twitter for iPhone          0   \n",
       "2  2022-04-22 18:21:49+00:00            NaN     Twitter Web App          0   \n",
       "\n",
       "  retweet_count  \n",
       "0             1  \n",
       "1             0  \n",
       "2             0  "
      ]
     },
     "execution_count": 146,
     "metadata": {},
     "output_type": "execute_result"
    }
   ],
   "source": [
    "merged_df2.head(3)"
   ]
  },
  {
   "cell_type": "code",
   "execution_count": 147,
   "metadata": {},
   "outputs": [
    {
     "data": {
      "text/html": [
       "<div>\n",
       "<style scoped>\n",
       "    .dataframe tbody tr th:only-of-type {\n",
       "        vertical-align: middle;\n",
       "    }\n",
       "\n",
       "    .dataframe tbody tr th {\n",
       "        vertical-align: top;\n",
       "    }\n",
       "\n",
       "    .dataframe thead th {\n",
       "        text-align: right;\n",
       "    }\n",
       "</style>\n",
       "<table border=\"1\" class=\"dataframe\">\n",
       "  <thead>\n",
       "    <tr style=\"text-align: right;\">\n",
       "      <th></th>\n",
       "      <th>Unnamed: 0</th>\n",
       "      <th>user</th>\n",
       "      <th>text</th>\n",
       "      <th>time</th>\n",
       "      <th>location</th>\n",
       "      <th>source</th>\n",
       "      <th>like_count</th>\n",
       "      <th>quote_count</th>\n",
       "      <th>reply_count</th>\n",
       "      <th>retweet_count</th>\n",
       "    </tr>\n",
       "  </thead>\n",
       "  <tbody>\n",
       "    <tr>\n",
       "      <th>0</th>\n",
       "      <td>0</td>\n",
       "      <td>Hjr0223</td>\n",
       "      <td>It’s the King and Queen  #WillSmith and #Jadas...</td>\n",
       "      <td>2022-03-27 23:50:18+00:00</td>\n",
       "      <td>#SOSCuba🇨🇺</td>\n",
       "      <td>Twitter Web App</td>\n",
       "      <td>1</td>\n",
       "      <td>0</td>\n",
       "      <td>0</td>\n",
       "      <td>0</td>\n",
       "    </tr>\n",
       "    <tr>\n",
       "      <th>1</th>\n",
       "      <td>1</td>\n",
       "      <td>RevistaHogar</td>\n",
       "      <td>#JadaSmith, la esposa de Will Smith, eligió el...</td>\n",
       "      <td>2022-03-27 23:49:24+00:00</td>\n",
       "      <td>Guayaquil, Ecuador</td>\n",
       "      <td>Twitter Web App</td>\n",
       "      <td>0</td>\n",
       "      <td>0</td>\n",
       "      <td>0</td>\n",
       "      <td>0</td>\n",
       "    </tr>\n",
       "    <tr>\n",
       "      <th>2</th>\n",
       "      <td>2</td>\n",
       "      <td>Imeraldgurl</td>\n",
       "      <td>#Oscarsredcarpet #Oscars #JadaSmith is there a...</td>\n",
       "      <td>2022-03-27 23:48:41+00:00</td>\n",
       "      <td>Los Angeles, Ca</td>\n",
       "      <td>Twitter for iPhone</td>\n",
       "      <td>0</td>\n",
       "      <td>0</td>\n",
       "      <td>0</td>\n",
       "      <td>0</td>\n",
       "    </tr>\n",
       "  </tbody>\n",
       "</table>\n",
       "</div>"
      ],
      "text/plain": [
       "  Unnamed: 0          user                                               text  \\\n",
       "0          0       Hjr0223  It’s the King and Queen  #WillSmith and #Jadas...   \n",
       "1          1  RevistaHogar  #JadaSmith, la esposa de Will Smith, eligió el...   \n",
       "2          2   Imeraldgurl  #Oscarsredcarpet #Oscars #JadaSmith is there a...   \n",
       "\n",
       "                        time            location              source  \\\n",
       "0  2022-03-27 23:50:18+00:00          #SOSCuba🇨🇺     Twitter Web App   \n",
       "1  2022-03-27 23:49:24+00:00  Guayaquil, Ecuador     Twitter Web App   \n",
       "2  2022-03-27 23:48:41+00:00     Los Angeles, Ca  Twitter for iPhone   \n",
       "\n",
       "  like_count quote_count reply_count retweet_count  \n",
       "0          1           0           0             0  \n",
       "1          0           0           0             0  \n",
       "2          0           0           0             0  "
      ]
     },
     "execution_count": 147,
     "metadata": {},
     "output_type": "execute_result"
    }
   ],
   "source": [
    "merged_df1.head(3)"
   ]
  },
  {
   "cell_type": "code",
   "execution_count": null,
   "metadata": {},
   "outputs": [],
   "source": []
  },
  {
   "cell_type": "code",
   "execution_count": null,
   "metadata": {},
   "outputs": [],
   "source": []
  },
  {
   "cell_type": "code",
   "execution_count": null,
   "metadata": {},
   "outputs": [],
   "source": []
  },
  {
   "cell_type": "code",
   "execution_count": null,
   "metadata": {},
   "outputs": [],
   "source": []
  },
  {
   "cell_type": "code",
   "execution_count": 152,
   "metadata": {},
   "outputs": [
    {
     "name": "stdout",
     "output_type": "stream",
     "text": [
      "0    Scorchio south of the Forth today Bring it on ...\n",
      "1    it could help to create the conditions for hea...\n",
      "2    AQI 69 Advisory Moderate Air quality is accept...\n",
      "3    Difficile de liker ce type de post rares sont ...\n",
      "4    RT Distance between and our sun is about 150 m...\n",
      "5    RT Lets make this world a better place to live...\n",
      "6         RT9 ForPlanet Action Crisis Emergency Strike\n",
      "7    RT Methane emissions 14 minutes must watch Cri...\n",
      "8    Did you know Crisis Emergency ActionNow shorta...\n",
      "9                 RT wildfire Crisis Warming ActionNow\n",
      "Name: text, dtype: object\n"
     ]
    }
   ],
   "source": [
    "# Clean df\n",
    "df3 = df2.text.apply(remove_hashtag)\n",
    "df3 = df3.apply(remove_at)\n",
    "df3 = df3.apply(remove_url)\n",
    "print(df3)"
   ]
  },
  {
   "cell_type": "code",
   "execution_count": null,
   "metadata": {},
   "outputs": [],
   "source": []
  }
 ],
 "metadata": {
  "interpreter": {
   "hash": "0fce278cc62e450349c9f30ef0edcfd9302f52e883f37cbf68cb36747bb67127"
  },
  "kernelspec": {
   "display_name": "Python 3.9.6 64-bit ('env_desktop': venv)",
   "language": "python",
   "name": "python3"
  },
  "language_info": {
   "codemirror_mode": {
    "name": "ipython",
    "version": 3
   },
   "file_extension": ".py",
   "mimetype": "text/x-python",
   "name": "python",
   "nbconvert_exporter": "python",
   "pygments_lexer": "ipython3",
   "version": "3.9.6"
  },
  "orig_nbformat": 4
 },
 "nbformat": 4,
 "nbformat_minor": 2
}
