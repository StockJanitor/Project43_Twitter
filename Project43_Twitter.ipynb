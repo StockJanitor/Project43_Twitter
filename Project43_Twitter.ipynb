{
 "cells": [
  {
   "cell_type": "markdown",
   "metadata": {},
   "source": [
    "Project 43\n"
   ]
  },
  {
   "cell_type": "code",
   "execution_count": 83,
   "metadata": {},
   "outputs": [],
   "source": [
    "# Importing Libraries\n",
    "# import webbrowser\n",
    "# import time\n",
    "import tweepy\n",
    "from tweepy import Stream\n",
    "from tweepy.auth import OAuthHandler\n",
    "import os\n",
    "import pandas as pd\n",
    "\n",
    "\n",
    "# load keys into keys\n",
    "#[apiKey,apiKeySecret,bearerTokem,accessToken,accessTokenSecret]\n",
    "# Consumer Keys: apiKey, apiKeySecret\n",
    "# Access Keys: accessToken, accessTokenSecret\n",
    "path =  r'C:\\Users\\Gumo\\Desktop\\Git\\selfBooks\\tweepy.txt'\n",
    "keys = []\n",
    "with open(path, mode='r') as w:\n",
    "    for line in w:\n",
    "        keys.append(line.split(': ')[1].strip())\n",
    "access_token = keys[3]\n",
    "access_secret = keys[4]\n",
    "consumer_key = keys[0]\n",
    "consumer_secret = keys[1]\n"
   ]
  },
  {
   "cell_type": "code",
   "execution_count": 86,
   "metadata": {},
   "outputs": [
    {
     "name": "stdout",
     "output_type": "stream",
     "text": [
      "twitterApi works\n"
     ]
    }
   ],
   "source": [
    "# professor way\n",
    "auth = tweepy.OAuthHandler(consumer_key, consumer_secret)\n",
    "\n",
    "# access twitter api by keys\n",
    "auth.set_access_token(access_token,access_secret)\n",
    "twitterApi = tweepy.API(auth)\n",
    "\n",
    "# redirect_url = auth.get_authorization_url()\n",
    "# print(redirect_url)\n",
    "# webbrowser.open(redirect_url)\n",
    "try:\n",
    "    twitterApi.verify_credentials()\n",
    "    print(\"twitterApi works\")\n",
    "except:\n",
    "    print(\"Please fix me\")\n",
    "\n",
    "\n",
    "# client instance - to post tweet and other access\n",
    "client = tweepy.Client(consumer_key=consumer_key,consumer_secret=consumer_secret,access_token=access_token,access_token_secret=access_secret)"
   ]
  },
  {
   "cell_type": "code",
   "execution_count": 87,
   "metadata": {},
   "outputs": [
    {
     "name": "stdout",
     "output_type": "stream",
     "text": [
      "RT @drantbradley: What's the big deal with @elonmusk buying Twitter? #ElonMusk https://t.co/Hp5Y3aeoDO\n",
      "RT @CStyles45: Live look inside the Twitter Board Room RN: #Twitter $TWTR #ElonMusk @elonmusk https://t.co/C7ErytMRG6\n",
      "@PowerPixelNFTs Thank for GiveAway Sir\n",
      "0x3118F38E1E050f06D107731a78649c388D8fd8D2\n",
      "#elonmusk #elonmusknews #elon… https://t.co/Olj6VnChgq\n",
      "Are you Finding a #WP_Developer?\n",
      "I do #Profesionale_WP_develop. If you are interested #DM or \n",
      "Hire me:… https://t.co/WaNFoAS763\n",
      "If #ElonMusk thinks I'll subscribe to this shit he can do one. \n",
      "#TwitterTakeover\n"
     ]
    }
   ],
   "source": [
    "# set searchWords and dataSince\n",
    "searchWords = \"#elonmusk\"\n",
    "\n",
    "# store search in tweets\n",
    "tweets = tweepy.Cursor(twitterApi.search_tweets,q=searchWords,lang=\"en\").items(5)\n",
    "\n",
    "# print each text\n",
    "for tweet in tweets:\n",
    "    print(tweet.text)"
   ]
  },
  {
   "cell_type": "code",
   "execution_count": 88,
   "metadata": {},
   "outputs": [],
   "source": [
    "searchWords = searchWords + \"-filter:retweets\""
   ]
  },
  {
   "cell_type": "code",
   "execution_count": 90,
   "metadata": {},
   "outputs": [
    {
     "name": "stdout",
     "output_type": "stream",
     "text": [
      "@PowerPixelNFTs Thank for GiveAway Sir\n",
      "0x3118F38E1E050f06D107731a78649c388D8fd8D2\n",
      "#elonmusk #elonmusknews #elon… https://t.co/vBrdInTDWd\n",
      "Ready for the great resurrection?! 33 editions of the crucifixion by Velazquez.\n",
      "@elonmusk @ProfessorJun_ #nft… https://t.co/cI7I9yBes6\n",
      "#ElonMusk has setup a pretty sweet win-win for himself.  Buy Twitter or attract a higher cash counter-bid and doubl… https://t.co/3BNpTnpHP3\n",
      "@ThinukaWj @lexfridman Obvious bezos is not made up for this #ElonMusk lol and yes biased is the right word\n",
      "#FunFact Elon Musk was in Iron Man 2. He is the true #IronMan in real time. The rise of Elon is beginning &amp; Tony St… https://t.co/22VWycuhe8\n"
     ]
    }
   ],
   "source": [
    "# store search in tweets\n",
    "tweets = tweepy.Cursor(twitterApi.search_tweets,q=searchWords,lang=\"en\").items(5)\n",
    "for tweet in tweets:\n",
    "    print(tweet.text)"
   ]
  },
  {
   "cell_type": "code",
   "execution_count": 10,
   "metadata": {},
   "outputs": [],
   "source": []
  },
  {
   "cell_type": "code",
   "execution_count": null,
   "metadata": {},
   "outputs": [],
   "source": []
  }
 ],
 "metadata": {
  "interpreter": {
   "hash": "0fce278cc62e450349c9f30ef0edcfd9302f52e883f37cbf68cb36747bb67127"
  },
  "kernelspec": {
   "display_name": "Python 3.9.6 64-bit ('env_desktop': venv)",
   "language": "python",
   "name": "python3"
  },
  "language_info": {
   "codemirror_mode": {
    "name": "ipython",
    "version": 3
   },
   "file_extension": ".py",
   "mimetype": "text/x-python",
   "name": "python",
   "nbconvert_exporter": "python",
   "pygments_lexer": "ipython3",
   "version": "3.9.6"
  },
  "orig_nbformat": 4
 },
 "nbformat": 4,
 "nbformat_minor": 2
}
