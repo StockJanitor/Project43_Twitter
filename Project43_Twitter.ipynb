{
 "cells": [
  {
   "cell_type": "markdown",
   "metadata": {},
   "source": [
    "Project 43\n"
   ]
  },
  {
   "cell_type": "code",
   "execution_count": 103,
   "metadata": {},
   "outputs": [],
   "source": [
    "# Importing Libraries\n",
    "# import webbrowser\n",
    "# import time\n",
    "import tweepy\n",
    "from tweepy import Stream\n",
    "from tweepy.auth import OAuthHandler\n",
    "import os\n",
    "import pandas as pd\n",
    "import re\n",
    "# load keys into keys\n",
    "#[apiKey,apiKeySecret,bearerTokem,accessToken,accessTokenSecret]\n",
    "# Consumer Keys: apiKey, apiKeySecret\n",
    "# Access Keys: accessToken, accessTokenSecret\n",
    "path =  r'C:\\Users\\Gumo\\Desktop\\Git\\selfBooks\\tweepy.txt'\n",
    "keys = []\n",
    "with open(path, mode='r') as w:\n",
    "    for line in w:\n",
    "        keys.append(line.split(': ')[1].strip())\n",
    "access_token = keys[3]\n",
    "access_secret = keys[4]\n",
    "consumer_key = keys[0]\n",
    "consumer_secret = keys[1]\n",
    "bearer_token = keys[2]\n",
    "\n",
    "###### my id/name #####\n",
    "myUserId = 1309643764172947456\n",
    "myUsername = 'stockjanitor'\n",
    "\n",
    "###### FUNCTIONS ######\n",
    "def tweetPost(text):\n",
    "    try:\n",
    "        twitterApi.update_status(text)\n",
    "        print(\"bling bling~~\")\n",
    "    except:\n",
    "        print(\"boom boom\")\n",
    "def tweetMedia(text, img):\n",
    "    try:\n",
    "        media = twitterApi.media_upload(img)\n",
    "        twitterApi.update_status(text,media_ids=[media.media_id_string])\n",
    "        print(\"bling bling~~\")\n",
    "    except:\n",
    "        print(\"boom boom\")\n",
    "def tweetFriend(name):\n",
    "    try:\n",
    "        twitterApi.create_friendship(screen_name=name)\n",
    "        print(\"bling bling~~\")\n",
    "    except:\n",
    "        print(\"boom boom\")\n",
    "def tweetUnfriend(name):\n",
    "    try:\n",
    "        twitterApi.destroy_friendship(screen_name=name)\n",
    "        print(\"bling bling~~\")\n",
    "    except:\n",
    "        print(\"boom boom\")\n",
    "\n",
    "# Regex Remove functions\n",
    "# remove url\n",
    "def remove_url(txt):\n",
    "    return \" \".join(re.sub(\"([^0-9A-Za-z \\t])|(\\w+:\\/\\/\\S+)\", \"\", txt).split())\n",
    "#remove hashtag #\n",
    "def remove_hashtag(txt):\n",
    "    return \" \".join(re.sub(\"([#＃]+)([0-9A-Z_]*[A-Z_]+[a-z0-9_üÀ-ÖØ-öø-ÿ]*)\", \"\", txt).split())\n",
    "# remove mention @\n",
    "def remove_at(txt):\n",
    "    return \" \".join(re.sub(\"(\\@[a-zA-Z0-9_%]*)\", \"\", txt).split())"
   ]
  },
  {
   "cell_type": "code",
   "execution_count": 6,
   "metadata": {},
   "outputs": [
    {
     "name": "stdout",
     "output_type": "stream",
     "text": [
      "twitterApi works\n"
     ]
    }
   ],
   "source": [
    "# Twitter API v1 - auth keys \n",
    "auth = tweepy.OAuthHandler(consumer_key, consumer_secret)\n",
    "auth.set_access_token(access_token,access_secret)\n",
    "\n",
    "# create instance\n",
    "twitterApi = tweepy.API(auth, wait_on_rate_limit=True)\n",
    "# wait on rate limit, not to get errors on timing out\n",
    "\n",
    "# verify credential\n",
    "try:\n",
    "    # see if credential works\n",
    "    twitterApi.verify_credentials()\n",
    "    print(\"twitterApi works\")\n",
    "except:\n",
    "    print(\"Please fix me\")\n",
    "\n",
    "# Twitter API v2 - auth keys\n",
    "client = tweepy.Client(consumer_key=consumer_key,consumer_secret=consumer_secret,access_token=access_token,access_token_secret=access_secret)\n",
    "clientBearer = tweepy.Client(bearer_token=bearer_token)"
   ]
  },
  {
   "cell_type": "code",
   "execution_count": 94,
   "metadata": {},
   "outputs": [],
   "source": [
    "# set query1\n",
    "query1 = \"#globalwarming\"\n",
    "query2 = query1 + \"-filter:retweets\""
   ]
  },
  {
   "cell_type": "markdown",
   "metadata": {},
   "source": [
    "#### client"
   ]
  },
  {
   "cell_type": "code",
   "execution_count": 81,
   "metadata": {},
   "outputs": [],
   "source": [
    "# store responses of query1 in response1\n",
    "response1 = clientBearer.search_recent_tweets(query=query1, max_results=10, tweet_fields=['id','text', 'created_at','geo','source'])"
   ]
  },
  {
   "cell_type": "code",
   "execution_count": 59,
   "metadata": {},
   "outputs": [],
   "source": [
    "list1 = [[tweet.id,tweet.text,tweet.created_at,tweet.geo,tweet.source]for tweet in response1.data]\n",
    "\n",
    "df = pd.DataFrame(data=list1,columns=['userid','text','time','location','source'])"
   ]
  },
  {
   "cell_type": "code",
   "execution_count": 60,
   "metadata": {},
   "outputs": [
    {
     "data": {
      "text/html": [
       "<div>\n",
       "<style scoped>\n",
       "    .dataframe tbody tr th:only-of-type {\n",
       "        vertical-align: middle;\n",
       "    }\n",
       "\n",
       "    .dataframe tbody tr th {\n",
       "        vertical-align: top;\n",
       "    }\n",
       "\n",
       "    .dataframe thead th {\n",
       "        text-align: right;\n",
       "    }\n",
       "</style>\n",
       "<table border=\"1\" class=\"dataframe\">\n",
       "  <thead>\n",
       "    <tr style=\"text-align: right;\">\n",
       "      <th></th>\n",
       "      <th>userid</th>\n",
       "      <th>text</th>\n",
       "      <th>time</th>\n",
       "      <th>location</th>\n",
       "      <th>source</th>\n",
       "    </tr>\n",
       "  </thead>\n",
       "  <tbody>\n",
       "    <tr>\n",
       "      <th>0</th>\n",
       "      <td>1517018041426526209</td>\n",
       "      <td>have a look at the rules and don't miss #eth #...</td>\n",
       "      <td>2022-04-21 05:51:00+00:00</td>\n",
       "      <td>None</td>\n",
       "      <td>Twitter Web App</td>\n",
       "    </tr>\n",
       "    <tr>\n",
       "      <th>1</th>\n",
       "      <td>1517018010908778496</td>\n",
       "      <td>have a look at the rules and don't miss #eth #...</td>\n",
       "      <td>2022-04-21 05:50:53+00:00</td>\n",
       "      <td>None</td>\n",
       "      <td>Twitter Web App</td>\n",
       "    </tr>\n",
       "    <tr>\n",
       "      <th>2</th>\n",
       "      <td>1517017983482179584</td>\n",
       "      <td>@BruceAllMyTea_ @Twitter @elonmusk @272 $ELON ...</td>\n",
       "      <td>2022-04-21 05:50:46+00:00</td>\n",
       "      <td>None</td>\n",
       "      <td>Twitter for iPhone</td>\n",
       "    </tr>\n",
       "    <tr>\n",
       "      <th>3</th>\n",
       "      <td>1517017978365267968</td>\n",
       "      <td>RT @A_Tahmasebi2: @kucoincom @Unique__finance ...</td>\n",
       "      <td>2022-04-21 05:50:45+00:00</td>\n",
       "      <td>None</td>\n",
       "      <td>Twitter for Android</td>\n",
       "    </tr>\n",
       "    <tr>\n",
       "      <th>4</th>\n",
       "      <td>1517017973017522176</td>\n",
       "      <td>RT @TimeCar_TMC: Thank you community members f...</td>\n",
       "      <td>2022-04-21 05:50:44+00:00</td>\n",
       "      <td>None</td>\n",
       "      <td>Twitter Web App</td>\n",
       "    </tr>\n",
       "    <tr>\n",
       "      <th>5</th>\n",
       "      <td>1517017967980351488</td>\n",
       "      <td>RT @AvaxShop: $500 BIG Giveaway 📢🤩\\n\\n6 winner...</td>\n",
       "      <td>2022-04-21 05:50:43+00:00</td>\n",
       "      <td>None</td>\n",
       "      <td>Twitter for Android</td>\n",
       "    </tr>\n",
       "    <tr>\n",
       "      <th>6</th>\n",
       "      <td>1517017961940361217</td>\n",
       "      <td>@lpc38671634 @binance @elonmusk @cz_binance $D...</td>\n",
       "      <td>2022-04-21 05:50:41+00:00</td>\n",
       "      <td>None</td>\n",
       "      <td>Twitter for Android</td>\n",
       "    </tr>\n",
       "    <tr>\n",
       "      <th>7</th>\n",
       "      <td>1517017955015536640</td>\n",
       "      <td>@elonmusk Finally understanding #ElonMusk cryp...</td>\n",
       "      <td>2022-04-21 05:50:39+00:00</td>\n",
       "      <td>None</td>\n",
       "      <td>Twitter for iPhone</td>\n",
       "    </tr>\n",
       "    <tr>\n",
       "      <th>8</th>\n",
       "      <td>1517017946467434496</td>\n",
       "      <td>@Holder_patient @Santa_Floki @coinbase @kucoin...</td>\n",
       "      <td>2022-04-21 05:50:37+00:00</td>\n",
       "      <td>None</td>\n",
       "      <td>Twitter for iPhone</td>\n",
       "    </tr>\n",
       "    <tr>\n",
       "      <th>9</th>\n",
       "      <td>1517017936560500738</td>\n",
       "      <td>RT @ApeborgToken: #APEBORG 🐵🐵🐵\\n\\n🦍 #LAUNCH ON...</td>\n",
       "      <td>2022-04-21 05:50:35+00:00</td>\n",
       "      <td>None</td>\n",
       "      <td>Twitter for Android</td>\n",
       "    </tr>\n",
       "  </tbody>\n",
       "</table>\n",
       "</div>"
      ],
      "text/plain": [
       "                userid                                               text  \\\n",
       "0  1517018041426526209  have a look at the rules and don't miss #eth #...   \n",
       "1  1517018010908778496  have a look at the rules and don't miss #eth #...   \n",
       "2  1517017983482179584  @BruceAllMyTea_ @Twitter @elonmusk @272 $ELON ...   \n",
       "3  1517017978365267968  RT @A_Tahmasebi2: @kucoincom @Unique__finance ...   \n",
       "4  1517017973017522176  RT @TimeCar_TMC: Thank you community members f...   \n",
       "5  1517017967980351488  RT @AvaxShop: $500 BIG Giveaway 📢🤩\\n\\n6 winner...   \n",
       "6  1517017961940361217  @lpc38671634 @binance @elonmusk @cz_binance $D...   \n",
       "7  1517017955015536640  @elonmusk Finally understanding #ElonMusk cryp...   \n",
       "8  1517017946467434496  @Holder_patient @Santa_Floki @coinbase @kucoin...   \n",
       "9  1517017936560500738  RT @ApeborgToken: #APEBORG 🐵🐵🐵\\n\\n🦍 #LAUNCH ON...   \n",
       "\n",
       "                       time location               source  \n",
       "0 2022-04-21 05:51:00+00:00     None      Twitter Web App  \n",
       "1 2022-04-21 05:50:53+00:00     None      Twitter Web App  \n",
       "2 2022-04-21 05:50:46+00:00     None   Twitter for iPhone  \n",
       "3 2022-04-21 05:50:45+00:00     None  Twitter for Android  \n",
       "4 2022-04-21 05:50:44+00:00     None      Twitter Web App  \n",
       "5 2022-04-21 05:50:43+00:00     None  Twitter for Android  \n",
       "6 2022-04-21 05:50:41+00:00     None  Twitter for Android  \n",
       "7 2022-04-21 05:50:39+00:00     None   Twitter for iPhone  \n",
       "8 2022-04-21 05:50:37+00:00     None   Twitter for iPhone  \n",
       "9 2022-04-21 05:50:35+00:00     None  Twitter for Android  "
      ]
     },
     "execution_count": 60,
     "metadata": {},
     "output_type": "execute_result"
    }
   ],
   "source": [
    "df"
   ]
  },
  {
   "cell_type": "markdown",
   "metadata": {},
   "source": [
    "#### cursor"
   ]
  },
  {
   "cell_type": "code",
   "execution_count": 108,
   "metadata": {},
   "outputs": [],
   "source": [
    "# store search in tweets\n",
    "queryResponse1 = tweepy.Cursor(twitterApi.search_tweets,q=query2,lang=\"en\").items(30)\n",
    "# items = 5, retrieve 5 tweets\n",
    "\n",
    "list1 = [[tweet.user.screen_name,tweet.text,tweet.created_at,tweet.user.location,tweet.source]for tweet in queryResponse1]\n",
    "df = pd.DataFrame(data=list1,columns=['user','text','time','location','source'])\n"
   ]
  },
  {
   "cell_type": "code",
   "execution_count": 109,
   "metadata": {},
   "outputs": [],
   "source": [
    "df = pd.DataFrame(data=list1,columns=['user','text','time','location','source'])"
   ]
  },
  {
   "cell_type": "code",
   "execution_count": 110,
   "metadata": {},
   "outputs": [],
   "source": [
    "df1 = df.text.apply(remove_hashtag)\n",
    "df1 = df1.apply(remove_at)\n",
    "df1 = df1.apply(remove_url)\n"
   ]
  },
  {
   "cell_type": "code",
   "execution_count": 111,
   "metadata": {},
   "outputs": [
    {
     "data": {
      "text/plain": [
       "0     Imagine a World where the war against the Eart...\n",
       "1     bank appears to be aided in pushing its mining...\n",
       "2     Youre just pushing the ideology your party has...\n",
       "3     Will coffee disappear from Earth due to Warmin...\n",
       "4     Warming medicinalpurposes Plants In Region Are...\n",
       "5     methane spreads arround the world and other gr...\n",
       "6     Warming boosts the warming spiral Permafrost c...\n",
       "7     Change fight was never a priority and It will ...\n",
       "8     Warming doesnt stop The fear to lose the prese...\n",
       "9     If everytime we visit our Rural homes or Farms...\n",
       "10    globalwarming boosts the greenhouse gases rele...\n",
       "11    Thousands of eminent people and prime environm...\n",
       "12    How much Rainwater do we get in India Shakti4J...\n",
       "13    The main stopper of human spread isnt climatec...\n",
       "14                          But globalwarming isnt real\n",
       "15    methane spreads arround the world and other gr...\n",
       "16    African wildlife coasts suffer effects of floo...\n",
       "17    High levels of air pollution in Peshawar reduc...\n",
       "18    Naming a city on another planet is the least o...\n",
       "19    globalwarming turbulent thursdaybut quack quac...\n",
       "20    Ten Simple Things You Can Do to Help Protect t...\n",
       "21             ForFuture Change Strike Rebellion Action\n",
       "22    Researchers said their findings suggest both b...\n",
       "23    According to a new study only 29 of the top 50...\n",
       "24    AQI 60 Advisory Moderate Air quality is accept...\n",
       "25    Is there anybody left in Australia who can fak...\n",
       "26    What happens when the natural world is monetis...\n",
       "27    My son Aarav has breathing problems even thoug...\n",
       "28    And heres what we do We plant a tree for every...\n",
       "29    Why is everyone seems doesnt care about this F...\n",
       "Name: text, dtype: object"
      ]
     },
     "execution_count": 111,
     "metadata": {},
     "output_type": "execute_result"
    }
   ],
   "source": [
    "df1.head(30)"
   ]
  },
  {
   "cell_type": "code",
   "execution_count": null,
   "metadata": {},
   "outputs": [],
   "source": []
  }
 ],
 "metadata": {
  "interpreter": {
   "hash": "0fce278cc62e450349c9f30ef0edcfd9302f52e883f37cbf68cb36747bb67127"
  },
  "kernelspec": {
   "display_name": "Python 3.9.6 64-bit ('env_desktop': venv)",
   "language": "python",
   "name": "python3"
  },
  "language_info": {
   "codemirror_mode": {
    "name": "ipython",
    "version": 3
   },
   "file_extension": ".py",
   "mimetype": "text/x-python",
   "name": "python",
   "nbconvert_exporter": "python",
   "pygments_lexer": "ipython3",
   "version": "3.9.6"
  },
  "orig_nbformat": 4
 },
 "nbformat": 4,
 "nbformat_minor": 2
}
