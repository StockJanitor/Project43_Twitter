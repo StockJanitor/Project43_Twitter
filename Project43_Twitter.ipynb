{
 "cells": [
  {
   "cell_type": "markdown",
   "metadata": {},
   "source": [
    "#### Twitter Mining Project\n",
    "Course: CISD 43 <br>\n",
    "Professor: Sohair Zaki <br>\n",
    "Student: Jack Chen <br>\n",
    "<br>\n",
    "Purpose:\n",
    "Exercise twitter api, clean text data, visualize data, implement machine learning model (Deep Learning - using keras, LSTM, RNN), conclusion\n",
    "<br>\n",
    "Tasks:\n",
    "\n",
    "<br>\n",
    "Conclusion:"
   ]
  },
  {
   "cell_type": "code",
   "execution_count": 2,
   "metadata": {},
   "outputs": [],
   "source": [
    "# Importing Libraries\n",
    "# import webbrowser\n",
    "# import time\n",
    "import tweepy\n",
    "from tweepy import Stream\n",
    "from tweepy.auth import OAuthHandler\n",
    "import os\n",
    "import pandas as pd\n",
    "import re\n",
    "# load keys into keys\n",
    "#[apiKey,apiKeySecret,bearerTokem,accessToken,accessTokenSecret]\n",
    "# Consumer Keys: apiKey, apiKeySecret\n",
    "# Access Keys: accessToken, accessTokenSecret\n",
    "path =  r'C:\\Users\\Gumo\\Desktop\\Git\\selfBooks\\tweepy.txt'\n",
    "keys = []\n",
    "with open(path, mode='r') as w:\n",
    "    for line in w:\n",
    "        keys.append(line.split(': ')[1].strip())\n",
    "access_token = keys[3]\n",
    "access_secret = keys[4]\n",
    "consumer_key = keys[0]\n",
    "consumer_secret = keys[1]\n",
    "bearer_token = keys[2]\n",
    "\n",
    "###### my id/name #####\n",
    "myUserId = 1309643764172947456\n",
    "myUsername = 'stockjanitor'\n"
   ]
  },
  {
   "cell_type": "code",
   "execution_count": null,
   "metadata": {},
   "outputs": [],
   "source": [
    "###### FUNCTIONS ######\n",
    "def tweetPost(text):\n",
    "    try:\n",
    "        twitterApi.update_status(text)\n",
    "        print(\"bling bling~~\")\n",
    "    except:\n",
    "        print(\"boom boom\")\n",
    "def tweetMedia(text, img):\n",
    "    try:\n",
    "        media = twitterApi.media_upload(img)\n",
    "        twitterApi.update_status(text,media_ids=[media.media_id_string])\n",
    "        print(\"bling bling~~\")\n",
    "    except:\n",
    "        print(\"boom boom\")\n",
    "def tweetFriend(name):\n",
    "    try:\n",
    "        twitterApi.create_friendship(screen_name=name)\n",
    "        print(\"bling bling~~\")\n",
    "    except:\n",
    "        print(\"boom boom\")\n",
    "def tweetUnfriend(name):\n",
    "    try:\n",
    "        twitterApi.destroy_friendship(screen_name=name)\n",
    "        print(\"bling bling~~\")\n",
    "    except:\n",
    "        print(\"boom boom\")\n",
    "\n",
    "# Regex Remove functions\n",
    "# remove url\n",
    "def remove_url(txt):\n",
    "    return \" \".join(re.sub(\"([^0-9A-Za-z \\t])|(\\w+:\\/\\/\\S+)\", \"\", txt).split())\n",
    "#remove hashtag #\n",
    "def remove_hashtag(txt):\n",
    "    return \" \".join(re.sub(\"([#＃]+)([0-9A-Z_]*[A-Z_]+[a-z0-9_üÀ-ÖØ-öø-ÿ]*)\", \"\", txt).split())\n",
    "# remove mention @\n",
    "def remove_at(txt):\n",
    "    return \" \".join(re.sub(\"(\\@[a-zA-Z0-9_%]*)\", \"\", txt).split())"
   ]
  },
  {
   "cell_type": "code",
   "execution_count": 3,
   "metadata": {},
   "outputs": [
    {
     "name": "stdout",
     "output_type": "stream",
     "text": [
      "twitterApi works\n"
     ]
    }
   ],
   "source": [
    "# Twitter API v1 - auth keys (Cursor)\n",
    "auth = tweepy.OAuthHandler(consumer_key, consumer_secret)\n",
    "auth.set_access_token(access_token,access_secret)\n",
    "\n",
    "# create instance\n",
    "twitterApi = tweepy.API(auth, wait_on_rate_limit=True)\n",
    "# wait on rate limit, not to get errors on timing out\n",
    "\n",
    "# verify credential\n",
    "try:\n",
    "    # see if credential works\n",
    "    twitterApi.verify_credentials()\n",
    "    print(\"twitterApi works\")\n",
    "except:\n",
    "    print(\"Please fix me\")\n",
    "\n",
    "# Twitter API v2 - auth keys (Client)\n",
    "client = tweepy.Client(consumer_key=consumer_key,consumer_secret=consumer_secret,access_token=access_token,access_token_secret=access_secret)\n",
    "clientBearer = tweepy.Client(bearer_token=bearer_token)"
   ]
  },
  {
   "cell_type": "code",
   "execution_count": 4,
   "metadata": {},
   "outputs": [],
   "source": [
    "# set query1\n",
    "query1 = \"#globalwarming\"\n",
    "query2 = query1 + \"-filter:retweets\""
   ]
  },
  {
   "cell_type": "markdown",
   "metadata": {},
   "source": [
    "#### client"
   ]
  },
  {
   "cell_type": "code",
   "execution_count": 81,
   "metadata": {},
   "outputs": [],
   "source": [
    "# store responses of query1 in response1\n",
    "response1 = clientBearer.search_recent_tweets(query=query1, max_results=10, tweet_fields=['id','text', 'created_at','geo','source'])"
   ]
  },
  {
   "cell_type": "code",
   "execution_count": 59,
   "metadata": {},
   "outputs": [],
   "source": [
    "list1 = [[tweet.id,tweet.text,tweet.created_at,tweet.geo,tweet.source]for tweet in response1.data]\n",
    "\n",
    "df = pd.DataFrame(data=list1,columns=['userid','text','time','location','source'])"
   ]
  },
  {
   "cell_type": "code",
   "execution_count": 60,
   "metadata": {},
   "outputs": [
    {
     "data": {
      "text/html": [
       "<div>\n",
       "<style scoped>\n",
       "    .dataframe tbody tr th:only-of-type {\n",
       "        vertical-align: middle;\n",
       "    }\n",
       "\n",
       "    .dataframe tbody tr th {\n",
       "        vertical-align: top;\n",
       "    }\n",
       "\n",
       "    .dataframe thead th {\n",
       "        text-align: right;\n",
       "    }\n",
       "</style>\n",
       "<table border=\"1\" class=\"dataframe\">\n",
       "  <thead>\n",
       "    <tr style=\"text-align: right;\">\n",
       "      <th></th>\n",
       "      <th>userid</th>\n",
       "      <th>text</th>\n",
       "      <th>time</th>\n",
       "      <th>location</th>\n",
       "      <th>source</th>\n",
       "    </tr>\n",
       "  </thead>\n",
       "  <tbody>\n",
       "    <tr>\n",
       "      <th>0</th>\n",
       "      <td>1517018041426526209</td>\n",
       "      <td>have a look at the rules and don't miss #eth #...</td>\n",
       "      <td>2022-04-21 05:51:00+00:00</td>\n",
       "      <td>None</td>\n",
       "      <td>Twitter Web App</td>\n",
       "    </tr>\n",
       "    <tr>\n",
       "      <th>1</th>\n",
       "      <td>1517018010908778496</td>\n",
       "      <td>have a look at the rules and don't miss #eth #...</td>\n",
       "      <td>2022-04-21 05:50:53+00:00</td>\n",
       "      <td>None</td>\n",
       "      <td>Twitter Web App</td>\n",
       "    </tr>\n",
       "    <tr>\n",
       "      <th>2</th>\n",
       "      <td>1517017983482179584</td>\n",
       "      <td>@BruceAllMyTea_ @Twitter @elonmusk @272 $ELON ...</td>\n",
       "      <td>2022-04-21 05:50:46+00:00</td>\n",
       "      <td>None</td>\n",
       "      <td>Twitter for iPhone</td>\n",
       "    </tr>\n",
       "    <tr>\n",
       "      <th>3</th>\n",
       "      <td>1517017978365267968</td>\n",
       "      <td>RT @A_Tahmasebi2: @kucoincom @Unique__finance ...</td>\n",
       "      <td>2022-04-21 05:50:45+00:00</td>\n",
       "      <td>None</td>\n",
       "      <td>Twitter for Android</td>\n",
       "    </tr>\n",
       "    <tr>\n",
       "      <th>4</th>\n",
       "      <td>1517017973017522176</td>\n",
       "      <td>RT @TimeCar_TMC: Thank you community members f...</td>\n",
       "      <td>2022-04-21 05:50:44+00:00</td>\n",
       "      <td>None</td>\n",
       "      <td>Twitter Web App</td>\n",
       "    </tr>\n",
       "    <tr>\n",
       "      <th>5</th>\n",
       "      <td>1517017967980351488</td>\n",
       "      <td>RT @AvaxShop: $500 BIG Giveaway 📢🤩\\n\\n6 winner...</td>\n",
       "      <td>2022-04-21 05:50:43+00:00</td>\n",
       "      <td>None</td>\n",
       "      <td>Twitter for Android</td>\n",
       "    </tr>\n",
       "    <tr>\n",
       "      <th>6</th>\n",
       "      <td>1517017961940361217</td>\n",
       "      <td>@lpc38671634 @binance @elonmusk @cz_binance $D...</td>\n",
       "      <td>2022-04-21 05:50:41+00:00</td>\n",
       "      <td>None</td>\n",
       "      <td>Twitter for Android</td>\n",
       "    </tr>\n",
       "    <tr>\n",
       "      <th>7</th>\n",
       "      <td>1517017955015536640</td>\n",
       "      <td>@elonmusk Finally understanding #ElonMusk cryp...</td>\n",
       "      <td>2022-04-21 05:50:39+00:00</td>\n",
       "      <td>None</td>\n",
       "      <td>Twitter for iPhone</td>\n",
       "    </tr>\n",
       "    <tr>\n",
       "      <th>8</th>\n",
       "      <td>1517017946467434496</td>\n",
       "      <td>@Holder_patient @Santa_Floki @coinbase @kucoin...</td>\n",
       "      <td>2022-04-21 05:50:37+00:00</td>\n",
       "      <td>None</td>\n",
       "      <td>Twitter for iPhone</td>\n",
       "    </tr>\n",
       "    <tr>\n",
       "      <th>9</th>\n",
       "      <td>1517017936560500738</td>\n",
       "      <td>RT @ApeborgToken: #APEBORG 🐵🐵🐵\\n\\n🦍 #LAUNCH ON...</td>\n",
       "      <td>2022-04-21 05:50:35+00:00</td>\n",
       "      <td>None</td>\n",
       "      <td>Twitter for Android</td>\n",
       "    </tr>\n",
       "  </tbody>\n",
       "</table>\n",
       "</div>"
      ],
      "text/plain": [
       "                userid                                               text  \\\n",
       "0  1517018041426526209  have a look at the rules and don't miss #eth #...   \n",
       "1  1517018010908778496  have a look at the rules and don't miss #eth #...   \n",
       "2  1517017983482179584  @BruceAllMyTea_ @Twitter @elonmusk @272 $ELON ...   \n",
       "3  1517017978365267968  RT @A_Tahmasebi2: @kucoincom @Unique__finance ...   \n",
       "4  1517017973017522176  RT @TimeCar_TMC: Thank you community members f...   \n",
       "5  1517017967980351488  RT @AvaxShop: $500 BIG Giveaway 📢🤩\\n\\n6 winner...   \n",
       "6  1517017961940361217  @lpc38671634 @binance @elonmusk @cz_binance $D...   \n",
       "7  1517017955015536640  @elonmusk Finally understanding #ElonMusk cryp...   \n",
       "8  1517017946467434496  @Holder_patient @Santa_Floki @coinbase @kucoin...   \n",
       "9  1517017936560500738  RT @ApeborgToken: #APEBORG 🐵🐵🐵\\n\\n🦍 #LAUNCH ON...   \n",
       "\n",
       "                       time location               source  \n",
       "0 2022-04-21 05:51:00+00:00     None      Twitter Web App  \n",
       "1 2022-04-21 05:50:53+00:00     None      Twitter Web App  \n",
       "2 2022-04-21 05:50:46+00:00     None   Twitter for iPhone  \n",
       "3 2022-04-21 05:50:45+00:00     None  Twitter for Android  \n",
       "4 2022-04-21 05:50:44+00:00     None      Twitter Web App  \n",
       "5 2022-04-21 05:50:43+00:00     None  Twitter for Android  \n",
       "6 2022-04-21 05:50:41+00:00     None  Twitter for Android  \n",
       "7 2022-04-21 05:50:39+00:00     None   Twitter for iPhone  \n",
       "8 2022-04-21 05:50:37+00:00     None   Twitter for iPhone  \n",
       "9 2022-04-21 05:50:35+00:00     None  Twitter for Android  "
      ]
     },
     "execution_count": 60,
     "metadata": {},
     "output_type": "execute_result"
    }
   ],
   "source": [
    "df"
   ]
  },
  {
   "cell_type": "markdown",
   "metadata": {},
   "source": [
    "#### cursor"
   ]
  },
  {
   "cell_type": "code",
   "execution_count": 5,
   "metadata": {},
   "outputs": [],
   "source": [
    "# store search in tweets\n",
    "queryResponse1 = tweepy.Cursor(twitterApi.search_tweets,q=query2,lang=\"en\").items(30)\n",
    "# items = 5, retrieve 5 tweets\n",
    "\n",
    "# save tweets to list1\n",
    "list1 = [[tweet.user.screen_name,tweet.text,tweet.created_at,tweet.user.location,tweet.source]for tweet in queryResponse1]\n",
    "\n",
    "# convert tweet list into dataframe\n",
    "df = pd.DataFrame(data=list1,columns=['user','text','time','location','source'])\n"
   ]
  },
  {
   "cell_type": "code",
   "execution_count": 8,
   "metadata": {},
   "outputs": [
    {
     "data": {
      "text/plain": [
       "0    AQI 39 Advisory Good day for outdoor activitie...\n",
       "1    Meet Neslihan who studies how microbes in the ...\n",
       "2    dont have roadside bins Thats what we are tryi...\n",
       "3    Why dont have roadside bins Thats what we are ...\n",
       "4    The Warming the EMERGENCY were in has already ...\n",
       "Name: text, dtype: object"
      ]
     },
     "execution_count": 8,
     "metadata": {},
     "output_type": "execute_result"
    }
   ],
   "source": [
    "df1 = df.text.apply(remove_hashtag)\n",
    "df1 = df1.apply(remove_at)\n",
    "df1 = df1.apply(remove_url)\n",
    "df1.head()"
   ]
  },
  {
   "cell_type": "code",
   "execution_count": null,
   "metadata": {},
   "outputs": [],
   "source": []
  }
 ],
 "metadata": {
  "interpreter": {
   "hash": "0fce278cc62e450349c9f30ef0edcfd9302f52e883f37cbf68cb36747bb67127"
  },
  "kernelspec": {
   "display_name": "Python 3.9.6 64-bit ('env_desktop': venv)",
   "language": "python",
   "name": "python3"
  },
  "language_info": {
   "codemirror_mode": {
    "name": "ipython",
    "version": 3
   },
   "file_extension": ".py",
   "mimetype": "text/x-python",
   "name": "python",
   "nbconvert_exporter": "python",
   "pygments_lexer": "ipython3",
   "version": "3.10.2"
  },
  "orig_nbformat": 4
 },
 "nbformat": 4,
 "nbformat_minor": 2
}
