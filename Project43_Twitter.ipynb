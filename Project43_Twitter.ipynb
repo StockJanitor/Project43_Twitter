{
 "cells": [
  {
   "cell_type": "markdown",
   "metadata": {},
   "source": [
    "#### Twitter Mining Project\n",
    "Course: CISD 43 <br>\n",
    "Professor: Sohair Zaki <br>\n",
    "Student: Jack Chen <br>\n",
    "<br>\n",
    "Purpose:\n",
    "Exercise twitter api, clean text data, visualize data, implement machine learning model (Deep Learning - using keras, LSTM, RNN), conclusion\n",
    "<br>\n",
    "Tasks:\n",
    "\n",
    "<br>\n",
    "Conclusion:"
   ]
  },
  {
   "cell_type": "code",
   "execution_count": 93,
   "metadata": {},
   "outputs": [],
   "source": [
    "# Importing Libraries\n",
    "# import webbrowser\n",
    "# import time\n",
    "import tweepy\n",
    "from tweepy import Stream\n",
    "from tweepy.auth import OAuthHandler\n",
    "import os\n",
    "import pandas as pd\n",
    "import re\n",
    "\n",
    "# load keys into keys\n",
    "#[apiKey,apiKeySecret,bearerTokem,accessToken,accessTokenSecret]\n",
    "# Consumer Keys: apiKey, apiKeySecret\n",
    "# Access Keys: accessToken, accessTokenSecret\n",
    "path =  r'C:\\Users\\Gumo\\Desktop\\Git\\selfBooks\\tweepy.txt'\n",
    "keys = []\n",
    "with open(path, mode='r') as w:\n",
    "    for line in w:\n",
    "        keys.append(line.split(': ')[1].strip())\n",
    "access_token = keys[3]\n",
    "access_secret = keys[4]\n",
    "consumer_key = keys[0]\n",
    "consumer_secret = keys[1]\n",
    "bearer_token = keys[2]\n",
    "\n",
    "###### my id/name #####\n",
    "myUserId = 1309643764172947456\n",
    "myUsername = 'stockjanitor'\n"
   ]
  },
  {
   "cell_type": "code",
   "execution_count": 73,
   "metadata": {},
   "outputs": [],
   "source": [
    "###### FUNCTIONS ######\n",
    "def tweetPost(text):\n",
    "    try:\n",
    "        twitterApi.update_status(text)\n",
    "        print(\"bling bling~~\")\n",
    "    except:\n",
    "        print(\"boom boom\")\n",
    "def tweetMedia(text, img):\n",
    "    try:\n",
    "        media = twitterApi.media_upload(img)\n",
    "        twitterApi.update_status(text,media_ids=[media.media_id_string])\n",
    "        print(\"bling bling~~\")\n",
    "    except:\n",
    "        print(\"boom boom\")\n",
    "def tweetFriend(name):\n",
    "    try:\n",
    "        twitterApi.create_friendship(screen_name=name)\n",
    "        print(\"bling bling~~\")\n",
    "    except:\n",
    "        print(\"boom boom\")\n",
    "def tweetUnfriend(name):\n",
    "    try:\n",
    "        twitterApi.destroy_friendship(screen_name=name)\n",
    "        print(\"bling bling~~\")\n",
    "    except:\n",
    "        print(\"boom boom\")\n",
    "\n",
    "# Regex Remove functions\n",
    "# remove url\n",
    "def remove_url(txt):\n",
    "    return \" \".join(re.sub(\"([^0-9A-Za-z \\t])|(\\w+:\\/\\/\\S+)\", \"\", txt).split())\n",
    "#remove hashtag #\n",
    "def remove_hashtag(txt):\n",
    "    return \" \".join(re.sub(\"([#＃]+)([0-9A-Z_]*[A-Z_]+[a-z0-9_üÀ-ÖØ-öø-ÿ]*)\", \"\", txt).split())\n",
    "# remove mention @\n",
    "def remove_at(txt):\n",
    "    return \" \".join(re.sub(\"(\\@[a-zA-Z0-9_%]*)\", \"\", txt).split())"
   ]
  },
  {
   "cell_type": "code",
   "execution_count": 94,
   "metadata": {},
   "outputs": [
    {
     "name": "stdout",
     "output_type": "stream",
     "text": [
      "twitterApi works\n",
      "Please fix me\n"
     ]
    }
   ],
   "source": [
    "# Twitter API v1 - auth keys (Cursor)\n",
    "auth = tweepy.OAuthHandler(consumer_key, consumer_secret)\n",
    "auth.set_access_token(access_token,access_secret)\n",
    "\n",
    "# create instance\n",
    "twitterApi = tweepy.API(auth, wait_on_rate_limit=True)\n",
    "# wait on rate limit, not to get errors on timing out\n",
    "\n",
    "# verify credential\n",
    "try:\n",
    "    # see if credential works\n",
    "    twitterApi.verify_credentials()\n",
    "    print(\"twitterApi works\")\n",
    "except:\n",
    "    print(\"Please fix me\")\n",
    "\n",
    "# Twitter API v2 - auth keys (Client)\n",
    "client = tweepy.Client(consumer_key=consumer_key,consumer_secret=consumer_secret,access_token=access_token,access_token_secret=access_secret)\n",
    "clientBearer = tweepy.Client(bearer_token=bearer_token, consumer_key=consumer_key,consumer_secret=consumer_secret,access_token=access_token,access_token_secret=access_secret)\n",
    "\n",
    "# verify credential\n",
    "try:\n",
    "    # see if credential works\n",
    "    clientBearer.verify_credentials()\n",
    "    print(\"twitterApi works\")\n",
    "except:\n",
    "    print(\"Please fix me\")"
   ]
  },
  {
   "cell_type": "code",
   "execution_count": 131,
   "metadata": {},
   "outputs": [],
   "source": [
    "# set query1\n",
    "query1 = \"#globalwarming\"\n",
    "query2 = query1 + \" -is:retweet\""
   ]
  },
  {
   "cell_type": "markdown",
   "metadata": {},
   "source": [
    "#### client"
   ]
  },
  {
   "cell_type": "code",
   "execution_count": 96,
   "metadata": {},
   "outputs": [
    {
     "ename": "Forbidden",
     "evalue": "403 Forbidden",
     "output_type": "error",
     "traceback": [
      "\u001b[1;31m---------------------------------------------------------------------------\u001b[0m",
      "\u001b[1;31mForbidden\u001b[0m                                 Traceback (most recent call last)",
      "\u001b[1;32mc:\\Users\\Gumo\\Desktop\\Git\\Class\\Project43_Twitter\\Project43_Twitter.ipynb Cell 7'\u001b[0m in \u001b[0;36m<module>\u001b[1;34m\u001b[0m\n\u001b[0;32m      <a href='vscode-notebook-cell:/c%3A/Users/Gumo/Desktop/Git/Class/Project43_Twitter/Project43_Twitter.ipynb#ch0000005?line=0'>1</a>\u001b[0m \u001b[39m# store responses of query1 in response1\u001b[39;00m\n\u001b[1;32m----> <a href='vscode-notebook-cell:/c%3A/Users/Gumo/Desktop/Git/Class/Project43_Twitter/Project43_Twitter.ipynb#ch0000005?line=1'>2</a>\u001b[0m response1 \u001b[39m=\u001b[39m clientBearer\u001b[39m.\u001b[39;49msearch_all_tweets(query\u001b[39m=\u001b[39;49mquery1, max_results\u001b[39m=\u001b[39;49m\u001b[39m10\u001b[39;49m, start_time\u001b[39m=\u001b[39;49m \u001b[39m\"\u001b[39;49m\u001b[39m2022-03-28T12:12:01Z\u001b[39;49m\u001b[39m\"\u001b[39;49m, end_time\u001b[39m=\u001b[39;49m\u001b[39m'\u001b[39;49m\u001b[39m2022-03-27T13:12:01Z\u001b[39;49m\u001b[39m'\u001b[39;49m,tweet_fields\u001b[39m=\u001b[39;49m[\u001b[39m'\u001b[39;49m\u001b[39mid\u001b[39;49m\u001b[39m'\u001b[39;49m,\u001b[39m'\u001b[39;49m\u001b[39mtext\u001b[39;49m\u001b[39m'\u001b[39;49m, \u001b[39m'\u001b[39;49m\u001b[39mcreated_at\u001b[39;49m\u001b[39m'\u001b[39;49m,\u001b[39m'\u001b[39;49m\u001b[39mgeo\u001b[39;49m\u001b[39m'\u001b[39;49m,\u001b[39m'\u001b[39;49m\u001b[39msource\u001b[39;49m\u001b[39m'\u001b[39;49m, \u001b[39m'\u001b[39;49m\u001b[39mpublic_metrics\u001b[39;49m\u001b[39m'\u001b[39;49m])\n",
      "File \u001b[1;32m~\\Desktop\\Git\\desktop_env\\lib\\site-packages\\tweepy\\client.py:1145\u001b[0m, in \u001b[0;36mClient.search_all_tweets\u001b[1;34m(self, query, **params)\u001b[0m\n\u001b[0;32m   <a href='file:///c%3A/Users/Gumo/Desktop/Git/desktop_env/lib/site-packages/tweepy/client.py?line=1052'>1053</a>\u001b[0m \u001b[39m\"\"\"search_all_tweets( \\\u001b[39;00m\n\u001b[0;32m   <a href='file:///c%3A/Users/Gumo/Desktop/Git/desktop_env/lib/site-packages/tweepy/client.py?line=1053'>1054</a>\u001b[0m \u001b[39m    query, *, end_time=None, expansions=None, max_results=None, \\\u001b[39;00m\n\u001b[0;32m   <a href='file:///c%3A/Users/Gumo/Desktop/Git/desktop_env/lib/site-packages/tweepy/client.py?line=1054'>1055</a>\u001b[0m \u001b[39m    media_fields=None, next_token=None, place_fields=None, \\\u001b[39;00m\n\u001b[1;32m   (...)\u001b[0m\n\u001b[0;32m   <a href='file:///c%3A/Users/Gumo/Desktop/Git/desktop_env/lib/site-packages/tweepy/client.py?line=1141'>1142</a>\u001b[0m \u001b[39m.. _pagination: https://developer.twitter.com/en/docs/twitter-api/tweets/search/integrate/paginate\u001b[39;00m\n\u001b[0;32m   <a href='file:///c%3A/Users/Gumo/Desktop/Git/desktop_env/lib/site-packages/tweepy/client.py?line=1142'>1143</a>\u001b[0m \u001b[39m\"\"\"\u001b[39;00m\n\u001b[0;32m   <a href='file:///c%3A/Users/Gumo/Desktop/Git/desktop_env/lib/site-packages/tweepy/client.py?line=1143'>1144</a>\u001b[0m params[\u001b[39m\"\u001b[39m\u001b[39mquery\u001b[39m\u001b[39m\"\u001b[39m] \u001b[39m=\u001b[39m query\n\u001b[1;32m-> <a href='file:///c%3A/Users/Gumo/Desktop/Git/desktop_env/lib/site-packages/tweepy/client.py?line=1144'>1145</a>\u001b[0m \u001b[39mreturn\u001b[39;00m \u001b[39mself\u001b[39;49m\u001b[39m.\u001b[39;49m_make_request(\n\u001b[0;32m   <a href='file:///c%3A/Users/Gumo/Desktop/Git/desktop_env/lib/site-packages/tweepy/client.py?line=1145'>1146</a>\u001b[0m     \u001b[39m\"\u001b[39;49m\u001b[39mGET\u001b[39;49m\u001b[39m\"\u001b[39;49m, \u001b[39m\"\u001b[39;49m\u001b[39m/2/tweets/search/all\u001b[39;49m\u001b[39m\"\u001b[39;49m, params\u001b[39m=\u001b[39;49mparams,\n\u001b[0;32m   <a href='file:///c%3A/Users/Gumo/Desktop/Git/desktop_env/lib/site-packages/tweepy/client.py?line=1146'>1147</a>\u001b[0m     endpoint_parameters\u001b[39m=\u001b[39;49m(\n\u001b[0;32m   <a href='file:///c%3A/Users/Gumo/Desktop/Git/desktop_env/lib/site-packages/tweepy/client.py?line=1147'>1148</a>\u001b[0m         \u001b[39m\"\u001b[39;49m\u001b[39mend_time\u001b[39;49m\u001b[39m\"\u001b[39;49m, \u001b[39m\"\u001b[39;49m\u001b[39mexpansions\u001b[39;49m\u001b[39m\"\u001b[39;49m, \u001b[39m\"\u001b[39;49m\u001b[39mmax_results\u001b[39;49m\u001b[39m\"\u001b[39;49m, \u001b[39m\"\u001b[39;49m\u001b[39mmedia.fields\u001b[39;49m\u001b[39m\"\u001b[39;49m,\n\u001b[0;32m   <a href='file:///c%3A/Users/Gumo/Desktop/Git/desktop_env/lib/site-packages/tweepy/client.py?line=1148'>1149</a>\u001b[0m         \u001b[39m\"\u001b[39;49m\u001b[39mnext_token\u001b[39;49m\u001b[39m\"\u001b[39;49m, \u001b[39m\"\u001b[39;49m\u001b[39mplace.fields\u001b[39;49m\u001b[39m\"\u001b[39;49m, \u001b[39m\"\u001b[39;49m\u001b[39mpoll.fields\u001b[39;49m\u001b[39m\"\u001b[39;49m, \u001b[39m\"\u001b[39;49m\u001b[39mquery\u001b[39;49m\u001b[39m\"\u001b[39;49m,\n\u001b[0;32m   <a href='file:///c%3A/Users/Gumo/Desktop/Git/desktop_env/lib/site-packages/tweepy/client.py?line=1149'>1150</a>\u001b[0m         \u001b[39m\"\u001b[39;49m\u001b[39msince_id\u001b[39;49m\u001b[39m\"\u001b[39;49m, \u001b[39m\"\u001b[39;49m\u001b[39msort_order\u001b[39;49m\u001b[39m\"\u001b[39;49m, \u001b[39m\"\u001b[39;49m\u001b[39mstart_time\u001b[39;49m\u001b[39m\"\u001b[39;49m, \u001b[39m\"\u001b[39;49m\u001b[39mtweet.fields\u001b[39;49m\u001b[39m\"\u001b[39;49m,\n\u001b[0;32m   <a href='file:///c%3A/Users/Gumo/Desktop/Git/desktop_env/lib/site-packages/tweepy/client.py?line=1150'>1151</a>\u001b[0m         \u001b[39m\"\u001b[39;49m\u001b[39muntil_id\u001b[39;49m\u001b[39m\"\u001b[39;49m, \u001b[39m\"\u001b[39;49m\u001b[39muser.fields\u001b[39;49m\u001b[39m\"\u001b[39;49m\n\u001b[0;32m   <a href='file:///c%3A/Users/Gumo/Desktop/Git/desktop_env/lib/site-packages/tweepy/client.py?line=1151'>1152</a>\u001b[0m     ), data_type\u001b[39m=\u001b[39;49mTweet\n\u001b[0;32m   <a href='file:///c%3A/Users/Gumo/Desktop/Git/desktop_env/lib/site-packages/tweepy/client.py?line=1152'>1153</a>\u001b[0m )\n",
      "File \u001b[1;32m~\\Desktop\\Git\\desktop_env\\lib\\site-packages\\tweepy\\client.py:126\u001b[0m, in \u001b[0;36mBaseClient._make_request\u001b[1;34m(self, method, route, params, endpoint_parameters, json, data_type, user_auth)\u001b[0m\n\u001b[0;32m    <a href='file:///c%3A/Users/Gumo/Desktop/Git/desktop_env/lib/site-packages/tweepy/client.py?line=121'>122</a>\u001b[0m \u001b[39mdef\u001b[39;00m \u001b[39m_make_request\u001b[39m(\u001b[39mself\u001b[39m, method, route, params\u001b[39m=\u001b[39m{}, endpoint_parameters\u001b[39m=\u001b[39m\u001b[39mNone\u001b[39;00m,\n\u001b[0;32m    <a href='file:///c%3A/Users/Gumo/Desktop/Git/desktop_env/lib/site-packages/tweepy/client.py?line=122'>123</a>\u001b[0m                   json\u001b[39m=\u001b[39m\u001b[39mNone\u001b[39;00m, data_type\u001b[39m=\u001b[39m\u001b[39mNone\u001b[39;00m, user_auth\u001b[39m=\u001b[39m\u001b[39mFalse\u001b[39;00m):\n\u001b[0;32m    <a href='file:///c%3A/Users/Gumo/Desktop/Git/desktop_env/lib/site-packages/tweepy/client.py?line=123'>124</a>\u001b[0m     request_params \u001b[39m=\u001b[39m \u001b[39mself\u001b[39m\u001b[39m.\u001b[39m_process_params(params, endpoint_parameters)\n\u001b[1;32m--> <a href='file:///c%3A/Users/Gumo/Desktop/Git/desktop_env/lib/site-packages/tweepy/client.py?line=125'>126</a>\u001b[0m     response \u001b[39m=\u001b[39m \u001b[39mself\u001b[39;49m\u001b[39m.\u001b[39;49mrequest(method, route, params\u001b[39m=\u001b[39;49mrequest_params,\n\u001b[0;32m    <a href='file:///c%3A/Users/Gumo/Desktop/Git/desktop_env/lib/site-packages/tweepy/client.py?line=126'>127</a>\u001b[0m                             json\u001b[39m=\u001b[39;49mjson, user_auth\u001b[39m=\u001b[39;49muser_auth)\n\u001b[0;32m    <a href='file:///c%3A/Users/Gumo/Desktop/Git/desktop_env/lib/site-packages/tweepy/client.py?line=128'>129</a>\u001b[0m     \u001b[39mif\u001b[39;00m \u001b[39mself\u001b[39m\u001b[39m.\u001b[39mreturn_type \u001b[39mis\u001b[39;00m requests\u001b[39m.\u001b[39mResponse:\n\u001b[0;32m    <a href='file:///c%3A/Users/Gumo/Desktop/Git/desktop_env/lib/site-packages/tweepy/client.py?line=129'>130</a>\u001b[0m         \u001b[39mreturn\u001b[39;00m response\n",
      "File \u001b[1;32m~\\Desktop\\Git\\desktop_env\\lib\\site-packages\\tweepy\\client.py:99\u001b[0m, in \u001b[0;36mBaseClient.request\u001b[1;34m(self, method, route, params, json, user_auth)\u001b[0m\n\u001b[0;32m     <a href='file:///c%3A/Users/Gumo/Desktop/Git/desktop_env/lib/site-packages/tweepy/client.py?line=96'>97</a>\u001b[0m     \u001b[39mraise\u001b[39;00m Unauthorized(response)\n\u001b[0;32m     <a href='file:///c%3A/Users/Gumo/Desktop/Git/desktop_env/lib/site-packages/tweepy/client.py?line=97'>98</a>\u001b[0m \u001b[39mif\u001b[39;00m response\u001b[39m.\u001b[39mstatus_code \u001b[39m==\u001b[39m \u001b[39m403\u001b[39m:\n\u001b[1;32m---> <a href='file:///c%3A/Users/Gumo/Desktop/Git/desktop_env/lib/site-packages/tweepy/client.py?line=98'>99</a>\u001b[0m     \u001b[39mraise\u001b[39;00m Forbidden(response)\n\u001b[0;32m    <a href='file:///c%3A/Users/Gumo/Desktop/Git/desktop_env/lib/site-packages/tweepy/client.py?line=99'>100</a>\u001b[0m \u001b[39mif\u001b[39;00m response\u001b[39m.\u001b[39mstatus_code \u001b[39m==\u001b[39m \u001b[39m404\u001b[39m:\n\u001b[0;32m    <a href='file:///c%3A/Users/Gumo/Desktop/Git/desktop_env/lib/site-packages/tweepy/client.py?line=100'>101</a>\u001b[0m     \u001b[39mraise\u001b[39;00m NotFound(response)\n",
      "\u001b[1;31mForbidden\u001b[0m: 403 Forbidden"
     ]
    }
   ],
   "source": [
    "# store responses of query1 in response1\n",
    "response1 = clientBearer.search_all_tweets(query=query1, max_results=10, start_time= \"2022-03-28T12:12:01Z\", end_time='2022-03-27T13:12:01Z',tweet_fields=['id','text', 'created_at','geo','source', 'public_metrics'])\n"
   ]
  },
  {
   "cell_type": "code",
   "execution_count": 80,
   "metadata": {},
   "outputs": [
    {
     "ename": "AttributeError",
     "evalue": "",
     "output_type": "error",
     "traceback": [
      "\u001b[1;31m---------------------------------------------------------------------------\u001b[0m",
      "\u001b[1;31mAttributeError\u001b[0m                            Traceback (most recent call last)",
      "\u001b[1;32mc:\\Users\\Gumo\\Desktop\\Git\\Class\\Project43_Twitter\\Project43_Twitter.ipynb Cell 8'\u001b[0m in \u001b[0;36m<module>\u001b[1;34m\u001b[0m\n\u001b[0;32m      <a href='vscode-notebook-cell:/c%3A/Users/Gumo/Desktop/Git/Class/Project43_Twitter/Project43_Twitter.ipynb#ch0000028?line=0'>1</a>\u001b[0m \u001b[39mfor\u001b[39;00m a \u001b[39min\u001b[39;00m response1\u001b[39m.\u001b[39mdata:\n\u001b[1;32m----> <a href='vscode-notebook-cell:/c%3A/Users/Gumo/Desktop/Git/Class/Project43_Twitter/Project43_Twitter.ipynb#ch0000028?line=1'>2</a>\u001b[0m     \u001b[39mprint\u001b[39m(a\u001b[39m.\u001b[39;49musername)\n",
      "File \u001b[1;32m~\\Desktop\\Git\\desktop_env\\lib\\site-packages\\tweepy\\mixins.py:35\u001b[0m, in \u001b[0;36mDataMapping.__getattr__\u001b[1;34m(self, name)\u001b[0m\n\u001b[0;32m     <a href='file:///c%3A/Users/Gumo/Desktop/Git/desktop_env/lib/site-packages/tweepy/mixins.py?line=32'>33</a>\u001b[0m     \u001b[39mreturn\u001b[39;00m \u001b[39mself\u001b[39m\u001b[39m.\u001b[39mdata[name]\n\u001b[0;32m     <a href='file:///c%3A/Users/Gumo/Desktop/Git/desktop_env/lib/site-packages/tweepy/mixins.py?line=33'>34</a>\u001b[0m \u001b[39mexcept\u001b[39;00m \u001b[39mKeyError\u001b[39;00m:\n\u001b[1;32m---> <a href='file:///c%3A/Users/Gumo/Desktop/Git/desktop_env/lib/site-packages/tweepy/mixins.py?line=34'>35</a>\u001b[0m     \u001b[39mraise\u001b[39;00m \u001b[39mAttributeError\u001b[39;00m \u001b[39mfrom\u001b[39;00m \u001b[39mNone\u001b[39m\n",
      "\u001b[1;31mAttributeError\u001b[0m: "
     ]
    }
   ],
   "source": [
    "for a in response1.data:\n",
    "    print(a.username)"
   ]
  },
  {
   "cell_type": "code",
   "execution_count": 86,
   "metadata": {},
   "outputs": [
    {
     "ename": "TypeError",
     "evalue": "list.count() takes exactly one argument (0 given)",
     "output_type": "error",
     "traceback": [
      "\u001b[1;31m---------------------------------------------------------------------------\u001b[0m",
      "\u001b[1;31mTypeError\u001b[0m                                 Traceback (most recent call last)",
      "\u001b[1;32mc:\\Users\\Gumo\\Desktop\\Git\\Class\\Project43_Twitter\\Project43_Twitter.ipynb Cell 9'\u001b[0m in \u001b[0;36m<module>\u001b[1;34m\u001b[0m\n\u001b[1;32m----> <a href='vscode-notebook-cell:/c%3A/Users/Gumo/Desktop/Git/Class/Project43_Twitter/Project43_Twitter.ipynb#ch0000027?line=0'>1</a>\u001b[0m response1\u001b[39m.\u001b[39;49mdata\u001b[39m.\u001b[39;49mcount()\n",
      "\u001b[1;31mTypeError\u001b[0m: list.count() takes exactly one argument (0 given)"
     ]
    }
   ],
   "source": [
    "response1.data.count()"
   ]
  },
  {
   "cell_type": "code",
   "execution_count": 81,
   "metadata": {},
   "outputs": [
    {
     "data": {
      "text/html": [
       "<div>\n",
       "<style scoped>\n",
       "    .dataframe tbody tr th:only-of-type {\n",
       "        vertical-align: middle;\n",
       "    }\n",
       "\n",
       "    .dataframe tbody tr th {\n",
       "        vertical-align: top;\n",
       "    }\n",
       "\n",
       "    .dataframe thead th {\n",
       "        text-align: right;\n",
       "    }\n",
       "</style>\n",
       "<table border=\"1\" class=\"dataframe\">\n",
       "  <thead>\n",
       "    <tr style=\"text-align: right;\">\n",
       "      <th></th>\n",
       "      <th>userid</th>\n",
       "      <th>text</th>\n",
       "      <th>time</th>\n",
       "      <th>location</th>\n",
       "      <th>source</th>\n",
       "      <th>metrics</th>\n",
       "    </tr>\n",
       "  </thead>\n",
       "  <tbody>\n",
       "    <tr>\n",
       "      <th>0</th>\n",
       "      <td>1517256099862298625</td>\n",
       "      <td>RT @one_girls2: Why are politicians doing noth...</td>\n",
       "      <td>2022-04-21 21:36:58+00:00</td>\n",
       "      <td>None</td>\n",
       "      <td>Twitter for Android</td>\n",
       "      <td>{'retweet_count': 2, 'reply_count': 0, 'like_c...</td>\n",
       "    </tr>\n",
       "    <tr>\n",
       "      <th>1</th>\n",
       "      <td>1517256005574406144</td>\n",
       "      <td>https://t.co/stZv0cooWS\\n#SaveSoil #ClimateCha...</td>\n",
       "      <td>2022-04-21 21:36:35+00:00</td>\n",
       "      <td>{'place_id': '544762ebf7fda780'}</td>\n",
       "      <td>Twitter for Android</td>\n",
       "      <td>{'retweet_count': 0, 'reply_count': 0, 'like_c...</td>\n",
       "    </tr>\n",
       "    <tr>\n",
       "      <th>2</th>\n",
       "      <td>1517255593064546305</td>\n",
       "      <td>RT @one_girls2: Why are politicians doing noth...</td>\n",
       "      <td>2022-04-21 21:34:57+00:00</td>\n",
       "      <td>None</td>\n",
       "      <td>Twitter for iPhone</td>\n",
       "      <td>{'retweet_count': 2, 'reply_count': 0, 'like_c...</td>\n",
       "    </tr>\n",
       "  </tbody>\n",
       "</table>\n",
       "</div>"
      ],
      "text/plain": [
       "                userid                                               text  \\\n",
       "0  1517256099862298625  RT @one_girls2: Why are politicians doing noth...   \n",
       "1  1517256005574406144  https://t.co/stZv0cooWS\\n#SaveSoil #ClimateCha...   \n",
       "2  1517255593064546305  RT @one_girls2: Why are politicians doing noth...   \n",
       "\n",
       "                       time                          location  \\\n",
       "0 2022-04-21 21:36:58+00:00                              None   \n",
       "1 2022-04-21 21:36:35+00:00  {'place_id': '544762ebf7fda780'}   \n",
       "2 2022-04-21 21:34:57+00:00                              None   \n",
       "\n",
       "                source                                            metrics  \n",
       "0  Twitter for Android  {'retweet_count': 2, 'reply_count': 0, 'like_c...  \n",
       "1  Twitter for Android  {'retweet_count': 0, 'reply_count': 0, 'like_c...  \n",
       "2   Twitter for iPhone  {'retweet_count': 2, 'reply_count': 0, 'like_c...  "
      ]
     },
     "execution_count": 81,
     "metadata": {},
     "output_type": "execute_result"
    }
   ],
   "source": [
    "# convert response into list1\n",
    "list1 = [[tweet.id,tweet.text,tweet.created_at,tweet.geo,tweet.source,tweet.public_metrics]for tweet in response1.data]\n",
    "\n",
    "# load to df\n",
    "# df = original df \n",
    "df = pd.DataFrame(data=list1,columns=['userid','text','time','location','source','metrics'])\n",
    "\n",
    "# show df\n",
    "df.head(3)"
   ]
  },
  {
   "cell_type": "code",
   "execution_count": 67,
   "metadata": {},
   "outputs": [
    {
     "data": {
      "text/html": [
       "<div>\n",
       "<style scoped>\n",
       "    .dataframe tbody tr th:only-of-type {\n",
       "        vertical-align: middle;\n",
       "    }\n",
       "\n",
       "    .dataframe tbody tr th {\n",
       "        vertical-align: top;\n",
       "    }\n",
       "\n",
       "    .dataframe thead th {\n",
       "        text-align: right;\n",
       "    }\n",
       "</style>\n",
       "<table border=\"1\" class=\"dataframe\">\n",
       "  <thead>\n",
       "    <tr style=\"text-align: right;\">\n",
       "      <th></th>\n",
       "      <th>userid</th>\n",
       "      <th>text</th>\n",
       "      <th>time</th>\n",
       "      <th>location</th>\n",
       "      <th>source</th>\n",
       "      <th>retweet_count</th>\n",
       "      <th>reply_count</th>\n",
       "      <th>like_count</th>\n",
       "      <th>quote_count</th>\n",
       "    </tr>\n",
       "  </thead>\n",
       "  <tbody>\n",
       "    <tr>\n",
       "      <th>0</th>\n",
       "      <td>1517237775522746369</td>\n",
       "      <td>RT @bbcle: Look at the table and tell us:\\n🌀 W...</td>\n",
       "      <td>2022-04-21 20:24:09+00:00</td>\n",
       "      <td>None</td>\n",
       "      <td>Twitter for Android</td>\n",
       "      <td>23</td>\n",
       "      <td>0</td>\n",
       "      <td>0</td>\n",
       "      <td>0</td>\n",
       "    </tr>\n",
       "    <tr>\n",
       "      <th>1</th>\n",
       "      <td>1517237063745212417</td>\n",
       "      <td>@WorldBank By democratizing access to capital ...</td>\n",
       "      <td>2022-04-21 20:21:19+00:00</td>\n",
       "      <td>None</td>\n",
       "      <td>Twitter for Android</td>\n",
       "      <td>0</td>\n",
       "      <td>0</td>\n",
       "      <td>0</td>\n",
       "      <td>0</td>\n",
       "    </tr>\n",
       "    <tr>\n",
       "      <th>2</th>\n",
       "      <td>1517236747159044096</td>\n",
       "      <td>A Climate Snapshot: March was the fifth hottes...</td>\n",
       "      <td>2022-04-21 20:20:04+00:00</td>\n",
       "      <td>None</td>\n",
       "      <td>dlvr.it</td>\n",
       "      <td>0</td>\n",
       "      <td>0</td>\n",
       "      <td>0</td>\n",
       "      <td>0</td>\n",
       "    </tr>\n",
       "  </tbody>\n",
       "</table>\n",
       "</div>"
      ],
      "text/plain": [
       "                userid                                               text  \\\n",
       "0  1517237775522746369  RT @bbcle: Look at the table and tell us:\\n🌀 W...   \n",
       "1  1517237063745212417  @WorldBank By democratizing access to capital ...   \n",
       "2  1517236747159044096  A Climate Snapshot: March was the fifth hottes...   \n",
       "\n",
       "                       time location               source  retweet_count  \\\n",
       "0 2022-04-21 20:24:09+00:00     None  Twitter for Android             23   \n",
       "1 2022-04-21 20:21:19+00:00     None  Twitter for Android              0   \n",
       "2 2022-04-21 20:20:04+00:00     None              dlvr.it              0   \n",
       "\n",
       "   reply_count  like_count  quote_count  \n",
       "0            0           0            0  \n",
       "1            0           0            0  \n",
       "2            0           0            0  "
      ]
     },
     "execution_count": 67,
     "metadata": {},
     "output_type": "execute_result"
    }
   ],
   "source": [
    "# assign new df for editing\n",
    "df1 = df\n",
    "\n",
    "# extract public metrics into respective columns\n",
    "df1['retweet_count'] = df.metrics.apply(lambda x: list(x.items())[0][1])\n",
    "df1['reply_count'] = df.metrics.apply(lambda x: list(x.items())[1][1])\n",
    "df1['like_count']= df.metrics.apply(lambda x: list(x.items())[2][1])\n",
    "df1['quote_count']= df.metrics.apply(lambda x: list(x.items())[3][1])\n",
    "\n",
    "# drop the metrics since we have extracted it\n",
    "df1 = df1.drop(columns='metrics')\n",
    "\n",
    "#show df\n",
    "df1.head(3)"
   ]
  },
  {
   "cell_type": "markdown",
   "metadata": {},
   "source": [
    "#### cursor"
   ]
  },
  {
   "cell_type": "code",
   "execution_count": 132,
   "metadata": {},
   "outputs": [
    {
     "data": {
      "text/html": [
       "<div>\n",
       "<style scoped>\n",
       "    .dataframe tbody tr th:only-of-type {\n",
       "        vertical-align: middle;\n",
       "    }\n",
       "\n",
       "    .dataframe tbody tr th {\n",
       "        vertical-align: top;\n",
       "    }\n",
       "\n",
       "    .dataframe thead th {\n",
       "        text-align: right;\n",
       "    }\n",
       "</style>\n",
       "<table border=\"1\" class=\"dataframe\">\n",
       "  <thead>\n",
       "    <tr style=\"text-align: right;\">\n",
       "      <th></th>\n",
       "      <th>user</th>\n",
       "      <th>text</th>\n",
       "      <th>time</th>\n",
       "      <th>location</th>\n",
       "      <th>source</th>\n",
       "      <th>like_count</th>\n",
       "      <th>quote_count</th>\n",
       "      <th>reply_count</th>\n",
       "      <th>retweet_count</th>\n",
       "    </tr>\n",
       "  </thead>\n",
       "  <tbody>\n",
       "    <tr>\n",
       "      <th>0</th>\n",
       "      <td>TheKirkieJack</td>\n",
       "      <td>Scorchio south of the Forth today. Bring it on...</td>\n",
       "      <td>2022-03-27 13:00:47+00:00</td>\n",
       "      <td>Edinburgh, Scotland</td>\n",
       "      <td>Twitter for iPhone</td>\n",
       "      <td>3</td>\n",
       "      <td>0</td>\n",
       "      <td>1</td>\n",
       "      <td>0</td>\n",
       "    </tr>\n",
       "    <tr>\n",
       "      <th>1</th>\n",
       "      <td>tcoc_company</td>\n",
       "      <td>it could help to create the conditions for hea...</td>\n",
       "      <td>2022-03-27 13:00:36+00:00</td>\n",
       "      <td>hong kong</td>\n",
       "      <td>Twitter for Android</td>\n",
       "      <td>0</td>\n",
       "      <td>0</td>\n",
       "      <td>0</td>\n",
       "      <td>0</td>\n",
       "    </tr>\n",
       "    <tr>\n",
       "      <th>2</th>\n",
       "      <td>napbot</td>\n",
       "      <td>AQI: 69\\nAdvisory:- Moderate: Air quality is a...</td>\n",
       "      <td>2022-03-27 13:00:30+00:00</td>\n",
       "      <td>Internet</td>\n",
       "      <td>Bot21</td>\n",
       "      <td>1</td>\n",
       "      <td>0</td>\n",
       "      <td>0</td>\n",
       "      <td>3</td>\n",
       "    </tr>\n",
       "  </tbody>\n",
       "</table>\n",
       "</div>"
      ],
      "text/plain": [
       "            user                                               text  \\\n",
       "0  TheKirkieJack  Scorchio south of the Forth today. Bring it on...   \n",
       "1   tcoc_company  it could help to create the conditions for hea...   \n",
       "2         napbot  AQI: 69\\nAdvisory:- Moderate: Air quality is a...   \n",
       "\n",
       "                       time             location               source  \\\n",
       "0 2022-03-27 13:00:47+00:00  Edinburgh, Scotland   Twitter for iPhone   \n",
       "1 2022-03-27 13:00:36+00:00            hong kong  Twitter for Android   \n",
       "2 2022-03-27 13:00:30+00:00             Internet                Bot21   \n",
       "\n",
       "   like_count  quote_count  reply_count  retweet_count  \n",
       "0           3            0            1              0  \n",
       "1           0            0            0              0  \n",
       "2           1            0            0              3  "
      ]
     },
     "execution_count": 132,
     "metadata": {},
     "output_type": "execute_result"
    }
   ],
   "source": [
    "# store search in tweets\n",
    "queryResponse1 = twitterApi.search_30_day(label='30Days',query=query1,fromDate='202203271101',toDate='202203271301',maxResults=10)\n",
    "# items = 5, retrieve 5 tweets\n",
    "\n",
    "# save tweets to list1\n",
    "list1 = [[tweet.user.screen_name,tweet.text,tweet.created_at,tweet.user.location,tweet.source,tweet.favorite_count,tweet.quote_count,tweet.reply_count,tweet.retweet_count]for tweet in queryResponse1]\n",
    "\n",
    "# convert tweet list into dataframe\n",
    "df2 = pd.DataFrame(data=list1,columns=['user','text','time','location','source','like_count','quote_count','reply_count','retweet_count'])\n",
    "df2.head(3)\n"
   ]
  },
  {
   "cell_type": "code",
   "execution_count": 15,
   "metadata": {},
   "outputs": [
    {
     "data": {
      "text/plain": [
       "0    RT PLEASE TAKE TIME TO READ THIS climatechange...\n",
       "1    Crisis Action Emergency MustGo NationalDisgrac...\n",
       "2    What you have done to save our Earth Day2022 s...\n",
       "3    RT Awesome Art To Remind Us That Warming Is Re...\n",
       "4    RT Every Bit Helps Join us to combat global wa...\n",
       "Name: text, dtype: object"
      ]
     },
     "execution_count": 15,
     "metadata": {},
     "output_type": "execute_result"
    }
   ],
   "source": [
    "df1 = df.text.apply(remove_hashtag)\n",
    "df1 = df1.apply(remove_at)\n",
    "df1 = df1.apply(remove_url)\n",
    "df1.head()"
   ]
  },
  {
   "cell_type": "code",
   "execution_count": null,
   "metadata": {},
   "outputs": [],
   "source": []
  }
 ],
 "metadata": {
  "interpreter": {
   "hash": "0fce278cc62e450349c9f30ef0edcfd9302f52e883f37cbf68cb36747bb67127"
  },
  "kernelspec": {
   "display_name": "Python 3.9.6 64-bit ('env_desktop': venv)",
   "language": "python",
   "name": "python3"
  },
  "language_info": {
   "codemirror_mode": {
    "name": "ipython",
    "version": 3
   },
   "file_extension": ".py",
   "mimetype": "text/x-python",
   "name": "python",
   "nbconvert_exporter": "python",
   "pygments_lexer": "ipython3",
   "version": "3.10.2"
  },
  "orig_nbformat": 4
 },
 "nbformat": 4,
 "nbformat_minor": 2
}
