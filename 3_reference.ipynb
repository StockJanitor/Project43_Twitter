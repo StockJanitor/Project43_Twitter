{
 "cells": [
  {
   "cell_type": "code",
   "execution_count": null,
   "metadata": {},
   "outputs": [],
   "source": [
    "'''\n",
    "References\n",
    "Note: ideas and materials may be from following resources:\n",
    "\n",
    "Professor: Angel Hernandez\n",
    "Mt. San Antonio College CIS62 Course Material \n",
    "\n",
    "Kaggle ID: KRITANJALI JAIN\n",
    "https://www.kaggle.com/code/kritanjalijain/twitter-sentiment-analysis-lstm/data?select=Tweets.csv\n",
    "\n",
    "Kaggle ID: MR_KNOWNOTHING \n",
    "https://www.kaggle.com/code/tanulsingh077/deep-learning-for-nlp-zero-to-transformers-bert/notebook#Attention-Models\n",
    "\n",
    "\n",
    "'''"
   ]
  }
 ],
 "metadata": {
  "language_info": {
   "name": "python"
  },
  "orig_nbformat": 4
 },
 "nbformat": 4,
 "nbformat_minor": 2
}
